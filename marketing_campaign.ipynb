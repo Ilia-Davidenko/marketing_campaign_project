{
 "cells": [
  {
   "cell_type": "markdown",
   "id": "b0ec6584",
   "metadata": {},
   "source": [
    "В датасете присутствует расхождение медианных и средних значений по покупке продуктов\n",
    "\n",
    "\n",
    "## Столбцы\n",
    "\n",
    "### Люди\n",
    "\n",
    "__Dt_Customer__ - дата регистрации клиента в компании  \n",
    "__Recency__ - колличество дней с последней покупки  \n",
    "__Complain__ - 1 если клиент жаловался в течении последних двух лет, в остальных случаях 0  \n",
    "\n",
    "### Продукты\n",
    "\n",
    "__MntWines__ - сумма, потраченная на вино за последние 2 года  \n",
    "__MntFruits__ - на фрукты  \n",
    "__MntMeatProducts__ - на мясо  \n",
    "__MntFishProducts__ - на рыбу  \n",
    "__MntSweetProducts__ - на сладкое  \n",
    "__MntGoldProds__ - на золото  \n",
    "\n",
    "### Promo\n",
    "\n",
    "__NumDealsPurchases__ - кол-во покупок сделанных со скидкой  \n",
    "__AcceptedCmp1__ - 1 если клиент принял участие в первой кампании, 0 в других случаях  \n",
    "__AcceptedCmp2__ - во второй кампании  \n",
    "__AcceptedCmp3__ - в третьей кампании  \n",
    "__AcceptedCmp4__ - в четвертой кампании  \n",
    "__AcceptedCmp5__ - в пятой кампании  \n",
    "__Response__ - в последней кампании  \n",
    "\n",
    "### Источник\n",
    "\n",
    "__NumWebPurchases__ - кол-во покупок, сделанных через веб-сайт компании  \n",
    "__NumCatalogPurchases__ - с помощью каталога  \n",
    "__NumStorePurchases__ - в магазине  \n",
    "__NumWebVisitsMonth__ - кол-во посещений сайта за последний месяц  "
   ]
  },
  {
   "cell_type": "code",
   "execution_count": 1,
   "id": "fc03ffde",
   "metadata": {},
   "outputs": [],
   "source": [
    "import pandas as pd\n",
    "import seaborn as sns\n",
    "import matplotlib.pyplot as plt\n",
    "import scipy.stats as st\n",
    "import numpy as np"
   ]
  },
  {
   "cell_type": "code",
   "execution_count": 2,
   "id": "1484d1a9",
   "metadata": {},
   "outputs": [],
   "source": [
    "df = pd.read_csv('marketing_campaign.csv', sep= '\\t')"
   ]
  },
  {
   "cell_type": "code",
   "execution_count": 3,
   "id": "da93b179",
   "metadata": {},
   "outputs": [
    {
     "data": {
      "text/html": [
       "<div>\n",
       "<style scoped>\n",
       "    .dataframe tbody tr th:only-of-type {\n",
       "        vertical-align: middle;\n",
       "    }\n",
       "\n",
       "    .dataframe tbody tr th {\n",
       "        vertical-align: top;\n",
       "    }\n",
       "\n",
       "    .dataframe thead th {\n",
       "        text-align: right;\n",
       "    }\n",
       "</style>\n",
       "<table border=\"1\" class=\"dataframe\">\n",
       "  <thead>\n",
       "    <tr style=\"text-align: right;\">\n",
       "      <th></th>\n",
       "      <th>ID</th>\n",
       "      <th>Year_Birth</th>\n",
       "      <th>Education</th>\n",
       "      <th>Marital_Status</th>\n",
       "      <th>Income</th>\n",
       "      <th>Kidhome</th>\n",
       "      <th>Teenhome</th>\n",
       "      <th>Dt_Customer</th>\n",
       "      <th>Recency</th>\n",
       "      <th>MntWines</th>\n",
       "      <th>...</th>\n",
       "      <th>NumWebVisitsMonth</th>\n",
       "      <th>AcceptedCmp3</th>\n",
       "      <th>AcceptedCmp4</th>\n",
       "      <th>AcceptedCmp5</th>\n",
       "      <th>AcceptedCmp1</th>\n",
       "      <th>AcceptedCmp2</th>\n",
       "      <th>Complain</th>\n",
       "      <th>Z_CostContact</th>\n",
       "      <th>Z_Revenue</th>\n",
       "      <th>Response</th>\n",
       "    </tr>\n",
       "  </thead>\n",
       "  <tbody>\n",
       "    <tr>\n",
       "      <th>0</th>\n",
       "      <td>5524</td>\n",
       "      <td>1957</td>\n",
       "      <td>Graduation</td>\n",
       "      <td>Single</td>\n",
       "      <td>58138.0</td>\n",
       "      <td>0</td>\n",
       "      <td>0</td>\n",
       "      <td>04-09-2012</td>\n",
       "      <td>58</td>\n",
       "      <td>635</td>\n",
       "      <td>...</td>\n",
       "      <td>7</td>\n",
       "      <td>0</td>\n",
       "      <td>0</td>\n",
       "      <td>0</td>\n",
       "      <td>0</td>\n",
       "      <td>0</td>\n",
       "      <td>0</td>\n",
       "      <td>3</td>\n",
       "      <td>11</td>\n",
       "      <td>1</td>\n",
       "    </tr>\n",
       "    <tr>\n",
       "      <th>1</th>\n",
       "      <td>2174</td>\n",
       "      <td>1954</td>\n",
       "      <td>Graduation</td>\n",
       "      <td>Single</td>\n",
       "      <td>46344.0</td>\n",
       "      <td>1</td>\n",
       "      <td>1</td>\n",
       "      <td>08-03-2014</td>\n",
       "      <td>38</td>\n",
       "      <td>11</td>\n",
       "      <td>...</td>\n",
       "      <td>5</td>\n",
       "      <td>0</td>\n",
       "      <td>0</td>\n",
       "      <td>0</td>\n",
       "      <td>0</td>\n",
       "      <td>0</td>\n",
       "      <td>0</td>\n",
       "      <td>3</td>\n",
       "      <td>11</td>\n",
       "      <td>0</td>\n",
       "    </tr>\n",
       "    <tr>\n",
       "      <th>2</th>\n",
       "      <td>4141</td>\n",
       "      <td>1965</td>\n",
       "      <td>Graduation</td>\n",
       "      <td>Together</td>\n",
       "      <td>71613.0</td>\n",
       "      <td>0</td>\n",
       "      <td>0</td>\n",
       "      <td>21-08-2013</td>\n",
       "      <td>26</td>\n",
       "      <td>426</td>\n",
       "      <td>...</td>\n",
       "      <td>4</td>\n",
       "      <td>0</td>\n",
       "      <td>0</td>\n",
       "      <td>0</td>\n",
       "      <td>0</td>\n",
       "      <td>0</td>\n",
       "      <td>0</td>\n",
       "      <td>3</td>\n",
       "      <td>11</td>\n",
       "      <td>0</td>\n",
       "    </tr>\n",
       "    <tr>\n",
       "      <th>3</th>\n",
       "      <td>6182</td>\n",
       "      <td>1984</td>\n",
       "      <td>Graduation</td>\n",
       "      <td>Together</td>\n",
       "      <td>26646.0</td>\n",
       "      <td>1</td>\n",
       "      <td>0</td>\n",
       "      <td>10-02-2014</td>\n",
       "      <td>26</td>\n",
       "      <td>11</td>\n",
       "      <td>...</td>\n",
       "      <td>6</td>\n",
       "      <td>0</td>\n",
       "      <td>0</td>\n",
       "      <td>0</td>\n",
       "      <td>0</td>\n",
       "      <td>0</td>\n",
       "      <td>0</td>\n",
       "      <td>3</td>\n",
       "      <td>11</td>\n",
       "      <td>0</td>\n",
       "    </tr>\n",
       "    <tr>\n",
       "      <th>4</th>\n",
       "      <td>5324</td>\n",
       "      <td>1981</td>\n",
       "      <td>PhD</td>\n",
       "      <td>Married</td>\n",
       "      <td>58293.0</td>\n",
       "      <td>1</td>\n",
       "      <td>0</td>\n",
       "      <td>19-01-2014</td>\n",
       "      <td>94</td>\n",
       "      <td>173</td>\n",
       "      <td>...</td>\n",
       "      <td>5</td>\n",
       "      <td>0</td>\n",
       "      <td>0</td>\n",
       "      <td>0</td>\n",
       "      <td>0</td>\n",
       "      <td>0</td>\n",
       "      <td>0</td>\n",
       "      <td>3</td>\n",
       "      <td>11</td>\n",
       "      <td>0</td>\n",
       "    </tr>\n",
       "  </tbody>\n",
       "</table>\n",
       "<p>5 rows × 29 columns</p>\n",
       "</div>"
      ],
      "text/plain": [
       "     ID  Year_Birth   Education Marital_Status   Income  Kidhome  Teenhome  \\\n",
       "0  5524        1957  Graduation         Single  58138.0        0         0   \n",
       "1  2174        1954  Graduation         Single  46344.0        1         1   \n",
       "2  4141        1965  Graduation       Together  71613.0        0         0   \n",
       "3  6182        1984  Graduation       Together  26646.0        1         0   \n",
       "4  5324        1981         PhD        Married  58293.0        1         0   \n",
       "\n",
       "  Dt_Customer  Recency  MntWines  ...  NumWebVisitsMonth  AcceptedCmp3  \\\n",
       "0  04-09-2012       58       635  ...                  7             0   \n",
       "1  08-03-2014       38        11  ...                  5             0   \n",
       "2  21-08-2013       26       426  ...                  4             0   \n",
       "3  10-02-2014       26        11  ...                  6             0   \n",
       "4  19-01-2014       94       173  ...                  5             0   \n",
       "\n",
       "   AcceptedCmp4  AcceptedCmp5  AcceptedCmp1  AcceptedCmp2  Complain  \\\n",
       "0             0             0             0             0         0   \n",
       "1             0             0             0             0         0   \n",
       "2             0             0             0             0         0   \n",
       "3             0             0             0             0         0   \n",
       "4             0             0             0             0         0   \n",
       "\n",
       "   Z_CostContact  Z_Revenue  Response  \n",
       "0              3         11         1  \n",
       "1              3         11         0  \n",
       "2              3         11         0  \n",
       "3              3         11         0  \n",
       "4              3         11         0  \n",
       "\n",
       "[5 rows x 29 columns]"
      ]
     },
     "execution_count": 3,
     "metadata": {},
     "output_type": "execute_result"
    }
   ],
   "source": [
    "df.head()"
   ]
  },
  {
   "cell_type": "code",
   "execution_count": 4,
   "id": "9ea0b2bd",
   "metadata": {},
   "outputs": [
    {
     "name": "stdout",
     "output_type": "stream",
     "text": [
      "<class 'pandas.core.frame.DataFrame'>\n",
      "RangeIndex: 2240 entries, 0 to 2239\n",
      "Data columns (total 29 columns):\n",
      " #   Column               Non-Null Count  Dtype  \n",
      "---  ------               --------------  -----  \n",
      " 0   ID                   2240 non-null   int64  \n",
      " 1   Year_Birth           2240 non-null   int64  \n",
      " 2   Education            2240 non-null   object \n",
      " 3   Marital_Status       2240 non-null   object \n",
      " 4   Income               2216 non-null   float64\n",
      " 5   Kidhome              2240 non-null   int64  \n",
      " 6   Teenhome             2240 non-null   int64  \n",
      " 7   Dt_Customer          2240 non-null   object \n",
      " 8   Recency              2240 non-null   int64  \n",
      " 9   MntWines             2240 non-null   int64  \n",
      " 10  MntFruits            2240 non-null   int64  \n",
      " 11  MntMeatProducts      2240 non-null   int64  \n",
      " 12  MntFishProducts      2240 non-null   int64  \n",
      " 13  MntSweetProducts     2240 non-null   int64  \n",
      " 14  MntGoldProds         2240 non-null   int64  \n",
      " 15  NumDealsPurchases    2240 non-null   int64  \n",
      " 16  NumWebPurchases      2240 non-null   int64  \n",
      " 17  NumCatalogPurchases  2240 non-null   int64  \n",
      " 18  NumStorePurchases    2240 non-null   int64  \n",
      " 19  NumWebVisitsMonth    2240 non-null   int64  \n",
      " 20  AcceptedCmp3         2240 non-null   int64  \n",
      " 21  AcceptedCmp4         2240 non-null   int64  \n",
      " 22  AcceptedCmp5         2240 non-null   int64  \n",
      " 23  AcceptedCmp1         2240 non-null   int64  \n",
      " 24  AcceptedCmp2         2240 non-null   int64  \n",
      " 25  Complain             2240 non-null   int64  \n",
      " 26  Z_CostContact        2240 non-null   int64  \n",
      " 27  Z_Revenue            2240 non-null   int64  \n",
      " 28  Response             2240 non-null   int64  \n",
      "dtypes: float64(1), int64(25), object(3)\n",
      "memory usage: 507.6+ KB\n"
     ]
    }
   ],
   "source": [
    "df.info()"
   ]
  },
  {
   "cell_type": "code",
   "execution_count": 5,
   "id": "1e317f38",
   "metadata": {},
   "outputs": [
    {
     "data": {
      "text/html": [
       "<div>\n",
       "<style scoped>\n",
       "    .dataframe tbody tr th:only-of-type {\n",
       "        vertical-align: middle;\n",
       "    }\n",
       "\n",
       "    .dataframe tbody tr th {\n",
       "        vertical-align: top;\n",
       "    }\n",
       "\n",
       "    .dataframe thead th {\n",
       "        text-align: right;\n",
       "    }\n",
       "</style>\n",
       "<table border=\"1\" class=\"dataframe\">\n",
       "  <thead>\n",
       "    <tr style=\"text-align: right;\">\n",
       "      <th></th>\n",
       "      <th>ID</th>\n",
       "      <th>Year_Birth</th>\n",
       "      <th>Income</th>\n",
       "      <th>Kidhome</th>\n",
       "      <th>Teenhome</th>\n",
       "      <th>Recency</th>\n",
       "      <th>MntWines</th>\n",
       "      <th>MntFruits</th>\n",
       "      <th>MntMeatProducts</th>\n",
       "      <th>MntFishProducts</th>\n",
       "      <th>...</th>\n",
       "      <th>NumWebVisitsMonth</th>\n",
       "      <th>AcceptedCmp3</th>\n",
       "      <th>AcceptedCmp4</th>\n",
       "      <th>AcceptedCmp5</th>\n",
       "      <th>AcceptedCmp1</th>\n",
       "      <th>AcceptedCmp2</th>\n",
       "      <th>Complain</th>\n",
       "      <th>Z_CostContact</th>\n",
       "      <th>Z_Revenue</th>\n",
       "      <th>Response</th>\n",
       "    </tr>\n",
       "  </thead>\n",
       "  <tbody>\n",
       "    <tr>\n",
       "      <th>count</th>\n",
       "      <td>2240.000000</td>\n",
       "      <td>2240.000000</td>\n",
       "      <td>2216.000000</td>\n",
       "      <td>2240.000000</td>\n",
       "      <td>2240.000000</td>\n",
       "      <td>2240.000000</td>\n",
       "      <td>2240.000000</td>\n",
       "      <td>2240.000000</td>\n",
       "      <td>2240.000000</td>\n",
       "      <td>2240.000000</td>\n",
       "      <td>...</td>\n",
       "      <td>2240.000000</td>\n",
       "      <td>2240.000000</td>\n",
       "      <td>2240.000000</td>\n",
       "      <td>2240.000000</td>\n",
       "      <td>2240.000000</td>\n",
       "      <td>2240.000000</td>\n",
       "      <td>2240.000000</td>\n",
       "      <td>2240.0</td>\n",
       "      <td>2240.0</td>\n",
       "      <td>2240.000000</td>\n",
       "    </tr>\n",
       "    <tr>\n",
       "      <th>mean</th>\n",
       "      <td>5592.159821</td>\n",
       "      <td>1968.805804</td>\n",
       "      <td>52247.251354</td>\n",
       "      <td>0.444196</td>\n",
       "      <td>0.506250</td>\n",
       "      <td>49.109375</td>\n",
       "      <td>303.935714</td>\n",
       "      <td>26.302232</td>\n",
       "      <td>166.950000</td>\n",
       "      <td>37.525446</td>\n",
       "      <td>...</td>\n",
       "      <td>5.316518</td>\n",
       "      <td>0.072768</td>\n",
       "      <td>0.074554</td>\n",
       "      <td>0.072768</td>\n",
       "      <td>0.064286</td>\n",
       "      <td>0.013393</td>\n",
       "      <td>0.009375</td>\n",
       "      <td>3.0</td>\n",
       "      <td>11.0</td>\n",
       "      <td>0.149107</td>\n",
       "    </tr>\n",
       "    <tr>\n",
       "      <th>std</th>\n",
       "      <td>3246.662198</td>\n",
       "      <td>11.984069</td>\n",
       "      <td>25173.076661</td>\n",
       "      <td>0.538398</td>\n",
       "      <td>0.544538</td>\n",
       "      <td>28.962453</td>\n",
       "      <td>336.597393</td>\n",
       "      <td>39.773434</td>\n",
       "      <td>225.715373</td>\n",
       "      <td>54.628979</td>\n",
       "      <td>...</td>\n",
       "      <td>2.426645</td>\n",
       "      <td>0.259813</td>\n",
       "      <td>0.262728</td>\n",
       "      <td>0.259813</td>\n",
       "      <td>0.245316</td>\n",
       "      <td>0.114976</td>\n",
       "      <td>0.096391</td>\n",
       "      <td>0.0</td>\n",
       "      <td>0.0</td>\n",
       "      <td>0.356274</td>\n",
       "    </tr>\n",
       "    <tr>\n",
       "      <th>min</th>\n",
       "      <td>0.000000</td>\n",
       "      <td>1893.000000</td>\n",
       "      <td>1730.000000</td>\n",
       "      <td>0.000000</td>\n",
       "      <td>0.000000</td>\n",
       "      <td>0.000000</td>\n",
       "      <td>0.000000</td>\n",
       "      <td>0.000000</td>\n",
       "      <td>0.000000</td>\n",
       "      <td>0.000000</td>\n",
       "      <td>...</td>\n",
       "      <td>0.000000</td>\n",
       "      <td>0.000000</td>\n",
       "      <td>0.000000</td>\n",
       "      <td>0.000000</td>\n",
       "      <td>0.000000</td>\n",
       "      <td>0.000000</td>\n",
       "      <td>0.000000</td>\n",
       "      <td>3.0</td>\n",
       "      <td>11.0</td>\n",
       "      <td>0.000000</td>\n",
       "    </tr>\n",
       "    <tr>\n",
       "      <th>25%</th>\n",
       "      <td>2828.250000</td>\n",
       "      <td>1959.000000</td>\n",
       "      <td>35303.000000</td>\n",
       "      <td>0.000000</td>\n",
       "      <td>0.000000</td>\n",
       "      <td>24.000000</td>\n",
       "      <td>23.750000</td>\n",
       "      <td>1.000000</td>\n",
       "      <td>16.000000</td>\n",
       "      <td>3.000000</td>\n",
       "      <td>...</td>\n",
       "      <td>3.000000</td>\n",
       "      <td>0.000000</td>\n",
       "      <td>0.000000</td>\n",
       "      <td>0.000000</td>\n",
       "      <td>0.000000</td>\n",
       "      <td>0.000000</td>\n",
       "      <td>0.000000</td>\n",
       "      <td>3.0</td>\n",
       "      <td>11.0</td>\n",
       "      <td>0.000000</td>\n",
       "    </tr>\n",
       "    <tr>\n",
       "      <th>50%</th>\n",
       "      <td>5458.500000</td>\n",
       "      <td>1970.000000</td>\n",
       "      <td>51381.500000</td>\n",
       "      <td>0.000000</td>\n",
       "      <td>0.000000</td>\n",
       "      <td>49.000000</td>\n",
       "      <td>173.500000</td>\n",
       "      <td>8.000000</td>\n",
       "      <td>67.000000</td>\n",
       "      <td>12.000000</td>\n",
       "      <td>...</td>\n",
       "      <td>6.000000</td>\n",
       "      <td>0.000000</td>\n",
       "      <td>0.000000</td>\n",
       "      <td>0.000000</td>\n",
       "      <td>0.000000</td>\n",
       "      <td>0.000000</td>\n",
       "      <td>0.000000</td>\n",
       "      <td>3.0</td>\n",
       "      <td>11.0</td>\n",
       "      <td>0.000000</td>\n",
       "    </tr>\n",
       "    <tr>\n",
       "      <th>75%</th>\n",
       "      <td>8427.750000</td>\n",
       "      <td>1977.000000</td>\n",
       "      <td>68522.000000</td>\n",
       "      <td>1.000000</td>\n",
       "      <td>1.000000</td>\n",
       "      <td>74.000000</td>\n",
       "      <td>504.250000</td>\n",
       "      <td>33.000000</td>\n",
       "      <td>232.000000</td>\n",
       "      <td>50.000000</td>\n",
       "      <td>...</td>\n",
       "      <td>7.000000</td>\n",
       "      <td>0.000000</td>\n",
       "      <td>0.000000</td>\n",
       "      <td>0.000000</td>\n",
       "      <td>0.000000</td>\n",
       "      <td>0.000000</td>\n",
       "      <td>0.000000</td>\n",
       "      <td>3.0</td>\n",
       "      <td>11.0</td>\n",
       "      <td>0.000000</td>\n",
       "    </tr>\n",
       "    <tr>\n",
       "      <th>max</th>\n",
       "      <td>11191.000000</td>\n",
       "      <td>1996.000000</td>\n",
       "      <td>666666.000000</td>\n",
       "      <td>2.000000</td>\n",
       "      <td>2.000000</td>\n",
       "      <td>99.000000</td>\n",
       "      <td>1493.000000</td>\n",
       "      <td>199.000000</td>\n",
       "      <td>1725.000000</td>\n",
       "      <td>259.000000</td>\n",
       "      <td>...</td>\n",
       "      <td>20.000000</td>\n",
       "      <td>1.000000</td>\n",
       "      <td>1.000000</td>\n",
       "      <td>1.000000</td>\n",
       "      <td>1.000000</td>\n",
       "      <td>1.000000</td>\n",
       "      <td>1.000000</td>\n",
       "      <td>3.0</td>\n",
       "      <td>11.0</td>\n",
       "      <td>1.000000</td>\n",
       "    </tr>\n",
       "  </tbody>\n",
       "</table>\n",
       "<p>8 rows × 26 columns</p>\n",
       "</div>"
      ],
      "text/plain": [
       "                 ID   Year_Birth         Income      Kidhome     Teenhome  \\\n",
       "count   2240.000000  2240.000000    2216.000000  2240.000000  2240.000000   \n",
       "mean    5592.159821  1968.805804   52247.251354     0.444196     0.506250   \n",
       "std     3246.662198    11.984069   25173.076661     0.538398     0.544538   \n",
       "min        0.000000  1893.000000    1730.000000     0.000000     0.000000   \n",
       "25%     2828.250000  1959.000000   35303.000000     0.000000     0.000000   \n",
       "50%     5458.500000  1970.000000   51381.500000     0.000000     0.000000   \n",
       "75%     8427.750000  1977.000000   68522.000000     1.000000     1.000000   \n",
       "max    11191.000000  1996.000000  666666.000000     2.000000     2.000000   \n",
       "\n",
       "           Recency     MntWines    MntFruits  MntMeatProducts  \\\n",
       "count  2240.000000  2240.000000  2240.000000      2240.000000   \n",
       "mean     49.109375   303.935714    26.302232       166.950000   \n",
       "std      28.962453   336.597393    39.773434       225.715373   \n",
       "min       0.000000     0.000000     0.000000         0.000000   \n",
       "25%      24.000000    23.750000     1.000000        16.000000   \n",
       "50%      49.000000   173.500000     8.000000        67.000000   \n",
       "75%      74.000000   504.250000    33.000000       232.000000   \n",
       "max      99.000000  1493.000000   199.000000      1725.000000   \n",
       "\n",
       "       MntFishProducts  ...  NumWebVisitsMonth  AcceptedCmp3  AcceptedCmp4  \\\n",
       "count      2240.000000  ...        2240.000000   2240.000000   2240.000000   \n",
       "mean         37.525446  ...           5.316518      0.072768      0.074554   \n",
       "std          54.628979  ...           2.426645      0.259813      0.262728   \n",
       "min           0.000000  ...           0.000000      0.000000      0.000000   \n",
       "25%           3.000000  ...           3.000000      0.000000      0.000000   \n",
       "50%          12.000000  ...           6.000000      0.000000      0.000000   \n",
       "75%          50.000000  ...           7.000000      0.000000      0.000000   \n",
       "max         259.000000  ...          20.000000      1.000000      1.000000   \n",
       "\n",
       "       AcceptedCmp5  AcceptedCmp1  AcceptedCmp2     Complain  Z_CostContact  \\\n",
       "count   2240.000000   2240.000000   2240.000000  2240.000000         2240.0   \n",
       "mean       0.072768      0.064286      0.013393     0.009375            3.0   \n",
       "std        0.259813      0.245316      0.114976     0.096391            0.0   \n",
       "min        0.000000      0.000000      0.000000     0.000000            3.0   \n",
       "25%        0.000000      0.000000      0.000000     0.000000            3.0   \n",
       "50%        0.000000      0.000000      0.000000     0.000000            3.0   \n",
       "75%        0.000000      0.000000      0.000000     0.000000            3.0   \n",
       "max        1.000000      1.000000      1.000000     1.000000            3.0   \n",
       "\n",
       "       Z_Revenue     Response  \n",
       "count     2240.0  2240.000000  \n",
       "mean        11.0     0.149107  \n",
       "std          0.0     0.356274  \n",
       "min         11.0     0.000000  \n",
       "25%         11.0     0.000000  \n",
       "50%         11.0     0.000000  \n",
       "75%         11.0     0.000000  \n",
       "max         11.0     1.000000  \n",
       "\n",
       "[8 rows x 26 columns]"
      ]
     },
     "execution_count": 5,
     "metadata": {},
     "output_type": "execute_result"
    }
   ],
   "source": [
    "df.describe()"
   ]
  },
  {
   "cell_type": "code",
   "execution_count": 6,
   "id": "5eb384d3",
   "metadata": {},
   "outputs": [
    {
     "data": {
      "text/plain": [
       "2240"
      ]
     },
     "execution_count": 6,
     "metadata": {},
     "output_type": "execute_result"
    }
   ],
   "source": [
    "df['ID'].nunique()"
   ]
  },
  {
   "cell_type": "markdown",
   "id": "0a83e5cd",
   "metadata": {},
   "source": [
    "### Исследование кампаний на колличество участников"
   ]
  },
  {
   "cell_type": "code",
   "execution_count": 7,
   "id": "58b17c9c",
   "metadata": {},
   "outputs": [
    {
     "data": {
      "text/plain": [
       "0    0.935714\n",
       "1    0.064286\n",
       "Name: AcceptedCmp1, dtype: float64"
      ]
     },
     "execution_count": 7,
     "metadata": {},
     "output_type": "execute_result"
    }
   ],
   "source": [
    "df['AcceptedCmp1'].value_counts(normalize= True)"
   ]
  },
  {
   "cell_type": "code",
   "execution_count": 8,
   "id": "bfa81bc6",
   "metadata": {},
   "outputs": [
    {
     "data": {
      "text/plain": [
       "0    0.986607\n",
       "1    0.013393\n",
       "Name: AcceptedCmp2, dtype: float64"
      ]
     },
     "execution_count": 8,
     "metadata": {},
     "output_type": "execute_result"
    }
   ],
   "source": [
    "df['AcceptedCmp2'].value_counts(normalize= True)"
   ]
  },
  {
   "cell_type": "code",
   "execution_count": 9,
   "id": "453c5374",
   "metadata": {},
   "outputs": [
    {
     "data": {
      "text/plain": [
       "0    0.927232\n",
       "1    0.072768\n",
       "Name: AcceptedCmp3, dtype: float64"
      ]
     },
     "execution_count": 9,
     "metadata": {},
     "output_type": "execute_result"
    }
   ],
   "source": [
    "df['AcceptedCmp3'].value_counts(normalize= True)"
   ]
  },
  {
   "cell_type": "code",
   "execution_count": 10,
   "id": "0a36323b",
   "metadata": {},
   "outputs": [
    {
     "data": {
      "text/plain": [
       "0    0.925446\n",
       "1    0.074554\n",
       "Name: AcceptedCmp4, dtype: float64"
      ]
     },
     "execution_count": 10,
     "metadata": {},
     "output_type": "execute_result"
    }
   ],
   "source": [
    "df['AcceptedCmp4'].value_counts(normalize= True)"
   ]
  },
  {
   "cell_type": "code",
   "execution_count": 11,
   "id": "815a0474",
   "metadata": {},
   "outputs": [
    {
     "data": {
      "text/plain": [
       "0    0.927232\n",
       "1    0.072768\n",
       "Name: AcceptedCmp5, dtype: float64"
      ]
     },
     "execution_count": 11,
     "metadata": {},
     "output_type": "execute_result"
    }
   ],
   "source": [
    "df['AcceptedCmp5'].value_counts(normalize= True)"
   ]
  },
  {
   "cell_type": "code",
   "execution_count": 12,
   "id": "5b820e94",
   "metadata": {},
   "outputs": [
    {
     "data": {
      "text/plain": [
       "0    0.850893\n",
       "1    0.149107\n",
       "Name: Response, dtype: float64"
      ]
     },
     "execution_count": 12,
     "metadata": {},
     "output_type": "execute_result"
    }
   ],
   "source": [
    "df['Response'].value_counts(normalize= True)"
   ]
  },
  {
   "cell_type": "markdown",
   "id": "5e58f565",
   "metadata": {},
   "source": [
    "### Промежуточные выводы\n",
    "\n",
    "в кампаниях участвовал очень маленький процент клиентов, дальнейшие исследования не показательны"
   ]
  },
  {
   "cell_type": "code",
   "execution_count": 13,
   "id": "bd05eec8",
   "metadata": {},
   "outputs": [
    {
     "data": {
      "text/plain": [
       "Graduation    0.503125\n",
       "PhD           0.216964\n",
       "Master        0.165179\n",
       "2n Cycle      0.090625\n",
       "Basic         0.024107\n",
       "Name: Education, dtype: float64"
      ]
     },
     "execution_count": 13,
     "metadata": {},
     "output_type": "execute_result"
    }
   ],
   "source": [
    "df['Education'].value_counts(normalize= True) # Распределение клиентов по уровню образования"
   ]
  },
  {
   "cell_type": "code",
   "execution_count": 14,
   "id": "0810a50a",
   "metadata": {},
   "outputs": [
    {
     "data": {
      "text/plain": [
       "1     970\n",
       "2     497\n",
       "3     297\n",
       "4     189\n",
       "5      94\n",
       "6      61\n",
       "0      46\n",
       "7      40\n",
       "8      14\n",
       "9       8\n",
       "15      7\n",
       "10      5\n",
       "11      5\n",
       "12      4\n",
       "13      3\n",
       "Name: NumDealsPurchases, dtype: int64"
      ]
     },
     "execution_count": 14,
     "metadata": {},
     "output_type": "execute_result"
    }
   ],
   "source": [
    "df['NumDealsPurchases'].value_counts() # Распределение клиентов по количеству покупок со скидкой"
   ]
  },
  {
   "cell_type": "code",
   "execution_count": 15,
   "id": "01c386be",
   "metadata": {},
   "outputs": [
    {
     "data": {
      "text/plain": [
       "Married     864\n",
       "Together    580\n",
       "Single      480\n",
       "Divorced    232\n",
       "Widow        77\n",
       "Alone         3\n",
       "Absurd        2\n",
       "YOLO          2\n",
       "Name: Marital_Status, dtype: int64"
      ]
     },
     "execution_count": 15,
     "metadata": {},
     "output_type": "execute_result"
    }
   ],
   "source": [
    "df['Marital_Status'].value_counts() # Распределение клиентов по семейному статусу"
   ]
  },
  {
   "cell_type": "code",
   "execution_count": 16,
   "id": "ad7913f7",
   "metadata": {},
   "outputs": [],
   "source": [
    "df = df[(df['Marital_Status'] != 'Alone') & (df['Marital_Status'] != 'Absurd') & (df['Marital_Status'] != 'YOLO')]"
   ]
  },
  {
   "cell_type": "markdown",
   "id": "b483a50c",
   "metadata": {},
   "source": [
    "### Изменение датасета\n",
    "\n",
    "Были удалены 7 строк с данными по столбцу Marital_Status: Alone, Absurd, YOLO"
   ]
  },
  {
   "cell_type": "code",
   "execution_count": 17,
   "id": "efd56947",
   "metadata": {},
   "outputs": [
    {
     "data": {
      "text/plain": [
       "<AxesSubplot:>"
      ]
     },
     "execution_count": 17,
     "metadata": {},
     "output_type": "execute_result"
    },
    {
     "data": {
      "image/png": "[encoded data removed]",
      "text/plain": [
       "<Figure size 432x288 with 1 Axes>"
      ]
     },
     "metadata": {
      "needs_background": "light"
     },
     "output_type": "display_data"
    }
   ],
   "source": [
    "df['Income'].hist() # гистограмма доходов"
   ]
  },
  {
   "cell_type": "code",
   "execution_count": 18,
   "id": "d94d1dbf",
   "metadata": {},
   "outputs": [],
   "source": [
    "df = df[df['Income'] < 150000]"
   ]
  },
  {
   "cell_type": "markdown",
   "id": "a8da6105",
   "metadata": {},
   "source": [
    "### Изменение датасета\n",
    "\n",
    "удалил строки с доходом свыше 150 000, удалено 5 значений, которые сильно выбивались из общей картины"
   ]
  },
  {
   "cell_type": "code",
   "execution_count": 19,
   "id": "26fa8e36",
   "metadata": {},
   "outputs": [
    {
     "data": {
      "text/plain": [
       "0    1274\n",
       "1     881\n",
       "2      46\n",
       "Name: Kidhome, dtype: int64"
      ]
     },
     "execution_count": 19,
     "metadata": {},
     "output_type": "execute_result"
    }
   ],
   "source": [
    "df['Kidhome'].value_counts() # распределение клиентов по количеству детей"
   ]
  },
  {
   "cell_type": "code",
   "execution_count": 20,
   "id": "48e0c946",
   "metadata": {},
   "outputs": [
    {
     "data": {
      "text/plain": [
       "0    1138\n",
       "1    1012\n",
       "2      51\n",
       "Name: Teenhome, dtype: int64"
      ]
     },
     "execution_count": 20,
     "metadata": {},
     "output_type": "execute_result"
    }
   ],
   "source": [
    "df['Teenhome'].value_counts() # распределение клиентов по количеству детей-подростков"
   ]
  },
  {
   "cell_type": "code",
   "execution_count": 21,
   "id": "2a3c9917",
   "metadata": {},
   "outputs": [
    {
     "data": {
      "text/plain": [
       "<AxesSubplot:>"
      ]
     },
     "execution_count": 21,
     "metadata": {},
     "output_type": "execute_result"
    },
    {
     "data": {
      "image/png": "[encoded data removed]",
      "text/plain": [
       "<Figure size 432x288 with 1 Axes>"
      ]
     },
     "metadata": {
      "needs_background": "light"
     },
     "output_type": "display_data"
    }
   ],
   "source": [
    "df['MntWines'].hist() # распределение суммы потраченной на вино за последние 2 года"
   ]
  },
  {
   "cell_type": "code",
   "execution_count": 22,
   "id": "dce83486",
   "metadata": {},
   "outputs": [
    {
     "name": "stderr",
     "output_type": "stream",
     "text": [
      "/Users/smile/opt/anaconda3/lib/python3.9/site-packages/seaborn/_decorators.py:36: FutureWarning: Pass the following variable as a keyword arg: x. From version 0.12, the only valid positional argument will be `data`, and passing other arguments without an explicit keyword will result in an error or misinterpretation.\n",
      "  warnings.warn(\n"
     ]
    },
    {
     "data": {
      "text/plain": [
       "<AxesSubplot:xlabel='MntWines'>"
      ]
     },
     "execution_count": 22,
     "metadata": {},
     "output_type": "execute_result"
    },
    {
     "data": {
      "image/png": "[encoded data removed]",
      "text/plain": [
       "<Figure size 432x288 with 1 Axes>"
      ]
     },
     "metadata": {
      "needs_background": "light"
     },
     "output_type": "display_data"
    }
   ],
   "source": [
    "sns.boxplot(df['MntWines'])"
   ]
  },
  {
   "cell_type": "code",
   "execution_count": 23,
   "id": "a786e64a",
   "metadata": {},
   "outputs": [
    {
     "data": {
      "text/plain": [
       "<AxesSubplot:>"
      ]
     },
     "execution_count": 23,
     "metadata": {},
     "output_type": "execute_result"
    },
    {
     "data": {
      "image/png": "[encoded data removed]",
      "text/plain": [
       "<Figure size 432x288 with 1 Axes>"
      ]
     },
     "metadata": {
      "needs_background": "light"
     },
     "output_type": "display_data"
    }
   ],
   "source": [
    "df['MntFruits'].hist() # распределение суммы потраченной на фрукты за последние 2 года"
   ]
  },
  {
   "cell_type": "code",
   "execution_count": 24,
   "id": "c64c02fc",
   "metadata": {},
   "outputs": [
    {
     "name": "stderr",
     "output_type": "stream",
     "text": [
      "/Users/smile/opt/anaconda3/lib/python3.9/site-packages/seaborn/_decorators.py:36: FutureWarning: Pass the following variable as a keyword arg: x. From version 0.12, the only valid positional argument will be `data`, and passing other arguments without an explicit keyword will result in an error or misinterpretation.\n",
      "  warnings.warn(\n"
     ]
    },
    {
     "data": {
      "text/plain": [
       "<AxesSubplot:xlabel='MntFruits'>"
      ]
     },
     "execution_count": 24,
     "metadata": {},
     "output_type": "execute_result"
    },
    {
     "data": {
      "image/png": "[encoded data removed]",
      "text/plain": [
       "<Figure size 432x288 with 1 Axes>"
      ]
     },
     "metadata": {
      "needs_background": "light"
     },
     "output_type": "display_data"
    }
   ],
   "source": [
    "sns.boxplot(df['MntFruits'])"
   ]
  },
  {
   "cell_type": "code",
   "execution_count": 25,
   "id": "aba96dc8",
   "metadata": {},
   "outputs": [
    {
     "data": {
      "text/plain": [
       "<AxesSubplot:>"
      ]
     },
     "execution_count": 25,
     "metadata": {},
     "output_type": "execute_result"
    },
    {
     "data": {
      "image/png": "[encoded data removed]",
      "text/plain": [
       "<Figure size 432x288 with 1 Axes>"
      ]
     },
     "metadata": {
      "needs_background": "light"
     },
     "output_type": "display_data"
    }
   ],
   "source": [
    "df['MntMeatProducts'].hist() # распределение суммы потраченной на мясо за последние 2 года"
   ]
  },
  {
   "cell_type": "code",
   "execution_count": 26,
   "id": "5e0ffbab",
   "metadata": {},
   "outputs": [
    {
     "name": "stderr",
     "output_type": "stream",
     "text": [
      "/Users/smile/opt/anaconda3/lib/python3.9/site-packages/seaborn/_decorators.py:36: FutureWarning: Pass the following variable as a keyword arg: x. From version 0.12, the only valid positional argument will be `data`, and passing other arguments without an explicit keyword will result in an error or misinterpretation.\n",
      "  warnings.warn(\n"
     ]
    },
    {
     "data": {
      "text/plain": [
       "<AxesSubplot:xlabel='MntMeatProducts'>"
      ]
     },
     "execution_count": 26,
     "metadata": {},
     "output_type": "execute_result"
    },
    {
     "data": {
      "image/png": "[encoded data removed]",
      "text/plain": [
       "<Figure size 432x288 with 1 Axes>"
      ]
     },
     "metadata": {
      "needs_background": "light"
     },
     "output_type": "display_data"
    }
   ],
   "source": [
    "sns.boxplot(df['MntMeatProducts'])"
   ]
  },
  {
   "cell_type": "code",
   "execution_count": 27,
   "id": "affa9908",
   "metadata": {},
   "outputs": [
    {
     "data": {
      "text/plain": [
       "<AxesSubplot:>"
      ]
     },
     "execution_count": 27,
     "metadata": {},
     "output_type": "execute_result"
    },
    {
     "data": {
      "image/png": "[encoded data removed]",
      "text/plain": [
       "<Figure size 432x288 with 1 Axes>"
      ]
     },
     "metadata": {
      "needs_background": "light"
     },
     "output_type": "display_data"
    }
   ],
   "source": [
    "df['MntFishProducts'].hist() # распределение суммы потраченной на рыбу за последние 2 года"
   ]
  },
  {
   "cell_type": "code",
   "execution_count": 28,
   "id": "c88d143d",
   "metadata": {},
   "outputs": [
    {
     "name": "stderr",
     "output_type": "stream",
     "text": [
      "/Users/smile/opt/anaconda3/lib/python3.9/site-packages/seaborn/_decorators.py:36: FutureWarning: Pass the following variable as a keyword arg: x. From version 0.12, the only valid positional argument will be `data`, and passing other arguments without an explicit keyword will result in an error or misinterpretation.\n",
      "  warnings.warn(\n"
     ]
    },
    {
     "data": {
      "text/plain": [
       "<AxesSubplot:xlabel='MntFishProducts'>"
      ]
     },
     "execution_count": 28,
     "metadata": {},
     "output_type": "execute_result"
    },
    {
     "data": {
      "image/png": "[encoded data removed]",
      "text/plain": [
       "<Figure size 432x288 with 1 Axes>"
      ]
     },
     "metadata": {
      "needs_background": "light"
     },
     "output_type": "display_data"
    }
   ],
   "source": [
    "sns.boxplot(df['MntFishProducts'])"
   ]
  },
  {
   "cell_type": "code",
   "execution_count": 29,
   "id": "5aaffd70",
   "metadata": {},
   "outputs": [
    {
     "data": {
      "text/plain": [
       "<AxesSubplot:>"
      ]
     },
     "execution_count": 29,
     "metadata": {},
     "output_type": "execute_result"
    },
    {
     "data": {
      "image/png": "[encoded data removed]",
      "text/plain": [
       "<Figure size 432x288 with 1 Axes>"
      ]
     },
     "metadata": {
      "needs_background": "light"
     },
     "output_type": "display_data"
    }
   ],
   "source": [
    "df['MntSweetProducts'].hist() # распределение суммы потраченной на сладкое за последние 2 года"
   ]
  },
  {
   "cell_type": "code",
   "execution_count": 30,
   "id": "290f43a2",
   "metadata": {},
   "outputs": [
    {
     "name": "stderr",
     "output_type": "stream",
     "text": [
      "/Users/smile/opt/anaconda3/lib/python3.9/site-packages/seaborn/_decorators.py:36: FutureWarning: Pass the following variable as a keyword arg: x. From version 0.12, the only valid positional argument will be `data`, and passing other arguments without an explicit keyword will result in an error or misinterpretation.\n",
      "  warnings.warn(\n"
     ]
    },
    {
     "data": {
      "text/plain": [
       "<AxesSubplot:xlabel='MntSweetProducts'>"
      ]
     },
     "execution_count": 30,
     "metadata": {},
     "output_type": "execute_result"
    },
    {
     "data": {
      "image/png": "[encoded data removed]",
      "text/plain": [
       "<Figure size 432x288 with 1 Axes>"
      ]
     },
     "metadata": {
      "needs_background": "light"
     },
     "output_type": "display_data"
    }
   ],
   "source": [
    "sns.boxplot(df['MntSweetProducts'])"
   ]
  },
  {
   "cell_type": "code",
   "execution_count": 31,
   "id": "deb02f39",
   "metadata": {},
   "outputs": [
    {
     "data": {
      "text/plain": [
       "<AxesSubplot:>"
      ]
     },
     "execution_count": 31,
     "metadata": {},
     "output_type": "execute_result"
    },
    {
     "data": {
      "image/png": "[encoded data removed]",
      "text/plain": [
       "<Figure size 432x288 with 1 Axes>"
      ]
     },
     "metadata": {
      "needs_background": "light"
     },
     "output_type": "display_data"
    }
   ],
   "source": [
    "df['MntGoldProds'].hist() # распределение суммы потраченной на золото за последние 2 года"
   ]
  },
  {
   "cell_type": "code",
   "execution_count": 32,
   "id": "f106fedb",
   "metadata": {},
   "outputs": [
    {
     "name": "stderr",
     "output_type": "stream",
     "text": [
      "/Users/smile/opt/anaconda3/lib/python3.9/site-packages/seaborn/_decorators.py:36: FutureWarning: Pass the following variable as a keyword arg: x. From version 0.12, the only valid positional argument will be `data`, and passing other arguments without an explicit keyword will result in an error or misinterpretation.\n",
      "  warnings.warn(\n"
     ]
    },
    {
     "data": {
      "text/plain": [
       "<AxesSubplot:xlabel='MntGoldProds'>"
      ]
     },
     "execution_count": 32,
     "metadata": {},
     "output_type": "execute_result"
    },
    {
     "data": {
      "image/png": "[encoded data removed]",
      "text/plain": [
       "<Figure size 432x288 with 1 Axes>"
      ]
     },
     "metadata": {
      "needs_background": "light"
     },
     "output_type": "display_data"
    }
   ],
   "source": [
    "sns.boxplot(df['MntGoldProds'])"
   ]
  },
  {
   "cell_type": "markdown",
   "id": "84ec963a",
   "metadata": {},
   "source": [
    "### Промежуточный вывод:\n",
    "\n",
    "из исследований видно, что имееются большие расхождения медианных и средних значений, в связи с чем можно сделать вывод, что в дальнейшем можно будет разделить клиентов на кластеры"
   ]
  },
  {
   "cell_type": "code",
   "execution_count": 33,
   "id": "ce80b191",
   "metadata": {},
   "outputs": [],
   "source": [
    "df['age'] =  2023 - df['Year_Birth'] # Создал столбец с возрастом клиентов на основе даты рождения"
   ]
  },
  {
   "cell_type": "code",
   "execution_count": 34,
   "id": "39feee6f",
   "metadata": {},
   "outputs": [
    {
     "data": {
      "text/html": [
       "<div>\n",
       "<style scoped>\n",
       "    .dataframe tbody tr th:only-of-type {\n",
       "        vertical-align: middle;\n",
       "    }\n",
       "\n",
       "    .dataframe tbody tr th {\n",
       "        vertical-align: top;\n",
       "    }\n",
       "\n",
       "    .dataframe thead th {\n",
       "        text-align: right;\n",
       "    }\n",
       "</style>\n",
       "<table border=\"1\" class=\"dataframe\">\n",
       "  <thead>\n",
       "    <tr style=\"text-align: right;\">\n",
       "      <th></th>\n",
       "      <th>ID</th>\n",
       "      <th>Year_Birth</th>\n",
       "      <th>Education</th>\n",
       "      <th>Marital_Status</th>\n",
       "      <th>Income</th>\n",
       "      <th>Kidhome</th>\n",
       "      <th>Teenhome</th>\n",
       "      <th>Dt_Customer</th>\n",
       "      <th>Recency</th>\n",
       "      <th>MntWines</th>\n",
       "      <th>...</th>\n",
       "      <th>AcceptedCmp3</th>\n",
       "      <th>AcceptedCmp4</th>\n",
       "      <th>AcceptedCmp5</th>\n",
       "      <th>AcceptedCmp1</th>\n",
       "      <th>AcceptedCmp2</th>\n",
       "      <th>Complain</th>\n",
       "      <th>Z_CostContact</th>\n",
       "      <th>Z_Revenue</th>\n",
       "      <th>Response</th>\n",
       "      <th>age</th>\n",
       "    </tr>\n",
       "  </thead>\n",
       "  <tbody>\n",
       "    <tr>\n",
       "      <th>0</th>\n",
       "      <td>5524</td>\n",
       "      <td>1957</td>\n",
       "      <td>Graduation</td>\n",
       "      <td>Single</td>\n",
       "      <td>58138.0</td>\n",
       "      <td>0</td>\n",
       "      <td>0</td>\n",
       "      <td>04-09-2012</td>\n",
       "      <td>58</td>\n",
       "      <td>635</td>\n",
       "      <td>...</td>\n",
       "      <td>0</td>\n",
       "      <td>0</td>\n",
       "      <td>0</td>\n",
       "      <td>0</td>\n",
       "      <td>0</td>\n",
       "      <td>0</td>\n",
       "      <td>3</td>\n",
       "      <td>11</td>\n",
       "      <td>1</td>\n",
       "      <td>66</td>\n",
       "    </tr>\n",
       "    <tr>\n",
       "      <th>1</th>\n",
       "      <td>2174</td>\n",
       "      <td>1954</td>\n",
       "      <td>Graduation</td>\n",
       "      <td>Single</td>\n",
       "      <td>46344.0</td>\n",
       "      <td>1</td>\n",
       "      <td>1</td>\n",
       "      <td>08-03-2014</td>\n",
       "      <td>38</td>\n",
       "      <td>11</td>\n",
       "      <td>...</td>\n",
       "      <td>0</td>\n",
       "      <td>0</td>\n",
       "      <td>0</td>\n",
       "      <td>0</td>\n",
       "      <td>0</td>\n",
       "      <td>0</td>\n",
       "      <td>3</td>\n",
       "      <td>11</td>\n",
       "      <td>0</td>\n",
       "      <td>69</td>\n",
       "    </tr>\n",
       "    <tr>\n",
       "      <th>2</th>\n",
       "      <td>4141</td>\n",
       "      <td>1965</td>\n",
       "      <td>Graduation</td>\n",
       "      <td>Together</td>\n",
       "      <td>71613.0</td>\n",
       "      <td>0</td>\n",
       "      <td>0</td>\n",
       "      <td>21-08-2013</td>\n",
       "      <td>26</td>\n",
       "      <td>426</td>\n",
       "      <td>...</td>\n",
       "      <td>0</td>\n",
       "      <td>0</td>\n",
       "      <td>0</td>\n",
       "      <td>0</td>\n",
       "      <td>0</td>\n",
       "      <td>0</td>\n",
       "      <td>3</td>\n",
       "      <td>11</td>\n",
       "      <td>0</td>\n",
       "      <td>58</td>\n",
       "    </tr>\n",
       "    <tr>\n",
       "      <th>3</th>\n",
       "      <td>6182</td>\n",
       "      <td>1984</td>\n",
       "      <td>Graduation</td>\n",
       "      <td>Together</td>\n",
       "      <td>26646.0</td>\n",
       "      <td>1</td>\n",
       "      <td>0</td>\n",
       "      <td>10-02-2014</td>\n",
       "      <td>26</td>\n",
       "      <td>11</td>\n",
       "      <td>...</td>\n",
       "      <td>0</td>\n",
       "      <td>0</td>\n",
       "      <td>0</td>\n",
       "      <td>0</td>\n",
       "      <td>0</td>\n",
       "      <td>0</td>\n",
       "      <td>3</td>\n",
       "      <td>11</td>\n",
       "      <td>0</td>\n",
       "      <td>39</td>\n",
       "    </tr>\n",
       "    <tr>\n",
       "      <th>4</th>\n",
       "      <td>5324</td>\n",
       "      <td>1981</td>\n",
       "      <td>PhD</td>\n",
       "      <td>Married</td>\n",
       "      <td>58293.0</td>\n",
       "      <td>1</td>\n",
       "      <td>0</td>\n",
       "      <td>19-01-2014</td>\n",
       "      <td>94</td>\n",
       "      <td>173</td>\n",
       "      <td>...</td>\n",
       "      <td>0</td>\n",
       "      <td>0</td>\n",
       "      <td>0</td>\n",
       "      <td>0</td>\n",
       "      <td>0</td>\n",
       "      <td>0</td>\n",
       "      <td>3</td>\n",
       "      <td>11</td>\n",
       "      <td>0</td>\n",
       "      <td>42</td>\n",
       "    </tr>\n",
       "  </tbody>\n",
       "</table>\n",
       "<p>5 rows × 30 columns</p>\n",
       "</div>"
      ],
      "text/plain": [
       "     ID  Year_Birth   Education Marital_Status   Income  Kidhome  Teenhome  \\\n",
       "0  5524        1957  Graduation         Single  58138.0        0         0   \n",
       "1  2174        1954  Graduation         Single  46344.0        1         1   \n",
       "2  4141        1965  Graduation       Together  71613.0        0         0   \n",
       "3  6182        1984  Graduation       Together  26646.0        1         0   \n",
       "4  5324        1981         PhD        Married  58293.0        1         0   \n",
       "\n",
       "  Dt_Customer  Recency  MntWines  ...  AcceptedCmp3  AcceptedCmp4  \\\n",
       "0  04-09-2012       58       635  ...             0             0   \n",
       "1  08-03-2014       38        11  ...             0             0   \n",
       "2  21-08-2013       26       426  ...             0             0   \n",
       "3  10-02-2014       26        11  ...             0             0   \n",
       "4  19-01-2014       94       173  ...             0             0   \n",
       "\n",
       "   AcceptedCmp5  AcceptedCmp1  AcceptedCmp2  Complain  Z_CostContact  \\\n",
       "0             0             0             0         0              3   \n",
       "1             0             0             0         0              3   \n",
       "2             0             0             0         0              3   \n",
       "3             0             0             0         0              3   \n",
       "4             0             0             0         0              3   \n",
       "\n",
       "   Z_Revenue  Response  age  \n",
       "0         11         1   66  \n",
       "1         11         0   69  \n",
       "2         11         0   58  \n",
       "3         11         0   39  \n",
       "4         11         0   42  \n",
       "\n",
       "[5 rows x 30 columns]"
      ]
     },
     "execution_count": 34,
     "metadata": {},
     "output_type": "execute_result"
    }
   ],
   "source": [
    "df.head()"
   ]
  },
  {
   "cell_type": "code",
   "execution_count": 35,
   "id": "8ba9dd68",
   "metadata": {},
   "outputs": [
    {
     "data": {
      "text/plain": [
       "<AxesSubplot:>"
      ]
     },
     "execution_count": 35,
     "metadata": {},
     "output_type": "execute_result"
    },
    {
     "data": {
      "image/png": "[encoded data removed]",
      "text/plain": [
       "<Figure size 432x288 with 1 Axes>"
      ]
     },
     "metadata": {
      "needs_background": "light"
     },
     "output_type": "display_data"
    }
   ],
   "source": [
    "df['age'].hist() # Распределение клиентов по возрастам"
   ]
  },
  {
   "cell_type": "code",
   "execution_count": 36,
   "id": "ffa01d47",
   "metadata": {},
   "outputs": [
    {
     "data": {
      "text/plain": [
       "count    2201.000000\n",
       "mean       54.208087\n",
       "std        11.987052\n",
       "min        27.000000\n",
       "25%        46.000000\n",
       "50%        53.000000\n",
       "75%        64.000000\n",
       "max       130.000000\n",
       "Name: age, dtype: float64"
      ]
     },
     "execution_count": 36,
     "metadata": {},
     "output_type": "execute_result"
    }
   ],
   "source": [
    "df['age'].describe()"
   ]
  },
  {
   "cell_type": "code",
   "execution_count": 37,
   "id": "4df8daf7",
   "metadata": {},
   "outputs": [
    {
     "data": {
      "text/plain": [
       "<AxesSubplot:>"
      ]
     },
     "execution_count": 37,
     "metadata": {},
     "output_type": "execute_result"
    },
    {
     "data": {
      "image/png": "[encoded data removed]",
      "text/plain": [
       "<Figure size 432x288 with 1 Axes>"
      ]
     },
     "metadata": {
      "needs_background": "light"
     },
     "output_type": "display_data"
    }
   ],
   "source": [
    "df['Income'].hist() # Гистограмма доходов клиентов"
   ]
  },
  {
   "cell_type": "code",
   "execution_count": 38,
   "id": "ef5a5b7c",
   "metadata": {},
   "outputs": [
    {
     "name": "stderr",
     "output_type": "stream",
     "text": [
      "/Users/smile/opt/anaconda3/lib/python3.9/site-packages/seaborn/_decorators.py:36: FutureWarning: Pass the following variable as a keyword arg: x. From version 0.12, the only valid positional argument will be `data`, and passing other arguments without an explicit keyword will result in an error or misinterpretation.\n",
      "  warnings.warn(\n"
     ]
    },
    {
     "data": {
      "text/plain": [
       "<AxesSubplot:xlabel='Income'>"
      ]
     },
     "execution_count": 38,
     "metadata": {},
     "output_type": "execute_result"
    },
    {
     "data": {
      "image/png": "[encoded data removed]",
      "text/plain": [
       "<Figure size 432x288 with 1 Axes>"
      ]
     },
     "metadata": {
      "needs_background": "light"
     },
     "output_type": "display_data"
    }
   ],
   "source": [
    "sns.boxplot(df['Income'])"
   ]
  },
  {
   "cell_type": "code",
   "execution_count": 39,
   "id": "78a058a2",
   "metadata": {},
   "outputs": [
    {
     "data": {
      "text/plain": [
       "count      2201.000000\n",
       "mean      51628.401181\n",
       "std       20728.522412\n",
       "min        1730.000000\n",
       "25%       35196.000000\n",
       "50%       51315.000000\n",
       "75%       68316.000000\n",
       "max      113734.000000\n",
       "Name: Income, dtype: float64"
      ]
     },
     "execution_count": 39,
     "metadata": {},
     "output_type": "execute_result"
    }
   ],
   "source": [
    "df['Income'].describe()"
   ]
  },
  {
   "cell_type": "markdown",
   "id": "dbed636e",
   "metadata": {},
   "source": [
    "### Гипотеза \n",
    "\n",
    "Чем больше клиент зарабатывает - тем больше он тратит"
   ]
  },
  {
   "cell_type": "code",
   "execution_count": 40,
   "id": "63d614fb",
   "metadata": {},
   "outputs": [
    {
     "data": {
      "text/plain": [
       "<matplotlib.collections.PathCollection at 0x7f9278fa0a00>"
      ]
     },
     "execution_count": 40,
     "metadata": {},
     "output_type": "execute_result"
    },
    {
     "data": {
      "image/png": "[encoded data removed]",
      "text/plain": [
       "<Figure size 432x288 with 1 Axes>"
      ]
     },
     "metadata": {
      "needs_background": "light"
     },
     "output_type": "display_data"
    }
   ],
   "source": [
    "plt.scatter(df[df['Income'] < 600000]['Income'], df[df['Income'] < 600000]['MntMeatProducts']) # график зависимости расходов на мясо от доходов"
   ]
  },
  {
   "cell_type": "code",
   "execution_count": 41,
   "id": "efeb9658",
   "metadata": {},
   "outputs": [
    {
     "data": {
      "text/plain": [
       "<matplotlib.collections.PathCollection at 0x7f92996e39a0>"
      ]
     },
     "execution_count": 41,
     "metadata": {},
     "output_type": "execute_result"
    },
    {
     "data": {
      "image/png": "[encoded data removed]",
      "text/plain": [
       "<Figure size 432x288 with 1 Axes>"
      ]
     },
     "metadata": {
      "needs_background": "light"
     },
     "output_type": "display_data"
    }
   ],
   "source": [
    "plt.scatter(df[df['Income'] < 600000]['Income'], df[df['Income'] < 600000]['MntWines'])  # график зависимости расходов на вино от доходов"
   ]
  },
  {
   "cell_type": "code",
   "execution_count": 42,
   "id": "c2735ea5",
   "metadata": {},
   "outputs": [
    {
     "data": {
      "text/plain": [
       "<matplotlib.collections.PathCollection at 0x7f9299a00940>"
      ]
     },
     "execution_count": 42,
     "metadata": {},
     "output_type": "execute_result"
    },
    {
     "data": {
      "image/png": "[encoded data removed]",
      "text/plain": [
       "<Figure size 432x288 with 1 Axes>"
      ]
     },
     "metadata": {
      "needs_background": "light"
     },
     "output_type": "display_data"
    }
   ],
   "source": [
    "plt.scatter(df[df['Income'] < 600000]['Income'], df[df['Income'] < 600000]['MntFruits'])  # график зависимости расходов на фрукты от доходов"
   ]
  },
  {
   "cell_type": "markdown",
   "id": "0bb2baa3",
   "metadata": {},
   "source": [
    "### Промежуточный вывод:\n",
    "\n",
    "присутствует прямая зависимость сумм трат от уровня дохода клиентов"
   ]
  },
  {
   "cell_type": "markdown",
   "id": "c78bc7b0",
   "metadata": {},
   "source": [
    "### Гипотеза\n",
    "\n",
    "клиенты разного возраста предпочитают совершать покупки на разных платформах"
   ]
  },
  {
   "cell_type": "code",
   "execution_count": 43,
   "id": "71c2d8e5",
   "metadata": {},
   "outputs": [
    {
     "data": {
      "text/plain": [
       "Text(0, 0.5, 'кол-во покупок')"
      ]
     },
     "execution_count": 43,
     "metadata": {},
     "output_type": "execute_result"
    },
    {
     "data": {
      "image/png": "[encoded data removed]",
      "text/plain": [
       "<Figure size 432x288 with 1 Axes>"
      ]
     },
     "metadata": {
      "needs_background": "light"
     },
     "output_type": "display_data"
    }
   ],
   "source": [
    "plt.scatter(df['age'], df['NumWebPurchases']) # график зависимости покупок на сайте от возраста\n",
    "plt.title('Возраст/Покупки на сайте')\n",
    "plt.xlabel('возраст')\n",
    "plt.ylabel(\"кол-во покупок\")"
   ]
  },
  {
   "cell_type": "code",
   "execution_count": 44,
   "id": "679f2a52",
   "metadata": {},
   "outputs": [
    {
     "data": {
      "text/plain": [
       "<matplotlib.collections.PathCollection at 0x7f92682aaac0>"
      ]
     },
     "execution_count": 44,
     "metadata": {},
     "output_type": "execute_result"
    },
    {
     "data": {
      "image/png": "[encoded data removed]",
      "text/plain": [
       "<Figure size 432x288 with 1 Axes>"
      ]
     },
     "metadata": {
      "needs_background": "light"
     },
     "output_type": "display_data"
    }
   ],
   "source": [
    "plt.scatter(df['age'], df['NumCatalogPurchases']) # график зависимости покупок через каталог от возраста"
   ]
  },
  {
   "cell_type": "code",
   "execution_count": 45,
   "id": "adcaac80",
   "metadata": {},
   "outputs": [
    {
     "data": {
      "text/plain": [
       "<matplotlib.collections.PathCollection at 0x7f9289e618b0>"
      ]
     },
     "execution_count": 45,
     "metadata": {},
     "output_type": "execute_result"
    },
    {
     "data": {
      "image/png": "[encoded data removed]",
      "text/plain": [
       "<Figure size 432x288 with 1 Axes>"
      ]
     },
     "metadata": {
      "needs_background": "light"
     },
     "output_type": "display_data"
    }
   ],
   "source": [
    "plt.scatter(df['age'], df['NumStorePurchases']) # график зависимости покупок в физическом магазине от возраста"
   ]
  },
  {
   "cell_type": "code",
   "execution_count": 46,
   "id": "aa1d6f07",
   "metadata": {},
   "outputs": [
    {
     "data": {
      "text/plain": [
       "<matplotlib.collections.PathCollection at 0x7f9278dbaca0>"
      ]
     },
     "execution_count": 46,
     "metadata": {},
     "output_type": "execute_result"
    },
    {
     "data": {
      "image/png": "[encoded data removed]",
      "text/plain": [
       "<Figure size 432x288 with 1 Axes>"
      ]
     },
     "metadata": {
      "needs_background": "light"
     },
     "output_type": "display_data"
    }
   ],
   "source": [
    "plt.scatter(df['age'], df['NumWebVisitsMonth']) # график зависимости посещений сайта от возраста"
   ]
  },
  {
   "cell_type": "markdown",
   "id": "0c6f850c",
   "metadata": {},
   "source": [
    "### промежуточные выводы:\n",
    "\n",
    "Проверял гипотезу зависимости количества покупок на разных платформах от возраста. Зависимости нет."
   ]
  },
  {
   "cell_type": "markdown",
   "id": "a61a433d",
   "metadata": {},
   "source": [
    "### Гипотеза \n",
    "\n",
    "чем выше доход клиента, чем больше покупок он совершает в физических магазинах"
   ]
  },
  {
   "cell_type": "code",
   "execution_count": 47,
   "id": "bab22f97",
   "metadata": {},
   "outputs": [],
   "source": [
    "share_store = df['NumStorePurchases'] / (df['NumStorePurchases'] + df['NumWebPurchases'] + df['NumCatalogPurchases']) # определил долю покупок, совершаемую в магазинах "
   ]
  },
  {
   "cell_type": "code",
   "execution_count": 48,
   "id": "df83dfe4",
   "metadata": {},
   "outputs": [
    {
     "data": {
      "text/plain": [
       "<matplotlib.collections.PathCollection at 0x7f9289f492b0>"
      ]
     },
     "execution_count": 48,
     "metadata": {},
     "output_type": "execute_result"
    },
    {
     "data": {
      "image/png": "[encoded data removed]",
      "text/plain": [
       "<Figure size 432x288 with 1 Axes>"
      ]
     },
     "metadata": {
      "needs_background": "light"
     },
     "output_type": "display_data"
    }
   ],
   "source": [
    "plt.scatter(df['Income'], share_store) # график зависимости количества покупок в магазинах от уровня дохода"
   ]
  },
  {
   "cell_type": "markdown",
   "id": "b9387a60",
   "metadata": {},
   "source": [
    "### промежуточные выводы:\n",
    "Проверял гипотезу зависимости количества посещений физических магазинов от уровня дохода. Зависимости нет."
   ]
  },
  {
   "cell_type": "markdown",
   "id": "e275f4bd",
   "metadata": {},
   "source": [
    "### Гипотеза\n",
    "\n",
    "Клиенты с меньшим достатком чаще покупают по скидкам"
   ]
  },
  {
   "cell_type": "code",
   "execution_count": 49,
   "id": "037377b7",
   "metadata": {},
   "outputs": [
    {
     "data": {
      "text/plain": [
       "NumDealsPurchases\n",
       "0     75680.871795\n",
       "1     56067.001043\n",
       "2     46855.989837\n",
       "3     45851.955479\n",
       "4     46825.623656\n",
       "5     50189.857143\n",
       "6     48510.283333\n",
       "7     53641.051282\n",
       "8     54141.928571\n",
       "9     51280.625000\n",
       "10    57859.800000\n",
       "11    63702.800000\n",
       "12    55832.333333\n",
       "13    55281.666667\n",
       "15    16707.400000\n",
       "Name: Income, dtype: float64"
      ]
     },
     "execution_count": 49,
     "metadata": {},
     "output_type": "execute_result"
    }
   ],
   "source": [
    "df.groupby('NumDealsPurchases')['Income'].mean() "
   ]
  },
  {
   "cell_type": "code",
   "execution_count": 50,
   "id": "d5b01d59",
   "metadata": {},
   "outputs": [
    {
     "data": {
      "text/plain": [
       "<matplotlib.collections.PathCollection at 0x7f92b93c69a0>"
      ]
     },
     "execution_count": 50,
     "metadata": {},
     "output_type": "execute_result"
    },
    {
     "data": {
      "image/png": "[encoded data removed]",
      "text/plain": [
       "<Figure size 432x288 with 1 Axes>"
      ]
     },
     "metadata": {
      "needs_background": "light"
     },
     "output_type": "display_data"
    }
   ],
   "source": [
    "plt.scatter(df['Income'], df['NumDealsPurchases']) # График зависимости количества покупок по скидкат от уровня дохода"
   ]
  },
  {
   "cell_type": "markdown",
   "id": "d78cc42b",
   "metadata": {},
   "source": [
    "### Промежуточные выводы\n",
    "\n",
    "Гипотеза подтвердилась, клиенты с наибольшим достатком не приобретали товары по скидкам, а клиенты с наименьшим достатком совершили наибольшее колличество таких покупок"
   ]
  },
  {
   "cell_type": "markdown",
   "id": "da04836e",
   "metadata": {},
   "source": [
    "### Гипотеза\n",
    "\n",
    "Клиенты с более высоким уровнем дохода чаще покупают через сайт"
   ]
  },
  {
   "cell_type": "code",
   "execution_count": 51,
   "id": "4dcad882",
   "metadata": {},
   "outputs": [],
   "source": [
    "share_web = df['NumWebPurchases'] / (df['NumStorePurchases'] + df['NumWebPurchases'] + df['NumCatalogPurchases']) # определил долю покупок, совершаемую через сайт "
   ]
  },
  {
   "cell_type": "code",
   "execution_count": 52,
   "id": "c54ca4e0",
   "metadata": {},
   "outputs": [
    {
     "data": {
      "text/plain": [
       "<matplotlib.collections.PathCollection at 0x7f9299b29940>"
      ]
     },
     "execution_count": 52,
     "metadata": {},
     "output_type": "execute_result"
    },
    {
     "data": {
      "image/png": "[encoded data removed]",
      "text/plain": [
       "<Figure size 432x288 with 1 Axes>"
      ]
     },
     "metadata": {
      "needs_background": "light"
     },
     "output_type": "display_data"
    }
   ],
   "source": [
    "plt.scatter(df['Income'], share_web) # График зависимости покупок через сайт от уровня дохода"
   ]
  },
  {
   "cell_type": "markdown",
   "id": "80d0042c",
   "metadata": {},
   "source": [
    "### Промежуточные выводы:\n",
    "\n",
    "Проверял гипотезу, что клиенты с более высоким уровнем дохода чаще покупают через сайт, гипотеза не подтвердилась, корреляции нет"
   ]
  },
  {
   "cell_type": "markdown",
   "id": "103c7cec",
   "metadata": {},
   "source": [
    "### Гипотеза:\n",
    "\n",
    "Клиенты с более высоким уровнем дохода чаще заказывают через каталог"
   ]
  },
  {
   "cell_type": "code",
   "execution_count": 53,
   "id": "1be582a0",
   "metadata": {},
   "outputs": [],
   "source": [
    "share_catalog = df['NumCatalogPurchases'] / (df['NumStorePurchases'] + df['NumWebPurchases'] + df['NumCatalogPurchases']) # определил долю покупок, совершаемую через каталог"
   ]
  },
  {
   "cell_type": "code",
   "execution_count": 54,
   "id": "2923a8f0",
   "metadata": {},
   "outputs": [
    {
     "data": {
      "text/plain": [
       "<matplotlib.collections.PathCollection at 0x7f92b9447340>"
      ]
     },
     "execution_count": 54,
     "metadata": {},
     "output_type": "execute_result"
    },
    {
     "data": {
      "image/png": "[encoded data removed]",
      "text/plain": [
       "<Figure size 432x288 with 1 Axes>"
      ]
     },
     "metadata": {
      "needs_background": "light"
     },
     "output_type": "display_data"
    }
   ],
   "source": [
    "plt.scatter(df['Income'], share_catalog) # график зависимости количества покупок через каталог от уровня дохода"
   ]
  },
  {
   "cell_type": "markdown",
   "id": "7c0dbc35",
   "metadata": {},
   "source": [
    "### Промежуточные выводы:\n",
    "\n",
    "Проверял гипотезу, что клиенты с более высоким уровнем дохода чаще заказывают через каталог, гипотеза подтвердилась, есть небольшая корреляция"
   ]
  },
  {
   "cell_type": "markdown",
   "id": "c949f72e",
   "metadata": {},
   "source": [
    "### Гипотеза:\n",
    "\n",
    "чем больше детей, тем больше расходы на сладкое"
   ]
  },
  {
   "cell_type": "code",
   "execution_count": 55,
   "id": "68df5c1e",
   "metadata": {},
   "outputs": [
    {
     "data": {
      "text/plain": [
       "Kidhome\n",
       "0    40.818681\n",
       "1     8.644722\n",
       "2     3.891304\n",
       "Name: MntSweetProducts, dtype: float64"
      ]
     },
     "execution_count": 55,
     "metadata": {},
     "output_type": "execute_result"
    }
   ],
   "source": [
    "df.groupby('Kidhome')['MntSweetProducts'].mean() # группировка расходов на сладкое по количеству детей"
   ]
  },
  {
   "cell_type": "code",
   "execution_count": 56,
   "id": "4a6ac637",
   "metadata": {},
   "outputs": [
    {
     "data": {
      "text/plain": [
       "<AxesSubplot:>"
      ]
     },
     "execution_count": 56,
     "metadata": {},
     "output_type": "execute_result"
    },
    {
     "data": {
      "image/png": "[encoded data removed]",
      "text/plain": [
       "<Figure size 432x288 with 1 Axes>"
      ]
     },
     "metadata": {
      "needs_background": "light"
     },
     "output_type": "display_data"
    }
   ],
   "source": [
    "df[df['Kidhome'] == 0]['MntSweetProducts'].hist() # гистограмма расходов на сладкое клиентов без детей"
   ]
  },
  {
   "cell_type": "code",
   "execution_count": 57,
   "id": "4c0a481c",
   "metadata": {},
   "outputs": [
    {
     "data": {
      "text/plain": [
       "<AxesSubplot:>"
      ]
     },
     "execution_count": 57,
     "metadata": {},
     "output_type": "execute_result"
    },
    {
     "data": {
      "image/png": "[encoded data removed]",
      "text/plain": [
       "<Figure size 432x288 with 1 Axes>"
      ]
     },
     "metadata": {
      "needs_background": "light"
     },
     "output_type": "display_data"
    }
   ],
   "source": [
    "df[df['Kidhome'] == 1]['MntSweetProducts'].hist() # гистограмма расходов на сладкое клиентов с одним ребенком"
   ]
  },
  {
   "cell_type": "code",
   "execution_count": 58,
   "id": "ece5121b",
   "metadata": {},
   "outputs": [
    {
     "data": {
      "text/plain": [
       "<AxesSubplot:>"
      ]
     },
     "execution_count": 58,
     "metadata": {},
     "output_type": "execute_result"
    },
    {
     "data": {
      "image/png": "[encoded data removed]",
      "text/plain": [
       "<Figure size 432x288 with 1 Axes>"
      ]
     },
     "metadata": {
      "needs_background": "light"
     },
     "output_type": "display_data"
    }
   ],
   "source": [
    "df[df['Kidhome'] == 2]['MntSweetProducts'].hist() # гистограмма расходов на сладкое клиентов с двумя детьми"
   ]
  },
  {
   "cell_type": "code",
   "execution_count": 59,
   "id": "9329019c",
   "metadata": {},
   "outputs": [
    {
     "data": {
      "text/plain": [
       "Teenhome\n",
       "0    33.743409\n",
       "1    20.367589\n",
       "2    15.411765\n",
       "Name: MntSweetProducts, dtype: float64"
      ]
     },
     "execution_count": 59,
     "metadata": {},
     "output_type": "execute_result"
    }
   ],
   "source": [
    "df.groupby('Teenhome')['MntSweetProducts'].mean() # группировка расходов на сладкое по количеству детей-подростков"
   ]
  },
  {
   "cell_type": "code",
   "execution_count": 60,
   "id": "832f8c10",
   "metadata": {},
   "outputs": [
    {
     "data": {
      "text/plain": [
       "<AxesSubplot:>"
      ]
     },
     "execution_count": 60,
     "metadata": {},
     "output_type": "execute_result"
    },
    {
     "data": {
      "image/png": "[encoded data removed]",
      "text/plain": [
       "<Figure size 432x288 with 1 Axes>"
      ]
     },
     "metadata": {
      "needs_background": "light"
     },
     "output_type": "display_data"
    }
   ],
   "source": [
    "df[df['Teenhome'] == 0]['MntSweetProducts'].hist() # гистограмма расходов на сладкое клиентов без детей-подростков"
   ]
  },
  {
   "cell_type": "code",
   "execution_count": 61,
   "id": "1d643943",
   "metadata": {},
   "outputs": [
    {
     "data": {
      "text/plain": [
       "<AxesSubplot:>"
      ]
     },
     "execution_count": 61,
     "metadata": {},
     "output_type": "execute_result"
    },
    {
     "data": {
      "image/png": "[encoded data removed]",
      "text/plain": [
       "<Figure size 432x288 with 1 Axes>"
      ]
     },
     "metadata": {
      "needs_background": "light"
     },
     "output_type": "display_data"
    }
   ],
   "source": [
    "df[df['Teenhome'] == 1]['MntSweetProducts'].hist() # гистограмма расходов на сладкое клиентов с одним подростком"
   ]
  },
  {
   "cell_type": "code",
   "execution_count": 62,
   "id": "4a4cf433",
   "metadata": {},
   "outputs": [
    {
     "data": {
      "text/plain": [
       "<AxesSubplot:>"
      ]
     },
     "execution_count": 62,
     "metadata": {},
     "output_type": "execute_result"
    },
    {
     "data": {
      "image/png": "[encoded data removed]",
      "text/plain": [
       "<Figure size 432x288 with 1 Axes>"
      ]
     },
     "metadata": {
      "needs_background": "light"
     },
     "output_type": "display_data"
    }
   ],
   "source": [
    "df[df['Teenhome'] == 2]['MntSweetProducts'].hist() # гистограмма расходов на сладкое клиентов с двумя подростками"
   ]
  },
  {
   "cell_type": "markdown",
   "id": "779d4748",
   "metadata": {},
   "source": [
    "### Промежуточные выводы:\n",
    "\n",
    "- Основная часть людей тратит на сладкое примерно одинаковые суммы, однако есть в каждой категории группы сладкоежек, и в категории без детей их больше.\n",
    "- Исследования клиентов с двумя детьми и двумя подростками малопоказательные, так как мало данных"
   ]
  },
  {
   "cell_type": "markdown",
   "id": "f57d06a1",
   "metadata": {},
   "source": [
    "### Гипотеза:\n",
    "\n",
    "чем больше детей, тем больше траты на фрукты"
   ]
  },
  {
   "cell_type": "code",
   "execution_count": 63,
   "id": "c2772d4d",
   "metadata": {},
   "outputs": [
    {
     "data": {
      "text/plain": [
       "Kidhome\n",
       "0    39.525903\n",
       "1     8.567537\n",
       "2     6.043478\n",
       "Name: MntFruits, dtype: float64"
      ]
     },
     "execution_count": 63,
     "metadata": {},
     "output_type": "execute_result"
    }
   ],
   "source": [
    "df.groupby('Kidhome')['MntFruits'].mean() # группировка расходов на фрукты по количеству детей"
   ]
  },
  {
   "cell_type": "code",
   "execution_count": 64,
   "id": "0f5cfbee",
   "metadata": {},
   "outputs": [
    {
     "data": {
      "text/plain": [
       "<AxesSubplot:>"
      ]
     },
     "execution_count": 64,
     "metadata": {},
     "output_type": "execute_result"
    },
    {
     "data": {
      "image/png": "[encoded data removed]",
      "text/plain": [
       "<Figure size 432x288 with 1 Axes>"
      ]
     },
     "metadata": {
      "needs_background": "light"
     },
     "output_type": "display_data"
    }
   ],
   "source": [
    "df[df['Kidhome'] == 0]['MntFruits'].hist() # гистограмма расходов на фрукты клиентов без детей"
   ]
  },
  {
   "cell_type": "code",
   "execution_count": 65,
   "id": "11743c5e",
   "metadata": {},
   "outputs": [
    {
     "data": {
      "text/plain": [
       "<AxesSubplot:>"
      ]
     },
     "execution_count": 65,
     "metadata": {},
     "output_type": "execute_result"
    },
    {
     "data": {
      "image/png": "[encoded data removed]",
      "text/plain": [
       "<Figure size 432x288 with 1 Axes>"
      ]
     },
     "metadata": {
      "needs_background": "light"
     },
     "output_type": "display_data"
    }
   ],
   "source": [
    "df[df['Kidhome'] == 1]['MntFruits'].hist() # гистограмма расходов на фрукты клиентов с одним ребенком"
   ]
  },
  {
   "cell_type": "code",
   "execution_count": 66,
   "id": "0336af26",
   "metadata": {},
   "outputs": [
    {
     "data": {
      "text/plain": [
       "Teenhome\n",
       "0    33.424429\n",
       "1    19.025692\n",
       "2    17.470588\n",
       "Name: MntFruits, dtype: float64"
      ]
     },
     "execution_count": 66,
     "metadata": {},
     "output_type": "execute_result"
    }
   ],
   "source": [
    "df.groupby('Teenhome')['MntFruits'].mean() # группировка расходов на фрукты по количеству детей-подростков"
   ]
  },
  {
   "cell_type": "code",
   "execution_count": 67,
   "id": "8f714562",
   "metadata": {},
   "outputs": [
    {
     "data": {
      "text/plain": [
       "<AxesSubplot:>"
      ]
     },
     "execution_count": 67,
     "metadata": {},
     "output_type": "execute_result"
    },
    {
     "data": {
      "image/png": "[encoded data removed]",
      "text/plain": [
       "<Figure size 432x288 with 1 Axes>"
      ]
     },
     "metadata": {
      "needs_background": "light"
     },
     "output_type": "display_data"
    }
   ],
   "source": [
    "df[df['Teenhome'] == 0]['MntFruits'].hist() # гистограмма расходов на фрукты клиентов без детей-подростков"
   ]
  },
  {
   "cell_type": "code",
   "execution_count": 68,
   "id": "5dd0d609",
   "metadata": {},
   "outputs": [
    {
     "data": {
      "text/plain": [
       "<AxesSubplot:>"
      ]
     },
     "execution_count": 68,
     "metadata": {},
     "output_type": "execute_result"
    },
    {
     "data": {
      "image/png": "[encoded data removed]",
      "text/plain": [
       "<Figure size 432x288 with 1 Axes>"
      ]
     },
     "metadata": {
      "needs_background": "light"
     },
     "output_type": "display_data"
    }
   ],
   "source": [
    "df[df['Teenhome'] == 1]['MntFruits'].hist() # гистограмма расходов на фрукты клиентов с одним подростком"
   ]
  },
  {
   "cell_type": "markdown",
   "id": "96cf82c8",
   "metadata": {},
   "source": [
    "### Промежуточные выводы:\n",
    "\n",
    "результат схож с исследованием расходов на сладкое, в каждой категории тратятся, в основном, одинаковые суммы, но есть небольшая категория клиентов в каждой группе с особо большими расходами"
   ]
  },
  {
   "cell_type": "markdown",
   "id": "4e049274",
   "metadata": {},
   "source": [
    "### Гипотеза:\n",
    "\n",
    "Пары, которые встречаются больше тратят на вино"
   ]
  },
  {
   "cell_type": "code",
   "execution_count": 69,
   "id": "33502ad0",
   "metadata": {},
   "outputs": [
    {
     "data": {
      "text/plain": [
       "Marital_Status\n",
       "Divorced    326.246753\n",
       "Married     300.818501\n",
       "Single      291.331210\n",
       "Together    310.335677\n",
       "Widow       367.131579\n",
       "Name: MntWines, dtype: float64"
      ]
     },
     "execution_count": 69,
     "metadata": {},
     "output_type": "execute_result"
    }
   ],
   "source": [
    "df.groupby('Marital_Status')['MntWines'].mean() # Средние траты на вино с сортировкой по семейному статусу "
   ]
  },
  {
   "cell_type": "code",
   "execution_count": 70,
   "id": "b800642e",
   "metadata": {},
   "outputs": [
    {
     "data": {
      "text/plain": [
       "<matplotlib.collections.PathCollection at 0x7f9279122e80>"
      ]
     },
     "execution_count": 70,
     "metadata": {},
     "output_type": "execute_result"
    },
    {
     "data": {
      "image/png": "[encoded data removed]",
      "text/plain": [
       "<Figure size 432x288 with 1 Axes>"
      ]
     },
     "metadata": {
      "needs_background": "light"
     },
     "output_type": "display_data"
    }
   ],
   "source": [
    "plt.scatter(df['MntWines'], df['Marital_Status']) # график зависимости трат на вино от семейного статуса"
   ]
  },
  {
   "cell_type": "code",
   "execution_count": 71,
   "id": "121d929a",
   "metadata": {},
   "outputs": [
    {
     "data": {
      "text/plain": [
       "<AxesSubplot:>"
      ]
     },
     "execution_count": 71,
     "metadata": {},
     "output_type": "execute_result"
    },
    {
     "data": {
      "image/png": "[encoded data removed]",
      "text/plain": [
       "<Figure size 432x288 with 1 Axes>"
      ]
     },
     "metadata": {
      "needs_background": "light"
     },
     "output_type": "display_data"
    }
   ],
   "source": [
    "df[df['Marital_Status'] == 'Divorced']['MntWines'].hist() # Гистограмма по расходам на вино у разведенных клиентов"
   ]
  },
  {
   "cell_type": "code",
   "execution_count": 72,
   "id": "99b6a8b9",
   "metadata": {},
   "outputs": [
    {
     "data": {
      "text/plain": [
       "<AxesSubplot:>"
      ]
     },
     "execution_count": 72,
     "metadata": {},
     "output_type": "execute_result"
    },
    {
     "data": {
      "image/png": "[encoded data removed]",
      "text/plain": [
       "<Figure size 432x288 with 1 Axes>"
      ]
     },
     "metadata": {
      "needs_background": "light"
     },
     "output_type": "display_data"
    }
   ],
   "source": [
    "df[df['Marital_Status'] == 'Married']['MntWines'].hist() # Гистограмма по расходам на вино у женатых клиентов"
   ]
  },
  {
   "cell_type": "code",
   "execution_count": 73,
   "id": "07727acf",
   "metadata": {},
   "outputs": [
    {
     "data": {
      "text/plain": [
       "<AxesSubplot:>"
      ]
     },
     "execution_count": 73,
     "metadata": {},
     "output_type": "execute_result"
    },
    {
     "data": {
      "image/png": "[encoded data removed]",
      "text/plain": [
       "<Figure size 432x288 with 1 Axes>"
      ]
     },
     "metadata": {
      "needs_background": "light"
     },
     "output_type": "display_data"
    }
   ],
   "source": [
    "df[df['Marital_Status'] == 'Single']['MntWines'].hist() # Гистограмма по расходам на вино у одиноких клиентов"
   ]
  },
  {
   "cell_type": "code",
   "execution_count": 74,
   "id": "2a8fb324",
   "metadata": {},
   "outputs": [
    {
     "data": {
      "text/plain": [
       "<AxesSubplot:>"
      ]
     },
     "execution_count": 74,
     "metadata": {},
     "output_type": "execute_result"
    },
    {
     "data": {
      "image/png": "[encoded data removed]",
      "text/plain": [
       "<Figure size 432x288 with 1 Axes>"
      ]
     },
     "metadata": {
      "needs_background": "light"
     },
     "output_type": "display_data"
    }
   ],
   "source": [
    "df[df['Marital_Status'] == 'Together']['MntWines'].hist() # Гистограмма по расходам на вино у клиентов, которые встречаются"
   ]
  },
  {
   "cell_type": "code",
   "execution_count": 75,
   "id": "4376c5e0",
   "metadata": {},
   "outputs": [
    {
     "data": {
      "text/plain": [
       "<AxesSubplot:>"
      ]
     },
     "execution_count": 75,
     "metadata": {},
     "output_type": "execute_result"
    },
    {
     "data": {
      "image/png": "[encoded data removed]",
      "text/plain": [
       "<Figure size 432x288 with 1 Axes>"
      ]
     },
     "metadata": {
      "needs_background": "light"
     },
     "output_type": "display_data"
    }
   ],
   "source": [
    "df[df['Marital_Status'] == 'Widow']['MntWines'].hist() # Гистограмма по расходам на вино у вдов(цов)"
   ]
  },
  {
   "cell_type": "markdown",
   "id": "9aecd03a",
   "metadata": {},
   "source": [
    "### Промежуточные выводы:\n",
    "\n",
    "по средним значениям больше всех тратят вдовы/вдовцы, следом за ними идут разведенные, однако, это объясняется гораздо меньшим количеством людей в данных группах. Общая картина получается схожая с другими исследованиями по расходам, основная часть клиентов тратит примерно одинаковые суммы"
   ]
  },
  {
   "cell_type": "markdown",
   "id": "4697c80f",
   "metadata": {},
   "source": [
    "### Исследование\n",
    "\n",
    "зависимости трат от семейного статуса\n",
    "\n",
    "### Фрукты"
   ]
  },
  {
   "cell_type": "code",
   "execution_count": 76,
   "id": "bcb6a40d",
   "metadata": {},
   "outputs": [
    {
     "data": {
      "text/plain": [
       "Marital_Status\n",
       "Divorced    27.541126\n",
       "Married     25.716628\n",
       "Single      27.261146\n",
       "Together    25.652021\n",
       "Widow       31.868421\n",
       "Name: MntFruits, dtype: float64"
      ]
     },
     "execution_count": 76,
     "metadata": {},
     "output_type": "execute_result"
    }
   ],
   "source": [
    "df.groupby('Marital_Status')['MntFruits'].mean() # Средние траты на фрукты с сортировкой по семейному статусу "
   ]
  },
  {
   "cell_type": "code",
   "execution_count": 77,
   "id": "abed88c0",
   "metadata": {},
   "outputs": [
    {
     "data": {
      "text/plain": [
       "<AxesSubplot:>"
      ]
     },
     "execution_count": 77,
     "metadata": {},
     "output_type": "execute_result"
    },
    {
     "data": {
      "image/png": "[encoded data removed]",
      "text/plain": [
       "<Figure size 432x288 with 1 Axes>"
      ]
     },
     "metadata": {
      "needs_background": "light"
     },
     "output_type": "display_data"
    }
   ],
   "source": [
    "df[df['Marital_Status'] == 'Divorced']['MntFruits'].hist() # Гистограмма по расходам на фрукты у разведенных клиентов"
   ]
  },
  {
   "cell_type": "code",
   "execution_count": 78,
   "id": "c16e8298",
   "metadata": {},
   "outputs": [
    {
     "data": {
      "text/plain": [
       "<AxesSubplot:>"
      ]
     },
     "execution_count": 78,
     "metadata": {},
     "output_type": "execute_result"
    },
    {
     "data": {
      "image/png": "[encoded data removed]",
      "text/plain": [
       "<Figure size 432x288 with 1 Axes>"
      ]
     },
     "metadata": {
      "needs_background": "light"
     },
     "output_type": "display_data"
    }
   ],
   "source": [
    "df[df['Marital_Status'] == 'Married']['MntFruits'].hist() # Гистограмма по расходам на фрукты у женатых клиентов"
   ]
  },
  {
   "cell_type": "code",
   "execution_count": 79,
   "id": "7f0d574a",
   "metadata": {},
   "outputs": [
    {
     "data": {
      "text/plain": [
       "<AxesSubplot:>"
      ]
     },
     "execution_count": 79,
     "metadata": {},
     "output_type": "execute_result"
    },
    {
     "data": {
      "image/png": "[encoded data removed]",
      "text/plain": [
       "<Figure size 432x288 with 1 Axes>"
      ]
     },
     "metadata": {
      "needs_background": "light"
     },
     "output_type": "display_data"
    }
   ],
   "source": [
    "df[df['Marital_Status'] == 'Single']['MntFruits'].hist() # Гистограмма по расходам на фрукты у одиноких клиентов"
   ]
  },
  {
   "cell_type": "code",
   "execution_count": 80,
   "id": "b3ae2f3e",
   "metadata": {},
   "outputs": [
    {
     "data": {
      "text/plain": [
       "<AxesSubplot:>"
      ]
     },
     "execution_count": 80,
     "metadata": {},
     "output_type": "execute_result"
    },
    {
     "data": {
      "image/png": "[encoded data removed]",
      "text/plain": [
       "<Figure size 432x288 with 1 Axes>"
      ]
     },
     "metadata": {
      "needs_background": "light"
     },
     "output_type": "display_data"
    }
   ],
   "source": [
    "df[df['Marital_Status'] == 'Together']['MntFruits'].hist() # Гистограмма по расходам на фрукты у клиентов в отношениях"
   ]
  },
  {
   "cell_type": "code",
   "execution_count": 81,
   "id": "9cadd3f8",
   "metadata": {},
   "outputs": [
    {
     "data": {
      "text/plain": [
       "<AxesSubplot:>"
      ]
     },
     "execution_count": 81,
     "metadata": {},
     "output_type": "execute_result"
    },
    {
     "data": {
      "image/png": "[encoded data removed]",
      "text/plain": [
       "<Figure size 432x288 with 1 Axes>"
      ]
     },
     "metadata": {
      "needs_background": "light"
     },
     "output_type": "display_data"
    }
   ],
   "source": [
    "df[df['Marital_Status'] == 'Widow']['MntFruits'].hist() # Гистограмма по расходам на фрукты у вдов(цов)"
   ]
  },
  {
   "cell_type": "markdown",
   "id": "0c1a9d84",
   "metadata": {},
   "source": [
    "\n",
    "\n",
    "### Мясо"
   ]
  },
  {
   "cell_type": "code",
   "execution_count": 82,
   "id": "12ed84a2",
   "metadata": {},
   "outputs": [
    {
     "data": {
      "text/plain": [
       "Marital_Status\n",
       "Divorced    150.852814\n",
       "Married     157.707260\n",
       "Single      184.849257\n",
       "Together    164.509666\n",
       "Widow       185.328947\n",
       "Name: MntMeatProducts, dtype: float64"
      ]
     },
     "execution_count": 82,
     "metadata": {},
     "output_type": "execute_result"
    }
   ],
   "source": [
    "df.groupby('Marital_Status')['MntMeatProducts'].mean() # Средние траты на мясо с сортировкой по семейному статусу "
   ]
  },
  {
   "cell_type": "code",
   "execution_count": 83,
   "id": "e88a8bbc",
   "metadata": {},
   "outputs": [
    {
     "data": {
      "text/plain": [
       "<AxesSubplot:>"
      ]
     },
     "execution_count": 83,
     "metadata": {},
     "output_type": "execute_result"
    },
    {
     "data": {
      "image/png": "[encoded data removed]",
      "text/plain": [
       "<Figure size 432x288 with 1 Axes>"
      ]
     },
     "metadata": {
      "needs_background": "light"
     },
     "output_type": "display_data"
    }
   ],
   "source": [
    "df[df['Marital_Status'] == 'Divorced']['MntMeatProducts'].hist() # Гистограмма по расходам на мясо у разведенных клиентов"
   ]
  },
  {
   "cell_type": "code",
   "execution_count": 84,
   "id": "7aa4d58c",
   "metadata": {},
   "outputs": [
    {
     "data": {
      "text/plain": [
       "<AxesSubplot:>"
      ]
     },
     "execution_count": 84,
     "metadata": {},
     "output_type": "execute_result"
    },
    {
     "data": {
      "image/png": "[encoded data removed]",
      "text/plain": [
       "<Figure size 432x288 with 1 Axes>"
      ]
     },
     "metadata": {
      "needs_background": "light"
     },
     "output_type": "display_data"
    }
   ],
   "source": [
    "df[df['Marital_Status'] == 'Married']['MntMeatProducts'].hist() # Гистограмма по расходам на мясо у женатых клиентов"
   ]
  },
  {
   "cell_type": "code",
   "execution_count": 85,
   "id": "885bd43e",
   "metadata": {},
   "outputs": [
    {
     "data": {
      "text/plain": [
       "<AxesSubplot:>"
      ]
     },
     "execution_count": 85,
     "metadata": {},
     "output_type": "execute_result"
    },
    {
     "data": {
      "image/png": "[encoded data removed]",
      "text/plain": [
       "<Figure size 432x288 with 1 Axes>"
      ]
     },
     "metadata": {
      "needs_background": "light"
     },
     "output_type": "display_data"
    }
   ],
   "source": [
    "df[df['Marital_Status'] == 'Single']['MntMeatProducts'].hist() # Гистограмма по расходам на мясо у одиноких клиентов"
   ]
  },
  {
   "cell_type": "code",
   "execution_count": 86,
   "id": "ce6270ce",
   "metadata": {},
   "outputs": [
    {
     "data": {
      "text/plain": [
       "<AxesSubplot:>"
      ]
     },
     "execution_count": 86,
     "metadata": {},
     "output_type": "execute_result"
    },
    {
     "data": {
      "image/png": "[encoded data removed]",
      "text/plain": [
       "<Figure size 432x288 with 1 Axes>"
      ]
     },
     "metadata": {
      "needs_background": "light"
     },
     "output_type": "display_data"
    }
   ],
   "source": [
    "df[df['Marital_Status'] == 'Together']['MntMeatProducts'].hist() # Гистограмма по расходам на мясо у клиентов в отношениях"
   ]
  },
  {
   "cell_type": "code",
   "execution_count": 87,
   "id": "7ee0b181",
   "metadata": {},
   "outputs": [
    {
     "data": {
      "text/plain": [
       "<AxesSubplot:>"
      ]
     },
     "execution_count": 87,
     "metadata": {},
     "output_type": "execute_result"
    },
    {
     "data": {
      "image/png": "[encoded data removed]",
      "text/plain": [
       "<Figure size 432x288 with 1 Axes>"
      ]
     },
     "metadata": {
      "needs_background": "light"
     },
     "output_type": "display_data"
    }
   ],
   "source": [
    "df[df['Marital_Status'] == 'Widow']['MntMeatProducts'].hist() # Гистограмма по расходам на мясо у вдов(цов)"
   ]
  },
  {
   "cell_type": "markdown",
   "id": "e91f9f47",
   "metadata": {},
   "source": [
    "\n",
    "\n",
    "### Рыба"
   ]
  },
  {
   "cell_type": "code",
   "execution_count": 88,
   "id": "64808fa7",
   "metadata": {},
   "outputs": [
    {
     "data": {
      "text/plain": [
       "Marital_Status\n",
       "Divorced    35.190476\n",
       "Married     35.569087\n",
       "Single      38.772824\n",
       "Together    39.312830\n",
       "Widow       49.907895\n",
       "Name: MntFishProducts, dtype: float64"
      ]
     },
     "execution_count": 88,
     "metadata": {},
     "output_type": "execute_result"
    }
   ],
   "source": [
    "df.groupby('Marital_Status')['MntFishProducts'].mean() # Средние траты на рыбу с сортировкой по семейному статусу "
   ]
  },
  {
   "cell_type": "code",
   "execution_count": 89,
   "id": "ff40d53d",
   "metadata": {},
   "outputs": [
    {
     "data": {
      "text/plain": [
       "<AxesSubplot:>"
      ]
     },
     "execution_count": 89,
     "metadata": {},
     "output_type": "execute_result"
    },
    {
     "data": {
      "image/png": "[encoded data removed]",
      "text/plain": [
       "<Figure size 432x288 with 1 Axes>"
      ]
     },
     "metadata": {
      "needs_background": "light"
     },
     "output_type": "display_data"
    }
   ],
   "source": [
    "df[df['Marital_Status'] == 'Divorced']['MntFishProducts'].hist() # Гистограмма по расходам на рыбу у разведенных клиентов"
   ]
  },
  {
   "cell_type": "code",
   "execution_count": 90,
   "id": "c0ac0159",
   "metadata": {},
   "outputs": [
    {
     "data": {
      "text/plain": [
       "<AxesSubplot:>"
      ]
     },
     "execution_count": 90,
     "metadata": {},
     "output_type": "execute_result"
    },
    {
     "data": {
      "image/png": "[encoded data removed]",
      "text/plain": [
       "<Figure size 432x288 with 1 Axes>"
      ]
     },
     "metadata": {
      "needs_background": "light"
     },
     "output_type": "display_data"
    }
   ],
   "source": [
    "df[df['Marital_Status'] == 'Married']['MntFishProducts'].hist() # Гистограмма по расходам на рыбу у женатых клиентов"
   ]
  },
  {
   "cell_type": "code",
   "execution_count": 91,
   "id": "7cc77f45",
   "metadata": {},
   "outputs": [
    {
     "data": {
      "text/plain": [
       "<AxesSubplot:>"
      ]
     },
     "execution_count": 91,
     "metadata": {},
     "output_type": "execute_result"
    },
    {
     "data": {
      "image/png": "[encoded data removed]",
      "text/plain": [
       "<Figure size 432x288 with 1 Axes>"
      ]
     },
     "metadata": {
      "needs_background": "light"
     },
     "output_type": "display_data"
    }
   ],
   "source": [
    "df[df['Marital_Status'] == 'Single']['MntFishProducts'].hist() # Гистограмма по расходам на рыбу у одиноких клиентов"
   ]
  },
  {
   "cell_type": "code",
   "execution_count": 92,
   "id": "987fec92",
   "metadata": {},
   "outputs": [
    {
     "data": {
      "text/plain": [
       "<AxesSubplot:>"
      ]
     },
     "execution_count": 92,
     "metadata": {},
     "output_type": "execute_result"
    },
    {
     "data": {
      "image/png": "[encoded data removed]",
      "text/plain": [
       "<Figure size 432x288 with 1 Axes>"
      ]
     },
     "metadata": {
      "needs_background": "light"
     },
     "output_type": "display_data"
    }
   ],
   "source": [
    "df[df['Marital_Status'] == 'Together']['MntFishProducts'].hist() # Гистограмма по расходам на рыбу у клиентов в отношениях"
   ]
  },
  {
   "cell_type": "code",
   "execution_count": 93,
   "id": "80f7df5f",
   "metadata": {},
   "outputs": [
    {
     "data": {
      "text/plain": [
       "<AxesSubplot:>"
      ]
     },
     "execution_count": 93,
     "metadata": {},
     "output_type": "execute_result"
    },
    {
     "data": {
      "image/png": "[encoded data removed]",
      "text/plain": [
       "<Figure size 432x288 with 1 Axes>"
      ]
     },
     "metadata": {
      "needs_background": "light"
     },
     "output_type": "display_data"
    }
   ],
   "source": [
    "df[df['Marital_Status'] == 'Widow']['MntFishProducts'].hist() # Гистограмма по расходам на рыбу у вдов(цов)"
   ]
  },
  {
   "cell_type": "markdown",
   "id": "4efb7064",
   "metadata": {},
   "source": [
    "\n",
    "\n",
    "### Сладкое"
   ]
  },
  {
   "cell_type": "code",
   "execution_count": 94,
   "id": "81970f8a",
   "metadata": {},
   "outputs": [
    {
     "data": {
      "text/plain": [
       "Marital_Status\n",
       "Divorced    26.930736\n",
       "Married     26.838407\n",
       "Single      27.072187\n",
       "Together    26.411248\n",
       "Widow       37.868421\n",
       "Name: MntSweetProducts, dtype: float64"
      ]
     },
     "execution_count": 94,
     "metadata": {},
     "output_type": "execute_result"
    }
   ],
   "source": [
    "df.groupby('Marital_Status')['MntSweetProducts'].mean() # Средние траты на сладкое с сортировкой по семейному статусу "
   ]
  },
  {
   "cell_type": "code",
   "execution_count": 95,
   "id": "18538b5e",
   "metadata": {},
   "outputs": [
    {
     "data": {
      "text/plain": [
       "<AxesSubplot:>"
      ]
     },
     "execution_count": 95,
     "metadata": {},
     "output_type": "execute_result"
    },
    {
     "data": {
      "image/png": "[encoded data removed]",
      "text/plain": [
       "<Figure size 432x288 with 1 Axes>"
      ]
     },
     "metadata": {
      "needs_background": "light"
     },
     "output_type": "display_data"
    }
   ],
   "source": [
    "df[df['Marital_Status'] == 'Divorced']['MntSweetProducts'].hist() # Гистограмма по расходам на сладкое у разведенных клиентов"
   ]
  },
  {
   "cell_type": "code",
   "execution_count": 96,
   "id": "27826dfa",
   "metadata": {},
   "outputs": [
    {
     "data": {
      "text/plain": [
       "<AxesSubplot:>"
      ]
     },
     "execution_count": 96,
     "metadata": {},
     "output_type": "execute_result"
    },
    {
     "data": {
      "image/png": "[encoded data removed]",
      "text/plain": [
       "<Figure size 432x288 with 1 Axes>"
      ]
     },
     "metadata": {
      "needs_background": "light"
     },
     "output_type": "display_data"
    }
   ],
   "source": [
    "df[df['Marital_Status'] == 'Married']['MntSweetProducts'].hist() # Гистограмма по расходам на сладкое у женатых клиентов"
   ]
  },
  {
   "cell_type": "code",
   "execution_count": 97,
   "id": "a1e92413",
   "metadata": {},
   "outputs": [
    {
     "data": {
      "text/plain": [
       "<AxesSubplot:>"
      ]
     },
     "execution_count": 97,
     "metadata": {},
     "output_type": "execute_result"
    },
    {
     "data": {
      "image/png": "[encoded data removed]",
      "text/plain": [
       "<Figure size 432x288 with 1 Axes>"
      ]
     },
     "metadata": {
      "needs_background": "light"
     },
     "output_type": "display_data"
    }
   ],
   "source": [
    "df[df['Marital_Status'] == 'Single']['MntSweetProducts'].hist() # Гистограмма по расходам на сладкое у одиноких клиентов"
   ]
  },
  {
   "cell_type": "code",
   "execution_count": 98,
   "id": "beb8da34",
   "metadata": {},
   "outputs": [
    {
     "data": {
      "text/plain": [
       "<AxesSubplot:>"
      ]
     },
     "execution_count": 98,
     "metadata": {},
     "output_type": "execute_result"
    },
    {
     "data": {
      "image/png": "[encoded data removed]",
      "text/plain": [
       "<Figure size 432x288 with 1 Axes>"
      ]
     },
     "metadata": {
      "needs_background": "light"
     },
     "output_type": "display_data"
    }
   ],
   "source": [
    "df[df['Marital_Status'] == 'Together']['MntSweetProducts'].hist() # Гистограмма по расходам на сладкое у клиентов в отношениях"
   ]
  },
  {
   "cell_type": "code",
   "execution_count": 99,
   "id": "324e80da",
   "metadata": {},
   "outputs": [
    {
     "data": {
      "text/plain": [
       "<AxesSubplot:>"
      ]
     },
     "execution_count": 99,
     "metadata": {},
     "output_type": "execute_result"
    },
    {
     "data": {
      "image/png": "[encoded data removed]",
      "text/plain": [
       "<Figure size 432x288 with 1 Axes>"
      ]
     },
     "metadata": {
      "needs_background": "light"
     },
     "output_type": "display_data"
    }
   ],
   "source": [
    "df[df['Marital_Status'] == 'Widow']['MntSweetProducts'].hist() # Гистограмма по расходам на сладкое у вдов(цов)"
   ]
  },
  {
   "cell_type": "markdown",
   "id": "002401bd",
   "metadata": {},
   "source": [
    "Траты на сладкое значительно преобладают у вдов\n",
    "\n",
    "### Золото"
   ]
  },
  {
   "cell_type": "code",
   "execution_count": 100,
   "id": "d2323a14",
   "metadata": {},
   "outputs": [
    {
     "data": {
      "text/plain": [
       "Marital_Status\n",
       "Divorced    46.484848\n",
       "Married     42.989461\n",
       "Single      43.305732\n",
       "Together    43.463972\n",
       "Widow       55.855263\n",
       "Name: MntGoldProds, dtype: float64"
      ]
     },
     "execution_count": 100,
     "metadata": {},
     "output_type": "execute_result"
    }
   ],
   "source": [
    "df.groupby('Marital_Status')['MntGoldProds'].mean() # Средние траты на золото с сортировкой по семейному статусу "
   ]
  },
  {
   "cell_type": "code",
   "execution_count": 101,
   "id": "b02b6d1b",
   "metadata": {},
   "outputs": [
    {
     "data": {
      "text/plain": [
       "<AxesSubplot:>"
      ]
     },
     "execution_count": 101,
     "metadata": {},
     "output_type": "execute_result"
    },
    {
     "data": {
      "image/png": "[encoded data removed]",
      "text/plain": [
       "<Figure size 432x288 with 1 Axes>"
      ]
     },
     "metadata": {
      "needs_background": "light"
     },
     "output_type": "display_data"
    }
   ],
   "source": [
    "df[df['Marital_Status'] == 'Divorced']['MntGoldProds'].hist() # Гистограмма по расходам на золото у разведенных клиентов"
   ]
  },
  {
   "cell_type": "code",
   "execution_count": 102,
   "id": "6c2c54c7",
   "metadata": {},
   "outputs": [
    {
     "data": {
      "text/plain": [
       "<AxesSubplot:>"
      ]
     },
     "execution_count": 102,
     "metadata": {},
     "output_type": "execute_result"
    },
    {
     "data": {
      "image/png": "[encoded data removed]",
      "text/plain": [
       "<Figure size 432x288 with 1 Axes>"
      ]
     },
     "metadata": {
      "needs_background": "light"
     },
     "output_type": "display_data"
    }
   ],
   "source": [
    "df[df['Marital_Status'] == 'Married']['MntGoldProds'].hist() # Гистограмма по расходам на золото у женатых клиентов"
   ]
  },
  {
   "cell_type": "code",
   "execution_count": 103,
   "id": "0a846c37",
   "metadata": {},
   "outputs": [
    {
     "data": {
      "text/plain": [
       "<AxesSubplot:>"
      ]
     },
     "execution_count": 103,
     "metadata": {},
     "output_type": "execute_result"
    },
    {
     "data": {
      "image/png": "[encoded data removed]",
      "text/plain": [
       "<Figure size 432x288 with 1 Axes>"
      ]
     },
     "metadata": {
      "needs_background": "light"
     },
     "output_type": "display_data"
    }
   ],
   "source": [
    "df[df['Marital_Status'] == 'Single']['MntGoldProds'].hist() # Гистограмма по расходам на золото у одиноких клиентов"
   ]
  },
  {
   "cell_type": "code",
   "execution_count": 104,
   "id": "6d487f09",
   "metadata": {},
   "outputs": [
    {
     "data": {
      "text/plain": [
       "<AxesSubplot:>"
      ]
     },
     "execution_count": 104,
     "metadata": {},
     "output_type": "execute_result"
    },
    {
     "data": {
      "image/png": "[encoded data removed]",
      "text/plain": [
       "<Figure size 432x288 with 1 Axes>"
      ]
     },
     "metadata": {
      "needs_background": "light"
     },
     "output_type": "display_data"
    }
   ],
   "source": [
    "df[df['Marital_Status'] == 'Together']['MntGoldProds'].hist() # Гистограмма по расходам на золото у клиентов в отношениях"
   ]
  },
  {
   "cell_type": "code",
   "execution_count": 105,
   "id": "b0933f0f",
   "metadata": {},
   "outputs": [
    {
     "data": {
      "text/plain": [
       "<AxesSubplot:>"
      ]
     },
     "execution_count": 105,
     "metadata": {},
     "output_type": "execute_result"
    },
    {
     "data": {
      "image/png": "[encoded data removed]",
      "text/plain": [
       "<Figure size 432x288 with 1 Axes>"
      ]
     },
     "metadata": {
      "needs_background": "light"
     },
     "output_type": "display_data"
    }
   ],
   "source": [
    "df[df['Marital_Status'] == 'Widow']['MntGoldProds'].hist() # Гистограмма по расходам на золото у вдов(цов)"
   ]
  },
  {
   "cell_type": "markdown",
   "id": "840d716b",
   "metadata": {},
   "source": [
    "### Промежуточные выводы\n",
    "\n",
    "На основании проведенных выше исследований по расходам мы можем разделить наших клиентов на несколько групп.  \n",
    "Поделим их на три группы:\n",
    "1. 0 - 0.25% значений\n",
    "2. 0.25% - 0.75% значений\n",
    "3. 0.75% - 100% значений"
   ]
  },
  {
   "cell_type": "code",
   "execution_count": 106,
   "id": "ee5e73bc",
   "metadata": {},
   "outputs": [
    {
     "data": {
      "text/plain": [
       "0       (497.667, 995.333]\n",
       "1        (-1.494, 497.667]\n",
       "2        (-1.494, 497.667]\n",
       "3        (-1.494, 497.667]\n",
       "4        (-1.494, 497.667]\n",
       "               ...        \n",
       "2235    (497.667, 995.333]\n",
       "2236     (-1.494, 497.667]\n",
       "2237    (497.667, 995.333]\n",
       "2238     (-1.494, 497.667]\n",
       "2239     (-1.494, 497.667]\n",
       "Name: MntWines, Length: 2201, dtype: category\n",
       "Categories (3, interval[float64, right]): [(-1.494, 497.667] < (497.667, 995.333] < (995.333, 1493.0]]"
      ]
     },
     "execution_count": 106,
     "metadata": {},
     "output_type": "execute_result"
    }
   ],
   "source": [
    "pd.cut(df['MntWines'], bins = 3, include_lowest = True)"
   ]
  },
  {
   "cell_type": "markdown",
   "id": "9a482c80",
   "metadata": {},
   "source": [
    "### Изменение датасета\n",
    "\n",
    "создаем новые столбцы с расходами клиентов с разбивкой на наши три группы"
   ]
  },
  {
   "cell_type": "code",
   "execution_count": 107,
   "id": "70d14ba8",
   "metadata": {},
   "outputs": [],
   "source": [
    "df['wine_groups'] = pd.qcut(df['MntWines'], [0, 0.25, 0.75, 1], labels = ['Тратят мало', 'Тратят умеренно', 'Тратят много']) # Столбец с данными по вину"
   ]
  },
  {
   "cell_type": "code",
   "execution_count": 108,
   "id": "618b2a08",
   "metadata": {},
   "outputs": [
    {
     "data": {
      "text/plain": [
       "Тратят умеренно    1093\n",
       "Тратят мало         558\n",
       "Тратят много        550\n",
       "Name: wine_groups, dtype: int64"
      ]
     },
     "execution_count": 108,
     "metadata": {},
     "output_type": "execute_result"
    }
   ],
   "source": [
    "df['wine_groups'].value_counts()"
   ]
  },
  {
   "cell_type": "code",
   "execution_count": 109,
   "id": "fe1af943",
   "metadata": {},
   "outputs": [],
   "source": [
    "df['fruit_groups'] = pd.qcut(df['MntFruits'], [0, 0.25, 0.75, 1], labels = ['Тратят мало', 'Тратят умеренно', 'Тратят много']) # Столбец с данными по фруктам"
   ]
  },
  {
   "cell_type": "code",
   "execution_count": 110,
   "id": "74a04443",
   "metadata": {},
   "outputs": [],
   "source": [
    "df['meat_groups'] = pd.qcut(df['MntMeatProducts'], [0, 0.25, 0.75, 1], labels = ['Тратят мало', 'Тратят умеренно', 'Тратят много']) # Столбец с данными по мясу"
   ]
  },
  {
   "cell_type": "code",
   "execution_count": 111,
   "id": "3883ff56",
   "metadata": {},
   "outputs": [],
   "source": [
    "df['fish_groups'] = pd.qcut(df['MntFishProducts'], [0, 0.25, 0.75, 1], labels = ['Тратят мало', 'Тратят умеренно', 'Тратят много']) # Столбец с данными по рыбе"
   ]
  },
  {
   "cell_type": "code",
   "execution_count": 112,
   "id": "c516a8cc",
   "metadata": {},
   "outputs": [],
   "source": [
    "df['sweet_groups'] = pd.qcut(df['MntSweetProducts'], [0, 0.25, 0.75, 1], labels = ['Тратят мало', 'Тратят умеренно', 'Тратят много']) # Столбец с данными по сладкому"
   ]
  },
  {
   "cell_type": "code",
   "execution_count": 113,
   "id": "9ed4a7f7",
   "metadata": {},
   "outputs": [],
   "source": [
    "df['gold_groups'] = pd.qcut(df['MntGoldProds'], [0, 0.25, 0.75, 1], labels = ['Тратят мало', 'Тратят умеренно', 'Тратят много']) # Столбец с данными по золоту"
   ]
  },
  {
   "cell_type": "code",
   "execution_count": 114,
   "id": "63b4c603",
   "metadata": {},
   "outputs": [
    {
     "data": {
      "text/html": [
       "<div>\n",
       "<style scoped>\n",
       "    .dataframe tbody tr th:only-of-type {\n",
       "        vertical-align: middle;\n",
       "    }\n",
       "\n",
       "    .dataframe tbody tr th {\n",
       "        vertical-align: top;\n",
       "    }\n",
       "\n",
       "    .dataframe thead th {\n",
       "        text-align: right;\n",
       "    }\n",
       "</style>\n",
       "<table border=\"1\" class=\"dataframe\">\n",
       "  <thead>\n",
       "    <tr style=\"text-align: right;\">\n",
       "      <th></th>\n",
       "      <th>ID</th>\n",
       "      <th>Year_Birth</th>\n",
       "      <th>Education</th>\n",
       "      <th>Marital_Status</th>\n",
       "      <th>Income</th>\n",
       "      <th>Kidhome</th>\n",
       "      <th>Teenhome</th>\n",
       "      <th>Dt_Customer</th>\n",
       "      <th>Recency</th>\n",
       "      <th>MntWines</th>\n",
       "      <th>...</th>\n",
       "      <th>Z_CostContact</th>\n",
       "      <th>Z_Revenue</th>\n",
       "      <th>Response</th>\n",
       "      <th>age</th>\n",
       "      <th>wine_groups</th>\n",
       "      <th>fruit_groups</th>\n",
       "      <th>meat_groups</th>\n",
       "      <th>fish_groups</th>\n",
       "      <th>sweet_groups</th>\n",
       "      <th>gold_groups</th>\n",
       "    </tr>\n",
       "  </thead>\n",
       "  <tbody>\n",
       "    <tr>\n",
       "      <th>0</th>\n",
       "      <td>5524</td>\n",
       "      <td>1957</td>\n",
       "      <td>Graduation</td>\n",
       "      <td>Single</td>\n",
       "      <td>58138.0</td>\n",
       "      <td>0</td>\n",
       "      <td>0</td>\n",
       "      <td>04-09-2012</td>\n",
       "      <td>58</td>\n",
       "      <td>635</td>\n",
       "      <td>...</td>\n",
       "      <td>3</td>\n",
       "      <td>11</td>\n",
       "      <td>1</td>\n",
       "      <td>66</td>\n",
       "      <td>Тратят много</td>\n",
       "      <td>Тратят много</td>\n",
       "      <td>Тратят много</td>\n",
       "      <td>Тратят много</td>\n",
       "      <td>Тратят много</td>\n",
       "      <td>Тратят много</td>\n",
       "    </tr>\n",
       "    <tr>\n",
       "      <th>1</th>\n",
       "      <td>2174</td>\n",
       "      <td>1954</td>\n",
       "      <td>Graduation</td>\n",
       "      <td>Single</td>\n",
       "      <td>46344.0</td>\n",
       "      <td>1</td>\n",
       "      <td>1</td>\n",
       "      <td>08-03-2014</td>\n",
       "      <td>38</td>\n",
       "      <td>11</td>\n",
       "      <td>...</td>\n",
       "      <td>3</td>\n",
       "      <td>11</td>\n",
       "      <td>0</td>\n",
       "      <td>69</td>\n",
       "      <td>Тратят мало</td>\n",
       "      <td>Тратят мало</td>\n",
       "      <td>Тратят мало</td>\n",
       "      <td>Тратят мало</td>\n",
       "      <td>Тратят мало</td>\n",
       "      <td>Тратят мало</td>\n",
       "    </tr>\n",
       "    <tr>\n",
       "      <th>2</th>\n",
       "      <td>4141</td>\n",
       "      <td>1965</td>\n",
       "      <td>Graduation</td>\n",
       "      <td>Together</td>\n",
       "      <td>71613.0</td>\n",
       "      <td>0</td>\n",
       "      <td>0</td>\n",
       "      <td>21-08-2013</td>\n",
       "      <td>26</td>\n",
       "      <td>426</td>\n",
       "      <td>...</td>\n",
       "      <td>3</td>\n",
       "      <td>11</td>\n",
       "      <td>0</td>\n",
       "      <td>58</td>\n",
       "      <td>Тратят умеренно</td>\n",
       "      <td>Тратят много</td>\n",
       "      <td>Тратят умеренно</td>\n",
       "      <td>Тратят много</td>\n",
       "      <td>Тратят умеренно</td>\n",
       "      <td>Тратят умеренно</td>\n",
       "    </tr>\n",
       "    <tr>\n",
       "      <th>3</th>\n",
       "      <td>6182</td>\n",
       "      <td>1984</td>\n",
       "      <td>Graduation</td>\n",
       "      <td>Together</td>\n",
       "      <td>26646.0</td>\n",
       "      <td>1</td>\n",
       "      <td>0</td>\n",
       "      <td>10-02-2014</td>\n",
       "      <td>26</td>\n",
       "      <td>11</td>\n",
       "      <td>...</td>\n",
       "      <td>3</td>\n",
       "      <td>11</td>\n",
       "      <td>0</td>\n",
       "      <td>39</td>\n",
       "      <td>Тратят мало</td>\n",
       "      <td>Тратят умеренно</td>\n",
       "      <td>Тратят умеренно</td>\n",
       "      <td>Тратят умеренно</td>\n",
       "      <td>Тратят умеренно</td>\n",
       "      <td>Тратят мало</td>\n",
       "    </tr>\n",
       "    <tr>\n",
       "      <th>4</th>\n",
       "      <td>5324</td>\n",
       "      <td>1981</td>\n",
       "      <td>PhD</td>\n",
       "      <td>Married</td>\n",
       "      <td>58293.0</td>\n",
       "      <td>1</td>\n",
       "      <td>0</td>\n",
       "      <td>19-01-2014</td>\n",
       "      <td>94</td>\n",
       "      <td>173</td>\n",
       "      <td>...</td>\n",
       "      <td>3</td>\n",
       "      <td>11</td>\n",
       "      <td>0</td>\n",
       "      <td>42</td>\n",
       "      <td>Тратят умеренно</td>\n",
       "      <td>Тратят много</td>\n",
       "      <td>Тратят умеренно</td>\n",
       "      <td>Тратят умеренно</td>\n",
       "      <td>Тратят умеренно</td>\n",
       "      <td>Тратят умеренно</td>\n",
       "    </tr>\n",
       "  </tbody>\n",
       "</table>\n",
       "<p>5 rows × 36 columns</p>\n",
       "</div>"
      ],
      "text/plain": [
       "     ID  Year_Birth   Education Marital_Status   Income  Kidhome  Teenhome  \\\n",
       "0  5524        1957  Graduation         Single  58138.0        0         0   \n",
       "1  2174        1954  Graduation         Single  46344.0        1         1   \n",
       "2  4141        1965  Graduation       Together  71613.0        0         0   \n",
       "3  6182        1984  Graduation       Together  26646.0        1         0   \n",
       "4  5324        1981         PhD        Married  58293.0        1         0   \n",
       "\n",
       "  Dt_Customer  Recency  MntWines  ...  Z_CostContact  Z_Revenue  Response  \\\n",
       "0  04-09-2012       58       635  ...              3         11         1   \n",
       "1  08-03-2014       38        11  ...              3         11         0   \n",
       "2  21-08-2013       26       426  ...              3         11         0   \n",
       "3  10-02-2014       26        11  ...              3         11         0   \n",
       "4  19-01-2014       94       173  ...              3         11         0   \n",
       "\n",
       "   age      wine_groups     fruit_groups      meat_groups      fish_groups  \\\n",
       "0   66     Тратят много     Тратят много     Тратят много     Тратят много   \n",
       "1   69      Тратят мало      Тратят мало      Тратят мало      Тратят мало   \n",
       "2   58  Тратят умеренно     Тратят много  Тратят умеренно     Тратят много   \n",
       "3   39      Тратят мало  Тратят умеренно  Тратят умеренно  Тратят умеренно   \n",
       "4   42  Тратят умеренно     Тратят много  Тратят умеренно  Тратят умеренно   \n",
       "\n",
       "      sweet_groups      gold_groups  \n",
       "0     Тратят много     Тратят много  \n",
       "1      Тратят мало      Тратят мало  \n",
       "2  Тратят умеренно  Тратят умеренно  \n",
       "3  Тратят умеренно      Тратят мало  \n",
       "4  Тратят умеренно  Тратят умеренно  \n",
       "\n",
       "[5 rows x 36 columns]"
      ]
     },
     "execution_count": 114,
     "metadata": {},
     "output_type": "execute_result"
    }
   ],
   "source": [
    "df.head() "
   ]
  },
  {
   "cell_type": "code",
   "execution_count": 115,
   "id": "a02f4875",
   "metadata": {},
   "outputs": [
    {
     "data": {
      "text/plain": [
       "Тратят умеренно    1074\n",
       "Тратят мало         577\n",
       "Тратят много        550\n",
       "Name: gold_groups, dtype: int64"
      ]
     },
     "execution_count": 115,
     "metadata": {},
     "output_type": "execute_result"
    }
   ],
   "source": [
    "df['gold_groups'].value_counts()"
   ]
  },
  {
   "cell_type": "code",
   "execution_count": 116,
   "id": "066e0a4f",
   "metadata": {},
   "outputs": [
    {
     "data": {
      "text/plain": [
       "wine_groups\n",
       "Тратят мало        28354.057348\n",
       "Тратят умеренно    53332.548948\n",
       "Тратят много       71854.674545\n",
       "Name: Income, dtype: float64"
      ]
     },
     "execution_count": 116,
     "metadata": {},
     "output_type": "execute_result"
    }
   ],
   "source": [
    "df.groupby('wine_groups')['Income'].mean() # соотношение расходов на вино и доходов"
   ]
  },
  {
   "cell_type": "code",
   "execution_count": 117,
   "id": "2e67f598",
   "metadata": {},
   "outputs": [],
   "source": [
    "corr_matrix = df[['age', 'Income', 'MntWines', 'MntFruits', 'MntMeatProducts', 'MntFishProducts', 'MntSweetProducts', 'MntGoldProds', 'NumWebPurchases', 'NumCatalogPurchases', 'NumStorePurchases', 'NumDealsPurchases']].corr() # создаем переменную с необходимыми столбцами для создания матрицы корреляции"
   ]
  },
  {
   "cell_type": "code",
   "execution_count": 118,
   "id": "17366a54",
   "metadata": {},
   "outputs": [
    {
     "data": {
      "text/plain": [
       "<AxesSubplot:>"
      ]
     },
     "execution_count": 118,
     "metadata": {},
     "output_type": "execute_result"
    },
    {
     "data": {
      "image/png": "[encoded data removed]",
      "text/plain": [
       "<Figure size 432x288 with 2 Axes>"
      ]
     },
     "metadata": {
      "needs_background": "light"
     },
     "output_type": "display_data"
    }
   ],
   "source": [
    "sns.heatmap(corr_matrix) # матрица корреляции"
   ]
  },
  {
   "cell_type": "markdown",
   "id": "e86e203c",
   "metadata": {},
   "source": [
    "### Результаты матрицы корреляции\n",
    "\n",
    "1. __Возраст.__ Значения возраста не коррелируют ни с одним показателем.\n",
    "2. __Доход.__ Данные по доходу имеют прямую корреляцию с доходами и отсутствует в отношении количества покупок со скидками.\n",
    "3. __Траты на вино.__ Данные напрямую коррелируют с тратами на мясо. С другими продуктами корреляция меньше. Чаще всего вино покупают в каталогах, затем идут магазины и сайт\n",
    "4. __Траты на фрукты.__ Данные коррелируют с тратами на мясо, рыбу и сладости. Меньше - с вином и золотом. Покупается чаще через каталог, на втором месте магазин, через сайт практически не реализуется.\n",
    "5. __Траты на мясо.__ Данные коррелируют со всеми продуктами, кроме золота, с ним значение ниже. Лучше всего продается через каталог, похуже - в магазине, на сайте очень редко.\n",
    "6. __Траты на рыбу.__ Данные коррелируют с фруктами, мясом и сладким, меньше - с вином и золотом. Продажи, так же, через каталог, на втором месте магазин, редко - сайт.\n",
    "7. __Траты на сладкое.__ Данные коррелируют с фруктами, мясом и рыбой, меньше - с вином и золотом. Продажи чаще через каталог, затем магазины, редко - сайт.\n",
    "8. __Траты на золото.__ Корреляция со всеми товарами низкая. Покупка происходит чаще через каталог, на сайте и в магазине примерно с одинаковой частотой.\n",
    "9. __Покупки через сайт.__ Чаще всего через сайт покупают вино, остальное - гораздо реже.\n",
    "10. __Покупки с каталога.__ Чаще всего через каталог покупают вино и мясо, с остальными продуктами корреляция ниже.\n",
    "11. __Покупки в магазине.__ В магазине чаще берут вино, с остальными продуктами корреляция ниже. \n",
    "12. __Покупки по скидкам.__ Данные не коррелируют ни с одним столбцом"
   ]
  },
  {
   "cell_type": "markdown",
   "id": "f608d301",
   "metadata": {},
   "source": [
    "кластеризация, карпов курсы"
   ]
  },
  {
   "cell_type": "markdown",
   "id": "f97b3f43",
   "metadata": {},
   "source": [
    "# Исследования групп клиентов\n",
    "\n"
   ]
  },
  {
   "cell_type": "code",
   "execution_count": 119,
   "id": "62529c13",
   "metadata": {},
   "outputs": [],
   "source": [
    "df['sum_groups'] = df[['wine_groups', 'fruit_groups', 'meat_groups', 'fish_groups', 'sweet_groups', 'gold_groups']].agg('_'.join, axis=1)"
   ]
  },
  {
   "cell_type": "code",
   "execution_count": 120,
   "id": "65ad7fa0",
   "metadata": {},
   "outputs": [
    {
     "data": {
      "text/plain": [
       "Тратят умеренно_Тратят умеренно_Тратят умеренно_Тратят умеренно_Тратят умеренно_Тратят умеренно    0.069514\n",
       "Тратят мало_Тратят мало_Тратят мало_Тратят мало_Тратят мало_Тратят мало                            0.057701\n",
       "Тратят умеренно_Тратят мало_Тратят мало_Тратят мало_Тратят мало_Тратят мало                        0.042708\n",
       "Тратят много_Тратят много_Тратят много_Тратят много_Тратят много_Тратят много                      0.031804\n",
       "Тратят мало_Тратят умеренно_Тратят мало_Тратят умеренно_Тратят умеренно_Тратят умеренно            0.031804\n",
       "Тратят умеренно_Тратят умеренно_Тратят умеренно_Тратят умеренно_Тратят умеренно_Тратят много       0.023626\n",
       "Тратят много_Тратят много_Тратят много_Тратят много_Тратят много_Тратят умеренно                   0.022717\n",
       "Тратят умеренно_Тратят много_Тратят много_Тратят много_Тратят много_Тратят умеренно                0.020445\n",
       "Тратят умеренно_Тратят мало_Тратят умеренно_Тратят умеренно_Тратят умеренно_Тратят умеренно        0.018628\n",
       "Тратят умеренно_Тратят много_Тратят много_Тратят много_Тратят много_Тратят много                   0.018174\n",
       "Name: sum_groups, dtype: float64"
      ]
     },
     "execution_count": 120,
     "metadata": {},
     "output_type": "execute_result"
    }
   ],
   "source": [
    "df['sum_groups'].value_counts(normalize= True).head(10)"
   ]
  },
  {
   "cell_type": "markdown",
   "id": "fd63409a",
   "metadata": {},
   "source": [
    "## Тратят много на все категории товаров\n",
    "\n",
    "### Количество клиентов в группе, семейный статус"
   ]
  },
  {
   "cell_type": "code",
   "execution_count": 121,
   "id": "0d9fe596",
   "metadata": {},
   "outputs": [
    {
     "data": {
      "text/plain": [
       "Married     0.371429\n",
       "Together    0.285714\n",
       "Single      0.171429\n",
       "Divorced    0.142857\n",
       "Widow       0.028571\n",
       "Name: Marital_Status, dtype: float64"
      ]
     },
     "execution_count": 121,
     "metadata": {},
     "output_type": "execute_result"
    }
   ],
   "source": [
    "df[(df['wine_groups'] == 'Тратят много') & (df['fruit_groups'] == 'Тратят много') & (df['meat_groups'] == 'Тратят много') & (df['fish_groups'] == 'Тратят много') & (df['sweet_groups'] == 'Тратят много') & (df['gold_groups'] == 'Тратят много')]['Marital_Status'].value_counts(normalize= True)"
   ]
  },
  {
   "cell_type": "code",
   "execution_count": 122,
   "id": "de04380b",
   "metadata": {},
   "outputs": [
    {
     "data": {
      "text/plain": [
       "<AxesSubplot:>"
      ]
     },
     "execution_count": 122,
     "metadata": {},
     "output_type": "execute_result"
    },
    {
     "data": {
      "image/png": "[encoded data removed]",
      "text/plain": [
       "<Figure size 432x288 with 1 Axes>"
      ]
     },
     "metadata": {
      "needs_background": "light"
     },
     "output_type": "display_data"
    }
   ],
   "source": [
    "df[(df['wine_groups'] == 'Тратят много') & (df['fruit_groups'] == 'Тратят много') & (df['meat_groups'] == 'Тратят много') & (df['fish_groups'] == 'Тратят много') & (df['sweet_groups'] == 'Тратят много') & (df['gold_groups'] == 'Тратят много')]['Marital_Status'].hist()"
   ]
  },
  {
   "cell_type": "markdown",
   "id": "914bd9b5",
   "metadata": {},
   "source": [
    "Узнаем какой процент таких клиентов"
   ]
  },
  {
   "cell_type": "code",
   "execution_count": 123,
   "id": "0ce79c9a",
   "metadata": {},
   "outputs": [
    {
     "data": {
      "text/plain": [
       "0.03180372557928214"
      ]
     },
     "execution_count": 123,
     "metadata": {},
     "output_type": "execute_result"
    }
   ],
   "source": [
    "df[(df['wine_groups'] == 'Тратят много') & (df['fruit_groups'] == 'Тратят много') & (df['meat_groups'] == 'Тратят много') & (df['fish_groups'] == 'Тратят много') & (df['sweet_groups'] == 'Тратят много') & (df['gold_groups'] == 'Тратят много')]['Marital_Status'].count() / df['Marital_Status'].count()"
   ]
  },
  {
   "cell_type": "markdown",
   "id": "98041291",
   "metadata": {},
   "source": [
    "### Образование"
   ]
  },
  {
   "cell_type": "code",
   "execution_count": 124,
   "id": "c3652d41",
   "metadata": {},
   "outputs": [
    {
     "data": {
      "text/plain": [
       "<AxesSubplot:>"
      ]
     },
     "execution_count": 124,
     "metadata": {},
     "output_type": "execute_result"
    },
    {
     "data": {
      "image/png": "[encoded data removed]",
      "text/plain": [
       "<Figure size 432x288 with 1 Axes>"
      ]
     },
     "metadata": {
      "needs_background": "light"
     },
     "output_type": "display_data"
    }
   ],
   "source": [
    "df[(df['wine_groups'] == 'Тратят много') & (df['fruit_groups'] == 'Тратят много') & (df['meat_groups'] == 'Тратят много') & (df['fish_groups'] == 'Тратят много') & (df['sweet_groups'] == 'Тратят много') & (df['gold_groups'] == 'Тратят много')]['Education'].hist()"
   ]
  },
  {
   "cell_type": "markdown",
   "id": "58643cc6",
   "metadata": {},
   "source": [
    "### Количество детей"
   ]
  },
  {
   "cell_type": "code",
   "execution_count": 125,
   "id": "70c7ab51",
   "metadata": {},
   "outputs": [
    {
     "data": {
      "text/plain": [
       "<AxesSubplot:>"
      ]
     },
     "execution_count": 125,
     "metadata": {},
     "output_type": "execute_result"
    },
    {
     "data": {
      "image/png": "[encoded data removed]",
      "text/plain": [
       "<Figure size 432x288 with 1 Axes>"
      ]
     },
     "metadata": {
      "needs_background": "light"
     },
     "output_type": "display_data"
    }
   ],
   "source": [
    "df[(df['wine_groups'] == 'Тратят много') & (df['fruit_groups'] == 'Тратят много') & (df['meat_groups'] == 'Тратят много') & (df['fish_groups'] == 'Тратят много') & (df['sweet_groups'] == 'Тратят много') & (df['gold_groups'] == 'Тратят много')]['Kidhome'].hist()"
   ]
  },
  {
   "cell_type": "code",
   "execution_count": 126,
   "id": "2567d35f",
   "metadata": {},
   "outputs": [
    {
     "data": {
      "text/plain": [
       "<AxesSubplot:>"
      ]
     },
     "execution_count": 126,
     "metadata": {},
     "output_type": "execute_result"
    },
    {
     "data": {
      "image/png": "[encoded data removed]",
      "text/plain": [
       "<Figure size 432x288 with 1 Axes>"
      ]
     },
     "metadata": {
      "needs_background": "light"
     },
     "output_type": "display_data"
    }
   ],
   "source": [
    "df[(df['wine_groups'] == 'Тратят много') & (df['fruit_groups'] == 'Тратят много') & (df['meat_groups'] == 'Тратят много') & (df['fish_groups'] == 'Тратят много') & (df['sweet_groups'] == 'Тратят много') & (df['gold_groups'] == 'Тратят много')]['Teenhome'].hist()"
   ]
  },
  {
   "cell_type": "markdown",
   "id": "ef9beef1",
   "metadata": {},
   "source": [
    "### Количество дней с последней покупки"
   ]
  },
  {
   "cell_type": "code",
   "execution_count": 127,
   "id": "a8c9975a",
   "metadata": {},
   "outputs": [
    {
     "data": {
      "text/plain": [
       "<AxesSubplot:>"
      ]
     },
     "execution_count": 127,
     "metadata": {},
     "output_type": "execute_result"
    },
    {
     "data": {
      "image/png": "[encoded data removed]",
      "text/plain": [
       "<Figure size 432x288 with 1 Axes>"
      ]
     },
     "metadata": {
      "needs_background": "light"
     },
     "output_type": "display_data"
    }
   ],
   "source": [
    "df[(df['wine_groups'] == 'Тратят много') & (df['fruit_groups'] == 'Тратят много') & (df['meat_groups'] == 'Тратят много') & (df['fish_groups'] == 'Тратят много') & (df['sweet_groups'] == 'Тратят много') & (df['gold_groups'] == 'Тратят много')]['Recency'].hist()"
   ]
  },
  {
   "cell_type": "markdown",
   "id": "145b8c36",
   "metadata": {},
   "source": [
    "### Не покупали больше месяца"
   ]
  },
  {
   "cell_type": "code",
   "execution_count": 128,
   "id": "5fc362a1",
   "metadata": {},
   "outputs": [
    {
     "data": {
      "text/plain": [
       "0.7857142857142857"
      ]
     },
     "execution_count": 128,
     "metadata": {},
     "output_type": "execute_result"
    }
   ],
   "source": [
    "df[(df['wine_groups'] == 'Тратят много') & (df['fruit_groups'] == 'Тратят много') & (df['meat_groups'] == 'Тратят много') & (df['fish_groups'] == 'Тратят много') & (df['sweet_groups'] == 'Тратят много') & (df['gold_groups'] == 'Тратят много') & (df['Recency'] > 30)]['Recency'].count() / df[(df['wine_groups'] == 'Тратят много') & (df['fruit_groups'] == 'Тратят много') & (df['meat_groups'] == 'Тратят много') & (df['fish_groups'] == 'Тратят много') & (df['sweet_groups'] == 'Тратят много') & (df['gold_groups'] == 'Тратят много')]['Recency'].count()"
   ]
  },
  {
   "cell_type": "markdown",
   "id": "725631ae",
   "metadata": {},
   "source": [
    "## Источники покупок\n",
    "\n",
    "### Сайт"
   ]
  },
  {
   "cell_type": "code",
   "execution_count": 129,
   "id": "00abbcf3",
   "metadata": {},
   "outputs": [
    {
     "data": {
      "text/plain": [
       "<AxesSubplot:>"
      ]
     },
     "execution_count": 129,
     "metadata": {},
     "output_type": "execute_result"
    },
    {
     "data": {
      "image/png": "[encoded data removed]",
      "text/plain": [
       "<Figure size 432x288 with 1 Axes>"
      ]
     },
     "metadata": {
      "needs_background": "light"
     },
     "output_type": "display_data"
    }
   ],
   "source": [
    "df[(df['wine_groups'] == 'Тратят много') & (df['fruit_groups'] == 'Тратят много') & (df['meat_groups'] == 'Тратят много') & (df['fish_groups'] == 'Тратят много') & (df['sweet_groups'] == 'Тратят много') & (df['gold_groups'] == 'Тратят много')]['NumWebPurchases'].hist()"
   ]
  },
  {
   "cell_type": "markdown",
   "id": "4056a840",
   "metadata": {},
   "source": [
    "### Каталог"
   ]
  },
  {
   "cell_type": "code",
   "execution_count": 130,
   "id": "cb636695",
   "metadata": {},
   "outputs": [
    {
     "data": {
      "text/plain": [
       "<AxesSubplot:>"
      ]
     },
     "execution_count": 130,
     "metadata": {},
     "output_type": "execute_result"
    },
    {
     "data": {
      "image/png": "[encoded data removed]",
      "text/plain": [
       "<Figure size 432x288 with 1 Axes>"
      ]
     },
     "metadata": {
      "needs_background": "light"
     },
     "output_type": "display_data"
    }
   ],
   "source": [
    "df[(df['wine_groups'] == 'Тратят много') & (df['fruit_groups'] == 'Тратят много') & (df['meat_groups'] == 'Тратят много') & (df['fish_groups'] == 'Тратят много') & (df['sweet_groups'] == 'Тратят много') & (df['gold_groups'] == 'Тратят много')]['NumCatalogPurchases'].hist()"
   ]
  },
  {
   "cell_type": "markdown",
   "id": "8fad7a37",
   "metadata": {},
   "source": [
    "### Магазин"
   ]
  },
  {
   "cell_type": "code",
   "execution_count": 131,
   "id": "24f89c50",
   "metadata": {},
   "outputs": [
    {
     "data": {
      "text/plain": [
       "<AxesSubplot:>"
      ]
     },
     "execution_count": 131,
     "metadata": {},
     "output_type": "execute_result"
    },
    {
     "data": {
      "image/png": "[encoded data removed]",
      "text/plain": [
       "<Figure size 432x288 with 1 Axes>"
      ]
     },
     "metadata": {
      "needs_background": "light"
     },
     "output_type": "display_data"
    }
   ],
   "source": [
    "df[(df['wine_groups'] == 'Тратят много') & (df['fruit_groups'] == 'Тратят много') & (df['meat_groups'] == 'Тратят много') & (df['fish_groups'] == 'Тратят много') & (df['sweet_groups'] == 'Тратят много') & (df['gold_groups'] == 'Тратят много')]['NumStorePurchases'].hist()"
   ]
  },
  {
   "cell_type": "markdown",
   "id": "a6c8602b",
   "metadata": {},
   "source": [
    "### Количество посещений сайта за последний месяц"
   ]
  },
  {
   "cell_type": "code",
   "execution_count": 132,
   "id": "affda266",
   "metadata": {},
   "outputs": [
    {
     "data": {
      "text/plain": [
       "<AxesSubplot:>"
      ]
     },
     "execution_count": 132,
     "metadata": {},
     "output_type": "execute_result"
    },
    {
     "data": {
      "image/png": "[encoded data removed]",
      "text/plain": [
       "<Figure size 432x288 with 1 Axes>"
      ]
     },
     "metadata": {
      "needs_background": "light"
     },
     "output_type": "display_data"
    }
   ],
   "source": [
    "df[(df['wine_groups'] == 'Тратят много') & (df['fruit_groups'] == 'Тратят много') & (df['meat_groups'] == 'Тратят много') & (df['fish_groups'] == 'Тратят много') & (df['sweet_groups'] == 'Тратят много') & (df['gold_groups'] == 'Тратят много')]['NumWebVisitsMonth'].hist()"
   ]
  },
  {
   "cell_type": "markdown",
   "id": "736abd97",
   "metadata": {},
   "source": [
    "### Промежуточные выводы\n",
    "\n",
    "Мы видим, что таких клиентов 70 человек, что составляет 3.2% от общей массы, из них большая часть, а именно - 65%, замужем/женаты, либо состоят в отношениях. К данной группе относятся клиенты, в основном, не имеющие детей, редко заходящие на сайт и редко покупающие товары онлайн. Чаще покупают через каталог, либо в магазинах. 78% клиентов не совершали покупок больше 30-ти дней. Отсутствуют клиенты с базовым образованием."
   ]
  },
  {
   "cell_type": "markdown",
   "id": "cad91c6e",
   "metadata": {},
   "source": [
    "### В данной группе клиентов нет\n",
    "\n",
    "## Тратят мало на все категории товаров\n",
    "\n",
    "### Количество клиентов в группе, семейный статус"
   ]
  },
  {
   "cell_type": "code",
   "execution_count": 133,
   "id": "73fab36c",
   "metadata": {},
   "outputs": [
    {
     "data": {
      "text/plain": [
       "<AxesSubplot:>"
      ]
     },
     "execution_count": 133,
     "metadata": {},
     "output_type": "execute_result"
    },
    {
     "data": {
      "image/png": "[encoded data removed]",
      "text/plain": [
       "<Figure size 432x288 with 1 Axes>"
      ]
     },
     "metadata": {
      "needs_background": "light"
     },
     "output_type": "display_data"
    }
   ],
   "source": [
    "df[(df['wine_groups'] == 'Тратят мало') & (df['fruit_groups'] == 'Тратят мало') & (df['meat_groups'] == 'Тратят мало') & (df['fish_groups'] == 'Тратят мало') & (df['sweet_groups'] == 'Тратят мало') & (df['gold_groups'] == 'Тратят мало')]['Marital_Status'].hist()"
   ]
  },
  {
   "cell_type": "code",
   "execution_count": 134,
   "id": "f2d0d982",
   "metadata": {},
   "outputs": [
    {
     "data": {
      "text/plain": [
       "Together    40\n",
       "Married     39\n",
       "Single      31\n",
       "Divorced    13\n",
       "Widow        4\n",
       "Name: Marital_Status, dtype: int64"
      ]
     },
     "execution_count": 134,
     "metadata": {},
     "output_type": "execute_result"
    }
   ],
   "source": [
    "df[(df['wine_groups'] == 'Тратят мало') & (df['fruit_groups'] == 'Тратят мало') & (df['meat_groups'] == 'Тратят мало') & (df['fish_groups'] == 'Тратят мало') & (df['sweet_groups'] == 'Тратят мало') & (df['gold_groups'] == 'Тратят мало')]['Marital_Status'].value_counts()"
   ]
  },
  {
   "cell_type": "code",
   "execution_count": 135,
   "id": "5b13b0d4",
   "metadata": {},
   "outputs": [
    {
     "data": {
      "text/plain": [
       "Together    0.314961\n",
       "Married     0.307087\n",
       "Single      0.244094\n",
       "Divorced    0.102362\n",
       "Widow       0.031496\n",
       "Name: Marital_Status, dtype: float64"
      ]
     },
     "execution_count": 135,
     "metadata": {},
     "output_type": "execute_result"
    }
   ],
   "source": [
    "df[(df['wine_groups'] == 'Тратят мало') & (df['fruit_groups'] == 'Тратят мало') & (df['meat_groups'] == 'Тратят мало') & (df['fish_groups'] == 'Тратят мало') & (df['sweet_groups'] == 'Тратят мало') & (df['gold_groups'] == 'Тратят мало')]['Marital_Status'].value_counts(normalize= True)"
   ]
  },
  {
   "cell_type": "markdown",
   "id": "cc6a179d",
   "metadata": {},
   "source": [
    "Узнаем какой процент таких клиентов"
   ]
  },
  {
   "cell_type": "code",
   "execution_count": 136,
   "id": "981ead27",
   "metadata": {},
   "outputs": [
    {
     "data": {
      "text/plain": [
       "0.05770104497955475"
      ]
     },
     "execution_count": 136,
     "metadata": {},
     "output_type": "execute_result"
    }
   ],
   "source": [
    "df[(df['wine_groups'] == 'Тратят мало') & (df['fruit_groups'] == 'Тратят мало') & (df['meat_groups'] == 'Тратят мало') & (df['fish_groups'] == 'Тратят мало') & (df['sweet_groups'] == 'Тратят мало') & (df['gold_groups'] == 'Тратят мало')]['Marital_Status'].count() / df['Marital_Status'].count()"
   ]
  },
  {
   "cell_type": "markdown",
   "id": "b8218107",
   "metadata": {},
   "source": [
    "### Образование"
   ]
  },
  {
   "cell_type": "code",
   "execution_count": 137,
   "id": "ab33f35e",
   "metadata": {},
   "outputs": [
    {
     "data": {
      "text/plain": [
       "<AxesSubplot:>"
      ]
     },
     "execution_count": 137,
     "metadata": {},
     "output_type": "execute_result"
    },
    {
     "data": {
      "image/png": "[encoded data removed]",
      "text/plain": [
       "<Figure size 432x288 with 1 Axes>"
      ]
     },
     "metadata": {
      "needs_background": "light"
     },
     "output_type": "display_data"
    }
   ],
   "source": [
    "df[(df['wine_groups'] == 'Тратят мало') & (df['fruit_groups'] == 'Тратят мало') & (df['meat_groups'] == 'Тратят мало') & (df['fish_groups'] == 'Тратят мало') & (df['sweet_groups'] == 'Тратят мало') & (df['gold_groups'] == 'Тратят мало')]['Education'].hist()"
   ]
  },
  {
   "cell_type": "markdown",
   "id": "1f6ff156",
   "metadata": {},
   "source": [
    "### Количество детей"
   ]
  },
  {
   "cell_type": "code",
   "execution_count": 138,
   "id": "505b08d6",
   "metadata": {},
   "outputs": [
    {
     "data": {
      "text/plain": [
       "<AxesSubplot:>"
      ]
     },
     "execution_count": 138,
     "metadata": {},
     "output_type": "execute_result"
    },
    {
     "data": {
      "image/png": "[encoded data removed]",
      "text/plain": [
       "<Figure size 432x288 with 1 Axes>"
      ]
     },
     "metadata": {
      "needs_background": "light"
     },
     "output_type": "display_data"
    }
   ],
   "source": [
    "df[(df['wine_groups'] == 'Тратят мало') & (df['fruit_groups'] == 'Тратят мало') & (df['meat_groups'] == 'Тратят мало') & (df['fish_groups'] == 'Тратят мало') & (df['sweet_groups'] == 'Тратят мало') & (df['gold_groups'] == 'Тратят мало')]['Teenhome'].hist()"
   ]
  },
  {
   "cell_type": "code",
   "execution_count": 139,
   "id": "c96e7824",
   "metadata": {},
   "outputs": [
    {
     "data": {
      "text/plain": [
       "<AxesSubplot:>"
      ]
     },
     "execution_count": 139,
     "metadata": {},
     "output_type": "execute_result"
    },
    {
     "data": {
      "image/png": "[encoded data removed]",
      "text/plain": [
       "<Figure size 432x288 with 1 Axes>"
      ]
     },
     "metadata": {
      "needs_background": "light"
     },
     "output_type": "display_data"
    }
   ],
   "source": [
    "df[(df['wine_groups'] == 'Тратят мало') & (df['fruit_groups'] == 'Тратят мало') & (df['meat_groups'] == 'Тратят мало') & (df['fish_groups'] == 'Тратят мало') & (df['sweet_groups'] == 'Тратят мало') & (df['gold_groups'] == 'Тратят мало')]['Kidhome'].hist()"
   ]
  },
  {
   "cell_type": "markdown",
   "id": "c820fb79",
   "metadata": {},
   "source": [
    "### Количество дней с последней покупки"
   ]
  },
  {
   "cell_type": "code",
   "execution_count": 140,
   "id": "fec4848a",
   "metadata": {},
   "outputs": [
    {
     "data": {
      "text/plain": [
       "<AxesSubplot:>"
      ]
     },
     "execution_count": 140,
     "metadata": {},
     "output_type": "execute_result"
    },
    {
     "data": {
      "image/png": "[encoded data removed]",
      "text/plain": [
       "<Figure size 432x288 with 1 Axes>"
      ]
     },
     "metadata": {
      "needs_background": "light"
     },
     "output_type": "display_data"
    }
   ],
   "source": [
    "df[(df['wine_groups'] == 'Тратят мало') & (df['fruit_groups'] == 'Тратят мало') & (df['meat_groups'] == 'Тратят мало') & (df['fish_groups'] == 'Тратят мало') & (df['sweet_groups'] == 'Тратят мало') & (df['gold_groups'] == 'Тратят мало')]['Recency'].hist()"
   ]
  },
  {
   "cell_type": "markdown",
   "id": "8cfbf8b4",
   "metadata": {},
   "source": [
    "### Не покупали больше месяца"
   ]
  },
  {
   "cell_type": "code",
   "execution_count": 141,
   "id": "ed3d5ab4",
   "metadata": {},
   "outputs": [
    {
     "data": {
      "text/plain": [
       "0.7165354330708661"
      ]
     },
     "execution_count": 141,
     "metadata": {},
     "output_type": "execute_result"
    }
   ],
   "source": [
    "df[(df['wine_groups'] == 'Тратят мало') & (df['fruit_groups'] == 'Тратят мало') & (df['meat_groups'] == 'Тратят мало') & (df['fish_groups'] == 'Тратят мало') & (df['sweet_groups'] == 'Тратят мало') & (df['gold_groups'] == 'Тратят мало') & (df['Recency'] > 30)]['Recency'].count() / df[(df['wine_groups'] == 'Тратят мало') & (df['fruit_groups'] == 'Тратят мало') & (df['meat_groups'] == 'Тратят мало') & (df['fish_groups'] == 'Тратят мало') & (df['sweet_groups'] == 'Тратят мало') & (df['gold_groups'] == 'Тратят мало')]['Recency'].count()"
   ]
  },
  {
   "cell_type": "markdown",
   "id": "e6447cf7",
   "metadata": {},
   "source": [
    "## Источники покупок\n",
    "\n",
    "### Сайт"
   ]
  },
  {
   "cell_type": "code",
   "execution_count": 142,
   "id": "ee970c52",
   "metadata": {},
   "outputs": [
    {
     "data": {
      "text/plain": [
       "<AxesSubplot:>"
      ]
     },
     "execution_count": 142,
     "metadata": {},
     "output_type": "execute_result"
    },
    {
     "data": {
      "image/png": "[encoded data removed]",
      "text/plain": [
       "<Figure size 432x288 with 1 Axes>"
      ]
     },
     "metadata": {
      "needs_background": "light"
     },
     "output_type": "display_data"
    }
   ],
   "source": [
    "df[(df['wine_groups'] == 'Тратят мало') & (df['fruit_groups'] == 'Тратят мало') & (df['meat_groups'] == 'Тратят мало') & (df['fish_groups'] == 'Тратят мало') & (df['sweet_groups'] == 'Тратят мало') & (df['gold_groups'] == 'Тратят мало')]['NumWebPurchases'].hist()"
   ]
  },
  {
   "cell_type": "markdown",
   "id": "c631a122",
   "metadata": {},
   "source": [
    "### Каталог"
   ]
  },
  {
   "cell_type": "code",
   "execution_count": 143,
   "id": "091839db",
   "metadata": {},
   "outputs": [
    {
     "data": {
      "text/plain": [
       "<AxesSubplot:>"
      ]
     },
     "execution_count": 143,
     "metadata": {},
     "output_type": "execute_result"
    },
    {
     "data": {
      "image/png": "[encoded data removed]",
      "text/plain": [
       "<Figure size 432x288 with 1 Axes>"
      ]
     },
     "metadata": {
      "needs_background": "light"
     },
     "output_type": "display_data"
    }
   ],
   "source": [
    "df[(df['wine_groups'] == 'Тратят мало') & (df['fruit_groups'] == 'Тратят мало') & (df['meat_groups'] == 'Тратят мало') & (df['fish_groups'] == 'Тратят мало') & (df['sweet_groups'] == 'Тратят мало') & (df['gold_groups'] == 'Тратят мало')]['NumCatalogPurchases'].hist()"
   ]
  },
  {
   "cell_type": "markdown",
   "id": "0a7b5a9a",
   "metadata": {},
   "source": [
    "### Магазин"
   ]
  },
  {
   "cell_type": "code",
   "execution_count": 144,
   "id": "1f020e08",
   "metadata": {},
   "outputs": [
    {
     "data": {
      "text/plain": [
       "<AxesSubplot:>"
      ]
     },
     "execution_count": 144,
     "metadata": {},
     "output_type": "execute_result"
    },
    {
     "data": {
      "image/png": "[encoded data removed]",
      "text/plain": [
       "<Figure size 432x288 with 1 Axes>"
      ]
     },
     "metadata": {
      "needs_background": "light"
     },
     "output_type": "display_data"
    }
   ],
   "source": [
    "df[(df['wine_groups'] == 'Тратят мало') & (df['fruit_groups'] == 'Тратят мало') & (df['meat_groups'] == 'Тратят мало') & (df['fish_groups'] == 'Тратят мало') & (df['sweet_groups'] == 'Тратят мало') & (df['gold_groups'] == 'Тратят мало')]['NumStorePurchases'].hist()"
   ]
  },
  {
   "cell_type": "markdown",
   "id": "dd8e6938",
   "metadata": {},
   "source": [
    "### Количество посещений сайта за последний месяц"
   ]
  },
  {
   "cell_type": "code",
   "execution_count": 145,
   "id": "3c2fbb46",
   "metadata": {},
   "outputs": [
    {
     "data": {
      "text/plain": [
       "<AxesSubplot:>"
      ]
     },
     "execution_count": 145,
     "metadata": {},
     "output_type": "execute_result"
    },
    {
     "data": {
      "image/png": "[encoded data removed]",
      "text/plain": [
       "<Figure size 432x288 with 1 Axes>"
      ]
     },
     "metadata": {
      "needs_background": "light"
     },
     "output_type": "display_data"
    }
   ],
   "source": [
    "df[(df['wine_groups'] == 'Тратят мало') & (df['fruit_groups'] == 'Тратят мало') & (df['meat_groups'] == 'Тратят мало') & (df['fish_groups'] == 'Тратят мало') & (df['sweet_groups'] == 'Тратят мало') & (df['gold_groups'] == 'Тратят мало')]['NumWebVisitsMonth'].hist()"
   ]
  },
  {
   "cell_type": "markdown",
   "id": "e28daa13",
   "metadata": {},
   "source": [
    "### Промежуточные выводы\n",
    "\n",
    "В категории мало тратящих содержится 5.8% от общей массы клиентов, большая их часть женатых/замужних, либо людей в отношениях - 62%, имеющие одного ребенка. Покупки совершают на сайте, либо в магазине, практически не пользуются каталогом. 71% клиентов не совершали покупок больше 30-ти дней. "
   ]
  },
  {
   "cell_type": "markdown",
   "id": "fe69c8de",
   "metadata": {},
   "source": [
    "## Тратят умеренно на все категории товаров\n",
    "\n",
    "\n",
    "### Количество клиентов в группе, семейный статус"
   ]
  },
  {
   "cell_type": "code",
   "execution_count": 146,
   "id": "724b2c09",
   "metadata": {},
   "outputs": [
    {
     "data": {
      "text/plain": [
       "<AxesSubplot:>"
      ]
     },
     "execution_count": 146,
     "metadata": {},
     "output_type": "execute_result"
    },
    {
     "data": {
      "image/png": "[encoded data removed]",
      "text/plain": [
       "<Figure size 432x288 with 1 Axes>"
      ]
     },
     "metadata": {
      "needs_background": "light"
     },
     "output_type": "display_data"
    }
   ],
   "source": [
    "df[(df['wine_groups'] == 'Тратят умеренно') & (df['fruit_groups'] == 'Тратят умеренно') & (df['meat_groups'] == 'Тратят умеренно') & (df['fish_groups'] == 'Тратят умеренно') & (df['sweet_groups'] == 'Тратят умеренно') & (df['gold_groups'] == 'Тратят умеренно')]['Marital_Status'].hist()"
   ]
  },
  {
   "cell_type": "code",
   "execution_count": 147,
   "id": "a1362092",
   "metadata": {},
   "outputs": [
    {
     "data": {
      "text/plain": [
       "Married     48\n",
       "Together    44\n",
       "Single      34\n",
       "Divorced    21\n",
       "Widow        6\n",
       "Name: Marital_Status, dtype: int64"
      ]
     },
     "execution_count": 147,
     "metadata": {},
     "output_type": "execute_result"
    }
   ],
   "source": [
    "df[(df['wine_groups'] == 'Тратят умеренно') & (df['fruit_groups'] == 'Тратят умеренно') & (df['meat_groups'] == 'Тратят умеренно') & (df['fish_groups'] == 'Тратят умеренно') & (df['sweet_groups'] == 'Тратят умеренно') & (df['gold_groups'] == 'Тратят умеренно')]['Marital_Status'].value_counts()"
   ]
  },
  {
   "cell_type": "code",
   "execution_count": 148,
   "id": "1f8daaf6",
   "metadata": {},
   "outputs": [
    {
     "data": {
      "text/plain": [
       "Married     0.313725\n",
       "Together    0.287582\n",
       "Single      0.222222\n",
       "Divorced    0.137255\n",
       "Widow       0.039216\n",
       "Name: Marital_Status, dtype: float64"
      ]
     },
     "execution_count": 148,
     "metadata": {},
     "output_type": "execute_result"
    }
   ],
   "source": [
    "df[(df['wine_groups'] == 'Тратят умеренно') & (df['fruit_groups'] == 'Тратят умеренно') & (df['meat_groups'] == 'Тратят умеренно') & (df['fish_groups'] == 'Тратят умеренно') & (df['sweet_groups'] == 'Тратят умеренно') & (df['gold_groups'] == 'Тратят умеренно')]['Marital_Status'].value_counts(normalize= True)"
   ]
  },
  {
   "cell_type": "markdown",
   "id": "83d9d33a",
   "metadata": {},
   "source": [
    "Узнаем какой процент таких клиентов"
   ]
  },
  {
   "cell_type": "code",
   "execution_count": 149,
   "id": "763c9a3c",
   "metadata": {},
   "outputs": [
    {
     "data": {
      "text/plain": [
       "0.06951385733757383"
      ]
     },
     "execution_count": 149,
     "metadata": {},
     "output_type": "execute_result"
    }
   ],
   "source": [
    "df[(df['wine_groups'] == 'Тратят умеренно') & (df['fruit_groups'] == 'Тратят умеренно') & (df['meat_groups'] == 'Тратят умеренно') & (df['fish_groups'] == 'Тратят умеренно') & (df['sweet_groups'] == 'Тратят умеренно') & (df['gold_groups'] == 'Тратят умеренно')]['Marital_Status'].count() / df['Marital_Status'].count()"
   ]
  },
  {
   "cell_type": "markdown",
   "id": "d258624d",
   "metadata": {},
   "source": [
    "### Образование"
   ]
  },
  {
   "cell_type": "code",
   "execution_count": 150,
   "id": "d1f353df",
   "metadata": {},
   "outputs": [
    {
     "data": {
      "text/plain": [
       "<AxesSubplot:>"
      ]
     },
     "execution_count": 150,
     "metadata": {},
     "output_type": "execute_result"
    },
    {
     "data": {
      "image/png": "[encoded data removed]",
      "text/plain": [
       "<Figure size 432x288 with 1 Axes>"
      ]
     },
     "metadata": {
      "needs_background": "light"
     },
     "output_type": "display_data"
    }
   ],
   "source": [
    "df[(df['wine_groups'] == 'Тратят умеренно') & (df['fruit_groups'] == 'Тратят умеренно') & (df['meat_groups'] == 'Тратят умеренно') & (df['fish_groups'] == 'Тратят умеренно') & (df['sweet_groups'] == 'Тратят умеренно') & (df['gold_groups'] == 'Тратят умеренно')]['Education'].hist()"
   ]
  },
  {
   "cell_type": "markdown",
   "id": "89932318",
   "metadata": {},
   "source": [
    "### Количество детей"
   ]
  },
  {
   "cell_type": "code",
   "execution_count": 151,
   "id": "ab154059",
   "metadata": {},
   "outputs": [
    {
     "data": {
      "text/plain": [
       "<AxesSubplot:>"
      ]
     },
     "execution_count": 151,
     "metadata": {},
     "output_type": "execute_result"
    },
    {
     "data": {
      "image/png": "[encoded data removed]",
      "text/plain": [
       "<Figure size 432x288 with 1 Axes>"
      ]
     },
     "metadata": {
      "needs_background": "light"
     },
     "output_type": "display_data"
    }
   ],
   "source": [
    "df[(df['wine_groups'] == 'Тратят умеренно') & (df['fruit_groups'] == 'Тратят умеренно') & (df['meat_groups'] == 'Тратят умеренно') & (df['fish_groups'] == 'Тратят умеренно') & (df['sweet_groups'] == 'Тратят умеренно') & (df['gold_groups'] == 'Тратят умеренно')]['Teenhome'].hist()"
   ]
  },
  {
   "cell_type": "code",
   "execution_count": 152,
   "id": "e8f7d6e7",
   "metadata": {},
   "outputs": [
    {
     "data": {
      "text/plain": [
       "<AxesSubplot:>"
      ]
     },
     "execution_count": 152,
     "metadata": {},
     "output_type": "execute_result"
    },
    {
     "data": {
      "image/png": "[encoded data removed]",
      "text/plain": [
       "<Figure size 432x288 with 1 Axes>"
      ]
     },
     "metadata": {
      "needs_background": "light"
     },
     "output_type": "display_data"
    }
   ],
   "source": [
    "df[(df['wine_groups'] == 'Тратят умеренно') & (df['fruit_groups'] == 'Тратят умеренно') & (df['meat_groups'] == 'Тратят умеренно') & (df['fish_groups'] == 'Тратят умеренно') & (df['sweet_groups'] == 'Тратят умеренно') & (df['gold_groups'] == 'Тратят умеренно')]['Kidhome'].hist()"
   ]
  },
  {
   "cell_type": "markdown",
   "id": "ce561c1a",
   "metadata": {},
   "source": [
    "### Количество дней с последней покупки"
   ]
  },
  {
   "cell_type": "code",
   "execution_count": 153,
   "id": "ecc9f255",
   "metadata": {},
   "outputs": [
    {
     "data": {
      "text/plain": [
       "<AxesSubplot:>"
      ]
     },
     "execution_count": 153,
     "metadata": {},
     "output_type": "execute_result"
    },
    {
     "data": {
      "image/png": "[encoded data removed]",
      "text/plain": [
       "<Figure size 432x288 with 1 Axes>"
      ]
     },
     "metadata": {
      "needs_background": "light"
     },
     "output_type": "display_data"
    }
   ],
   "source": [
    "df[(df['wine_groups'] == 'Тратят умеренно') & (df['fruit_groups'] == 'Тратят умеренно') & (df['meat_groups'] == 'Тратят умеренно') & (df['fish_groups'] == 'Тратят умеренно') & (df['sweet_groups'] == 'Тратят умеренно') & (df['gold_groups'] == 'Тратят умеренно')]['Recency'].hist()"
   ]
  },
  {
   "cell_type": "markdown",
   "id": "5bd0e36e",
   "metadata": {},
   "source": [
    "### Не покупали больше месяца"
   ]
  },
  {
   "cell_type": "code",
   "execution_count": 154,
   "id": "bd0e0f57",
   "metadata": {},
   "outputs": [
    {
     "data": {
      "text/plain": [
       "0.6601307189542484"
      ]
     },
     "execution_count": 154,
     "metadata": {},
     "output_type": "execute_result"
    }
   ],
   "source": [
    "df[(df['wine_groups'] == 'Тратят умеренно') & (df['fruit_groups'] == 'Тратят умеренно') & (df['meat_groups'] == 'Тратят умеренно') & (df['fish_groups'] == 'Тратят умеренно') & (df['sweet_groups'] == 'Тратят умеренно') & (df['gold_groups'] == 'Тратят умеренно') & (df['Recency'] > 30)]['Recency'].count() / df[(df['wine_groups'] == 'Тратят умеренно') & (df['fruit_groups'] == 'Тратят умеренно') & (df['meat_groups'] == 'Тратят умеренно') & (df['fish_groups'] == 'Тратят умеренно') & (df['sweet_groups'] == 'Тратят умеренно') & (df['gold_groups'] == 'Тратят умеренно')]['Recency'].count()"
   ]
  },
  {
   "cell_type": "markdown",
   "id": "502064c0",
   "metadata": {},
   "source": [
    "## Источники покупок\n",
    "\n",
    "### Сайт"
   ]
  },
  {
   "cell_type": "code",
   "execution_count": 155,
   "id": "d9f2fbb0",
   "metadata": {},
   "outputs": [
    {
     "data": {
      "text/plain": [
       "<AxesSubplot:>"
      ]
     },
     "execution_count": 155,
     "metadata": {},
     "output_type": "execute_result"
    },
    {
     "data": {
      "image/png": "[encoded data removed]",
      "text/plain": [
       "<Figure size 432x288 with 1 Axes>"
      ]
     },
     "metadata": {
      "needs_background": "light"
     },
     "output_type": "display_data"
    }
   ],
   "source": [
    "df[(df['wine_groups'] == 'Тратят умеренно') & (df['fruit_groups'] == 'Тратят умеренно') & (df['meat_groups'] == 'Тратят умеренно') & (df['fish_groups'] == 'Тратят умеренно') & (df['sweet_groups'] == 'Тратят умеренно') & (df['gold_groups'] == 'Тратят умеренно')]['NumWebPurchases'].hist()"
   ]
  },
  {
   "cell_type": "markdown",
   "id": "916a6de0",
   "metadata": {},
   "source": [
    "### Каталог"
   ]
  },
  {
   "cell_type": "code",
   "execution_count": 156,
   "id": "d941e6d3",
   "metadata": {},
   "outputs": [
    {
     "data": {
      "text/plain": [
       "<AxesSubplot:>"
      ]
     },
     "execution_count": 156,
     "metadata": {},
     "output_type": "execute_result"
    },
    {
     "data": {
      "image/png": "[encoded data removed]",
      "text/plain": [
       "<Figure size 432x288 with 1 Axes>"
      ]
     },
     "metadata": {
      "needs_background": "light"
     },
     "output_type": "display_data"
    }
   ],
   "source": [
    "df[(df['wine_groups'] == 'Тратят умеренно') & (df['fruit_groups'] == 'Тратят умеренно') & (df['meat_groups'] == 'Тратят умеренно') & (df['fish_groups'] == 'Тратят умеренно') & (df['sweet_groups'] == 'Тратят умеренно') & (df['gold_groups'] == 'Тратят умеренно')]['NumCatalogPurchases'].hist()"
   ]
  },
  {
   "cell_type": "markdown",
   "id": "fd1d8b26",
   "metadata": {},
   "source": [
    "### Магазин"
   ]
  },
  {
   "cell_type": "code",
   "execution_count": 157,
   "id": "2b4d53e6",
   "metadata": {},
   "outputs": [
    {
     "data": {
      "text/plain": [
       "<AxesSubplot:>"
      ]
     },
     "execution_count": 157,
     "metadata": {},
     "output_type": "execute_result"
    },
    {
     "data": {
      "image/png": "[encoded data removed]",
      "text/plain": [
       "<Figure size 432x288 with 1 Axes>"
      ]
     },
     "metadata": {
      "needs_background": "light"
     },
     "output_type": "display_data"
    }
   ],
   "source": [
    "df[(df['wine_groups'] == 'Тратят умеренно') & (df['fruit_groups'] == 'Тратят умеренно') & (df['meat_groups'] == 'Тратят умеренно') & (df['fish_groups'] == 'Тратят умеренно') & (df['sweet_groups'] == 'Тратят умеренно') & (df['gold_groups'] == 'Тратят умеренно')]['NumStorePurchases'].hist()"
   ]
  },
  {
   "cell_type": "markdown",
   "id": "97bc1e28",
   "metadata": {},
   "source": [
    "### Количество посещений сайта за последний месяц"
   ]
  },
  {
   "cell_type": "code",
   "execution_count": 158,
   "id": "f80276c9",
   "metadata": {},
   "outputs": [
    {
     "data": {
      "text/plain": [
       "<AxesSubplot:>"
      ]
     },
     "execution_count": 158,
     "metadata": {},
     "output_type": "execute_result"
    },
    {
     "data": {
      "image/png": "[encoded data removed]",
      "text/plain": [
       "<Figure size 432x288 with 1 Axes>"
      ]
     },
     "metadata": {
      "needs_background": "light"
     },
     "output_type": "display_data"
    }
   ],
   "source": [
    "df[(df['wine_groups'] == 'Тратят умеренно') & (df['fruit_groups'] == 'Тратят умеренно') & (df['meat_groups'] == 'Тратят умеренно') & (df['fish_groups'] == 'Тратят умеренно') & (df['sweet_groups'] == 'Тратят умеренно') & (df['gold_groups'] == 'Тратят умеренно')]['NumWebVisitsMonth'].hist()"
   ]
  },
  {
   "cell_type": "markdown",
   "id": "cf687200",
   "metadata": {},
   "source": [
    "### Промежуточные выводы\n",
    "\n",
    "В категорию умеренно тратящих попало 7% от общей массы клиентов, из них 60% замужем/женаты, либо состоят в отношениях. Немного преобладают клиенты с одним ребенком над клиентами без детей. Много клиентов совершило одну покупку через каталог, но основная часть покупок совершается в магазине, чуть меньше на сайте. 66% из этой группы не совершали покупки больше 30-ти дней. "
   ]
  },
  {
   "cell_type": "code",
   "execution_count": 159,
   "id": "830957b2",
   "metadata": {},
   "outputs": [],
   "source": [
    "many = df[(df['wine_groups'] == 'Тратят много') & (df['fruit_groups'] == 'Тратят много') & (df['meat_groups'] == 'Тратят много') & (df['fish_groups'] == 'Тратят много') & (df['sweet_groups'] == 'Тратят много') & (df['gold_groups'] == 'Тратят много')]"
   ]
  },
  {
   "cell_type": "code",
   "execution_count": 160,
   "id": "b9d62103",
   "metadata": {},
   "outputs": [],
   "source": [
    "small = df[(df['wine_groups'] == 'Тратят мало') & (df['fruit_groups'] == 'Тратят мало') & (df['meat_groups'] == 'Тратят мало') & (df['fish_groups'] == 'Тратят мало') & (df['sweet_groups'] == 'Тратят мало') & (df['gold_groups'] == 'Тратят мало')]"
   ]
  },
  {
   "cell_type": "code",
   "execution_count": 161,
   "id": "6c48c2da",
   "metadata": {},
   "outputs": [],
   "source": [
    "medium = df[(df['wine_groups'] == 'Тратят умеренно') & (df['fruit_groups'] == 'Тратят умеренно') & (df['meat_groups'] == 'Тратят умеренно') & (df['fish_groups'] == 'Тратят умеренно') & (df['sweet_groups'] == 'Тратят умеренно') & (df['gold_groups'] == 'Тратят умеренно')]"
   ]
  },
  {
   "cell_type": "code",
   "execution_count": 162,
   "id": "0832abd9",
   "metadata": {},
   "outputs": [],
   "source": [
    "filter_lst = ['Income', 'age', 'NumWebPurchases', 'NumStorePurchases', 'NumCatalogPurchases', 'Kidhome', 'Teenhome', 'Recency', 'NumWebVisitsMonth', 'MntWines', 'MntFruits', 'MntMeatProducts', 'MntFishProducts', 'MntSweetProducts', 'MntGoldProds']"
   ]
  },
  {
   "cell_type": "markdown",
   "id": "85d71e27",
   "metadata": {},
   "source": [
    "## Сравнение групп \"много\"-\"мало\"\n",
    "\n",
    "### Покупки на сайте"
   ]
  },
  {
   "cell_type": "code",
   "execution_count": 163,
   "id": "afae1725",
   "metadata": {},
   "outputs": [
    {
     "name": "stdout",
     "output_type": "stream",
     "text": [
      "Клиенты категории \"много\" в среднем совершают 6 покупок на сайте за расчетный период, а клиенты категории \"мало\" совершают в среднем 1 покупок\n"
     ]
    }
   ],
   "source": [
    "small_web_purchases = round(small['NumWebPurchases'].mean())\n",
    "many_web_purchases = round(many['NumWebPurchases'].mean())\n",
    "print(f'Клиенты категории \"много\" в среднем совершают {many_web_purchases} покупок на сайте за расчетный период, а клиенты категории \"мало\" совершают в среднем {small_web_purchases} покупок')"
   ]
  },
  {
   "cell_type": "markdown",
   "id": "6ce7ea9f",
   "metadata": {},
   "source": [
    "### Покупки в магазине"
   ]
  },
  {
   "cell_type": "code",
   "execution_count": 164,
   "id": "b42df1c3",
   "metadata": {},
   "outputs": [
    {
     "name": "stdout",
     "output_type": "stream",
     "text": [
      "Клиенты категории \"много\" в среднем совершают 7.9 покупок в магазине за расчетный период, а клиенты категории \"мало\" совершают в среднем 2.34 покупок\n"
     ]
    }
   ],
   "source": [
    "many_store = round(many['NumStorePurchases'].mean(), 2)\n",
    "small_store = round(small['NumStorePurchases'].mean(), 2)\n",
    "print(f'Клиенты категории \"много\" в среднем совершают {many_store} покупок в магазине за расчетный период, а клиенты категории \"мало\" совершают в среднем {small_store} покупок')"
   ]
  },
  {
   "cell_type": "markdown",
   "id": "705b7af1",
   "metadata": {},
   "source": [
    "### Покупки через каталог"
   ]
  },
  {
   "cell_type": "code",
   "execution_count": 165,
   "id": "a88ac1fd",
   "metadata": {},
   "outputs": [
    {
     "name": "stdout",
     "output_type": "stream",
     "text": [
      "Клиенты категории \"много\" в среднем совершают 5.94 покупок через каталог за расчетный период, а клиенты категории \"мало\" совершают в среднем 0.08 покупок\n"
     ]
    }
   ],
   "source": [
    "many_catalog = round(many['NumCatalogPurchases'].mean(), 2)\n",
    "small_catalog = round(small['NumCatalogPurchases'].mean(), 2)\n",
    "print(f'Клиенты категории \"много\" в среднем совершают {many_catalog} покупок через каталог за расчетный период, а клиенты категории \"мало\" совершают в среднем {small_catalog} покупок')"
   ]
  },
  {
   "cell_type": "markdown",
   "id": "5221ac2f",
   "metadata": {},
   "source": [
    "### Количество детей"
   ]
  },
  {
   "cell_type": "code",
   "execution_count": 166,
   "id": "3ab6060e",
   "metadata": {},
   "outputs": [
    {
     "name": "stdout",
     "output_type": "stream",
     "text": [
      "У клиентов категории \"много\" 0.07 детей и 0.2 подростков, а у клиентов категории \"мало\" - 0.98 детей и 0.59 подростков\n"
     ]
    }
   ],
   "source": [
    "many_kid = round(many['Kidhome'].mean(), 2) \n",
    "many_teen = round(many['Teenhome'].mean(), 2)\n",
    "small_kid = round(small['Kidhome'].mean(), 2)\n",
    "small_teen = round(small['Teenhome'].mean(), 2)\n",
    "print(f'У клиентов категории \"много\" {many_kid} детей и {many_teen} подростков, а у клиентов категории \"мало\" - {small_kid} детей и {small_teen} подростков')"
   ]
  },
  {
   "cell_type": "markdown",
   "id": "fcdace7c",
   "metadata": {},
   "source": [
    "### Количество дней с последней покупки"
   ]
  },
  {
   "cell_type": "code",
   "execution_count": 167,
   "id": "54e35151",
   "metadata": {},
   "outputs": [
    {
     "name": "stdout",
     "output_type": "stream",
     "text": [
      "У клиентов категории \"много\" в среднем 54.44 дней с последней покупки, а у клиентов категории \"мало\" 48.72 дней\n"
     ]
    }
   ],
   "source": [
    "many_recency = round(many['Recency'].mean(), 2)\n",
    "small_recency = round(small['Recency'].mean(), 2)\n",
    "print(f'У клиентов категории \"много\" в среднем {many_recency} дней с последней покупки, а у клиентов категории \"мало\" {small_recency} дней')"
   ]
  },
  {
   "cell_type": "markdown",
   "id": "2b2bd073",
   "metadata": {},
   "source": [
    "### Не покупали больше месяца"
   ]
  },
  {
   "cell_type": "code",
   "execution_count": 168,
   "id": "c9a89572",
   "metadata": {},
   "outputs": [
    {
     "name": "stdout",
     "output_type": "stream",
     "text": [
      "В категории \"много\" больше месяца не совершали покупки 79.0 процентов клиентов, а среди категории \"мало\" 72.0 процентов\n"
     ]
    }
   ],
   "source": [
    "many_recency_more30 = round(df[(df['wine_groups'] == 'Тратят много') & (df['fruit_groups'] == 'Тратят много') & (df['meat_groups'] == 'Тратят много') & (df['fish_groups'] == 'Тратят много') & (df['sweet_groups'] == 'Тратят много') & (df['gold_groups'] == 'Тратят много') & (df['Recency'] > 30)]['Recency'].count() / many['Recency'].count(), 2) * 100\n",
    "small_recency_more30 = round(df[(df['wine_groups'] == 'Тратят мало') & (df['fruit_groups'] == 'Тратят мало') & (df['meat_groups'] == 'Тратят мало') & (df['fish_groups'] == 'Тратят мало') & (df['sweet_groups'] == 'Тратят мало') & (df['gold_groups'] == 'Тратят мало') & (df['Recency'] > 30)]['Recency'].count() / df[(df['wine_groups'] == 'Тратят мало') & (df['fruit_groups'] == 'Тратят мало') & (df['meat_groups'] == 'Тратят мало') & (df['fish_groups'] == 'Тратят мало') & (df['sweet_groups'] == 'Тратят мало') & (df['gold_groups'] == 'Тратят мало')]['Recency'].count(), 2) * 100\n",
    "print(f'В категории \"много\" больше месяца не совершали покупки {many_recency_more30} процентов клиентов, а среди категории \"мало\" {small_recency_more30} процентов')"
   ]
  },
  {
   "cell_type": "markdown",
   "id": "79cb186d",
   "metadata": {},
   "source": [
    "### Количество посещений сайта за последний месяц"
   ]
  },
  {
   "cell_type": "code",
   "execution_count": 169,
   "id": "9ae5e0c8",
   "metadata": {},
   "outputs": [
    {
     "name": "stdout",
     "output_type": "stream",
     "text": [
      "Клиенты категории \"много\" посещали сайт 3.31 раз за месяц, а клиенты категории \"мало\" 6.72 раз\n"
     ]
    }
   ],
   "source": [
    "many_web_visit = round(many['NumWebVisitsMonth'].mean(), 2)\n",
    "small_web_visit = round(small['NumWebVisitsMonth'].mean(), 2)\n",
    "print(f'Клиенты категории \"много\" посещали сайт {many_web_visit} раз за месяц, а клиенты категории \"мало\" {small_web_visit} раз')"
   ]
  },
  {
   "cell_type": "code",
   "execution_count": 170,
   "id": "184094d9",
   "metadata": {},
   "outputs": [],
   "source": [
    "def compare(group_1, group_2, column_lst):\n",
    "    for elem in column_lst:\n",
    "        result = st.ttest_ind(group_1[elem], group_2[elem])\n",
    "        p_value = round(result.pvalue, 4)\n",
    "        first_mean = round(group_1[elem].mean(), 2)\n",
    "        first_ci = st.norm.interval(alpha = 0.95, loc = np.mean(group_1[elem]), scale = st.sem(group_1[elem]))\n",
    "        first_min_ci = round(first_ci[0], 2)\n",
    "        first_max_ci = round(first_ci[1], 2)\n",
    "        second_mean = round(group_2[elem].mean(), 2)\n",
    "        second_ci = st.norm.interval(alpha = 0.95, loc = np.mean(group_2[elem]), scale = st.sem(group_2[elem]))\n",
    "        second_min_ci = round(second_ci[0], 2)\n",
    "        second_max_ci = round(second_ci[1], 2)\n",
    "        if p_value > 0.05:\n",
    "            print(f'Столбец: {elem} \\nВ группе 1: среднее значение {first_mean}, доверительный интервал ({first_min_ci}, {first_max_ci}) \\nВ группе 2: среднее значение {second_mean}, доверительный интервал ({second_min_ci}, {second_max_ci}) \\nPvalue: {p_value} \\nВывод: различий нет \\n')\n",
    "        else:\n",
    "            if first_mean > second_mean:\n",
    "                print(f'Столбец: {elem} \\nВ группе 1: среднее значение {first_mean}, доверительный интервал ({first_min_ci}, {first_max_ci}) \\nВ группе 2: среднее значение {second_mean}, доверительный интервал ({second_min_ci}, {second_max_ci}) \\nPvalue: {p_value} \\nВывод: различия есть (среднее группы 1 больше) \\n')\n",
    "            else:\n",
    "                print(f'Столбец: {elem} \\nВ группе 1: среднее значение {first_mean}, доверительный интервал ({first_min_ci}, {first_max_ci}) \\nВ группе 2: среднее значение {second_mean}, доверительный интервал ({second_min_ci}, {second_max_ci}) \\nPvalue: {p_value} \\nВывод: различия есть (среднее группы 2 больше) \\n')\n",
    "         "
   ]
  },
  {
   "cell_type": "markdown",
   "id": "965fd90a",
   "metadata": {},
   "source": [
    "### Сравнение Pvalue между группами \"много\"-\"мало\"\n",
    "### Группа 1 - \"много\", группа 2 - \"мало\""
   ]
  },
  {
   "cell_type": "code",
   "execution_count": 171,
   "id": "2b11d759",
   "metadata": {},
   "outputs": [
    {
     "name": "stdout",
     "output_type": "stream",
     "text": [
      "Столбец: Income \n",
      "В группе 1: среднее значение 75255.86, доверительный интервал (73206.57, 77305.14) \n",
      "В группе 2: среднее значение 32318.94, доверительный интервал (30446.34, 34191.55) \n",
      "Pvalue: 0.0 \n",
      "Вывод: различия есть (среднее группы 1 больше) \n",
      "\n",
      "Столбец: age \n",
      "В группе 1: среднее значение 54.66, доверительный интервал (50.99, 58.32) \n",
      "В группе 2: среднее значение 52.25, доверительный интервал (50.39, 54.11) \n",
      "Pvalue: 0.2039 \n",
      "Вывод: различий нет \n",
      "\n",
      "Столбец: NumWebPurchases \n",
      "В группе 1: среднее значение 5.74, доверительный интервал (5.21, 6.27) \n",
      "В группе 2: среднее значение 0.91, доверительный интервал (0.82, 0.99) \n",
      "Pvalue: 0.0 \n",
      "Вывод: различия есть (среднее группы 1 больше) \n",
      "\n",
      "Столбец: NumStorePurchases \n",
      "В группе 1: среднее значение 7.9, доверительный интервал (7.29, 8.51) \n",
      "В группе 2: среднее значение 2.34, доверительный интервал (2.22, 2.45) \n",
      "Pvalue: 0.0 \n",
      "Вывод: различия есть (среднее группы 1 больше) \n",
      "\n",
      "Столбец: NumCatalogPurchases \n",
      "В группе 1: среднее значение 5.94, доверительный интервал (5.42, 6.47) \n",
      "В группе 2: среднее значение 0.08, доверительный интервал (0.03, 0.13) \n",
      "Pvalue: 0.0 \n",
      "Вывод: различия есть (среднее группы 1 больше) \n",
      "\n",
      "Столбец: Kidhome \n",
      "В группе 1: среднее значение 0.07, доверительный интервал (0.01, 0.13) \n",
      "В группе 2: среднее значение 0.98, доверительный интервал (0.9, 1.05) \n",
      "Pvalue: 0.0 \n",
      "Вывод: различия есть (среднее группы 2 больше) \n",
      "\n",
      "Столбец: Teenhome \n",
      "В группе 1: среднее значение 0.2, доверительный интервал (0.1, 0.3) \n",
      "В группе 2: среднее значение 0.59, доверительный интервал (0.49, 0.69) \n",
      "Pvalue: 0.0 \n",
      "Вывод: различия есть (среднее группы 2 больше) \n",
      "\n",
      "Столбец: Recency \n",
      "В группе 1: среднее значение 54.44, доверительный интервал (47.84, 61.05) \n",
      "В группе 2: среднее значение 48.72, доверительный интервал (43.78, 53.66) \n",
      "Pvalue: 0.176 \n",
      "Вывод: различий нет \n",
      "\n",
      "Столбец: NumWebVisitsMonth \n",
      "В группе 1: среднее значение 3.31, доверительный интервал (2.85, 3.78) \n",
      "В группе 2: среднее значение 6.72, доверительный интервал (6.31, 7.14) \n",
      "Pvalue: 0.0 \n",
      "Вывод: различия есть (среднее группы 2 больше) \n",
      "\n",
      "Столбец: MntWines \n",
      "В группе 1: среднее значение 745.47, доверительный интервал (703.46, 787.48) \n",
      "В группе 2: среднее значение 10.46, доверительный интервал (9.42, 11.49) \n",
      "Pvalue: 0.0 \n",
      "Вывод: различия есть (среднее группы 1 больше) \n",
      "\n",
      "Столбец: MntFruits \n",
      "В группе 1: среднее значение 95.51, доверительный интервал (85.89, 105.14) \n",
      "В группе 2: среднее значение 0.58, доверительный интервал (0.45, 0.71) \n",
      "Pvalue: 0.0 \n",
      "Вывод: различия есть (среднее группы 1 больше) \n",
      "\n",
      "Столбец: MntMeatProducts \n",
      "В группе 1: среднее значение 539.1, доверительный интервал (491.65, 586.55) \n",
      "В группе 2: среднее значение 5.61, доверительный интервал (5.05, 6.17) \n",
      "Pvalue: 0.0 \n",
      "Вывод: различия есть (среднее группы 1 больше) \n",
      "\n",
      "Столбец: MntFishProducts \n",
      "В группе 1: среднее значение 131.66, доверительный интервал (118.79, 144.52) \n",
      "В группе 2: среднее значение 0.98, доверительный интервал (0.78, 1.19) \n",
      "Pvalue: 0.0 \n",
      "Вывод: различия есть (среднее группы 1 больше) \n",
      "\n",
      "Столбец: MntSweetProducts \n",
      "В группе 1: среднее значение 96.37, доверительный интервал (86.21, 106.53) \n",
      "В группе 2: среднее значение 0.31, доверительный интервал (0.23, 0.4) \n",
      "Pvalue: 0.0 \n",
      "Вывод: различия есть (среднее группы 1 больше) \n",
      "\n",
      "Столбец: MntGoldProds \n",
      "В группе 1: среднее значение 119.4, доверительный интервал (108.45, 130.35) \n",
      "В группе 2: среднее значение 2.93, доверительный интервал (2.51, 3.35) \n",
      "Pvalue: 0.0 \n",
      "Вывод: различия есть (среднее группы 1 больше) \n",
      "\n"
     ]
    }
   ],
   "source": [
    "compare(many, small, filter_lst)"
   ]
  },
  {
   "cell_type": "markdown",
   "id": "e68a5c32",
   "metadata": {},
   "source": [
    "### Промежуточные выводы:\n",
    "Заметны значительные различия в следующих столбцах:\n",
    "- количество покупок сильно преобладает у группы \"много\" во всех трех случаях, при том, количество покупок через каталог у группы \"мало\" практически отсутствует, а через сайт покупок мало - 0.91\n",
    "- наибольшее количество покупок внутри обеих групп происходит в магазинах\n",
    "- количество детей/подростков практически отсутствует у группы \"много\"\n",
    "- посещение сайта за месяц преобладает у группы \"мало\" в 2 раза \n",
    "\n",
    "\n",
    "### Сравнение Pvalue между группами \"много\"-\"средне\"\n",
    "### Группа 1 - \"много\", группа 2 - \"средне\""
   ]
  },
  {
   "cell_type": "code",
   "execution_count": 172,
   "id": "2ce34b70",
   "metadata": {},
   "outputs": [
    {
     "name": "stdout",
     "output_type": "stream",
     "text": [
      "Столбец: Income \n",
      "В группе 1: среднее значение 75255.86, доверительный интервал (73206.57, 77305.14) \n",
      "В группе 2: среднее значение 47040.35, доверительный интервал (45218.42, 48862.28) \n",
      "Pvalue: 0.0 \n",
      "Вывод: различия есть (среднее группы 1 больше) \n",
      "\n",
      "Столбец: age \n",
      "В группе 1: среднее значение 54.66, доверительный интервал (50.99, 58.32) \n",
      "В группе 2: среднее значение 56.34, доверительный интервал (54.58, 58.1) \n",
      "Pvalue: 0.3591 \n",
      "Вывод: различий нет \n",
      "\n",
      "Столбец: NumWebPurchases \n",
      "В группе 1: среднее значение 5.74, доверительный интервал (5.21, 6.27) \n",
      "В группе 2: среднее значение 4.29, доверительный интервал (3.98, 4.6) \n",
      "Pvalue: 0.0 \n",
      "Вывод: различия есть (среднее группы 1 больше) \n",
      "\n",
      "Столбец: NumStorePurchases \n",
      "В группе 1: среднее значение 7.9, доверительный интервал (7.29, 8.51) \n",
      "В группе 2: среднее значение 5.42, доверительный интервал (5.15, 5.7) \n",
      "Pvalue: 0.0 \n",
      "Вывод: различия есть (среднее группы 1 больше) \n",
      "\n",
      "Столбец: NumCatalogPurchases \n",
      "В группе 1: среднее значение 5.94, доверительный интервал (5.42, 6.47) \n",
      "В группе 2: среднее значение 1.53, доверительный интервал (1.35, 1.7) \n",
      "Pvalue: 0.0 \n",
      "Вывод: различия есть (среднее группы 1 больше) \n",
      "\n",
      "Столбец: Kidhome \n",
      "В группе 1: среднее значение 0.07, доверительный интервал (0.01, 0.13) \n",
      "В группе 2: среднее значение 0.53, доверительный интервал (0.44, 0.62) \n",
      "Pvalue: 0.0 \n",
      "Вывод: различия есть (среднее группы 2 больше) \n",
      "\n",
      "Столбец: Teenhome \n",
      "В группе 1: среднее значение 0.2, доверительный интервал (0.1, 0.3) \n",
      "В группе 2: среднее значение 0.73, доверительный интервал (0.64, 0.81) \n",
      "Pvalue: 0.0 \n",
      "Вывод: различия есть (среднее группы 2 больше) \n",
      "\n",
      "Столбец: Recency \n",
      "В группе 1: среднее значение 54.44, доверительный интервал (47.84, 61.05) \n",
      "В группе 2: среднее значение 47.91, доверительный интервал (43.23, 52.58) \n",
      "Pvalue: 0.1211 \n",
      "Вывод: различий нет \n",
      "\n",
      "Столбец: NumWebVisitsMonth \n",
      "В группе 1: среднее значение 3.31, доверительный интервал (2.85, 3.78) \n",
      "В группе 2: среднее значение 5.86, доверительный интервал (5.55, 6.18) \n",
      "Pvalue: 0.0 \n",
      "Вывод: различия есть (среднее группы 2 больше) \n",
      "\n",
      "Столбец: MntWines \n",
      "В группе 1: среднее значение 745.47, доверительный интервал (703.46, 787.48) \n",
      "В группе 2: среднее значение 172.1, доверительный интервал (153.33, 190.88) \n",
      "Pvalue: 0.0 \n",
      "Вывод: различия есть (среднее группы 1 больше) \n",
      "\n",
      "Столбец: MntFruits \n",
      "В группе 1: среднее значение 95.51, доверительный интервал (85.89, 105.14) \n",
      "В группе 2: среднее значение 11.1, доверительный интервал (9.84, 12.35) \n",
      "Pvalue: 0.0 \n",
      "Вывод: различия есть (среднее группы 1 больше) \n",
      "\n",
      "Столбец: MntMeatProducts \n",
      "В группе 1: среднее значение 539.1, доверительный интервал (491.65, 586.55) \n",
      "В группе 2: среднее значение 74.4, доверительный интервал (67.71, 81.08) \n",
      "Pvalue: 0.0 \n",
      "Вывод: различия есть (среднее группы 1 больше) \n",
      "\n",
      "Столбец: MntFishProducts \n",
      "В группе 1: среднее значение 131.66, доверительный интервал (118.79, 144.52) \n",
      "В группе 2: среднее значение 14.56, доверительный интервал (13.0, 16.12) \n",
      "Pvalue: 0.0 \n",
      "Вывод: различия есть (среднее группы 1 больше) \n",
      "\n",
      "Столбец: MntSweetProducts \n",
      "В группе 1: среднее значение 96.37, доверительный интервал (86.21, 106.53) \n",
      "В группе 2: среднее значение 10.88, доверительный интервал (9.68, 12.08) \n",
      "Pvalue: 0.0 \n",
      "Вывод: различия есть (среднее группы 1 больше) \n",
      "\n",
      "Столбец: MntGoldProds \n",
      "В группе 1: среднее значение 119.4, доверительный интервал (108.45, 130.35) \n",
      "В группе 2: среднее значение 27.88, доверительный интервал (25.66, 30.09) \n",
      "Pvalue: 0.0 \n",
      "Вывод: различия есть (среднее группы 1 больше) \n",
      "\n"
     ]
    }
   ],
   "source": [
    "compare(many, medium, filter_lst)"
   ]
  },
  {
   "cell_type": "markdown",
   "id": "2b9959eb",
   "metadata": {},
   "source": [
    "### Промежуточные выводы:\n",
    "Заметны значительные различия в следующих столбцах:\n",
    "- количество покупок преобладает у группы \"много\" во всех трех случаях\n",
    "- обеими группами совершается много покупок через сайт\n",
    "- наибольшее количество покупок внутри обеих групп происходит в магазинах\n",
    "- количество детей/подростков преобладает у группы \"средне\"\n",
    "- группа \"средне\" чаще посещает сайт\n",
    "\n",
    "### Сравнение Pvalue между группами \"средне\"-\"мало\"\n",
    "### Группа 1 - \"средне\", группа 2 - \"мало\""
   ]
  },
  {
   "cell_type": "code",
   "execution_count": 173,
   "id": "fd2d3e75",
   "metadata": {},
   "outputs": [
    {
     "name": "stdout",
     "output_type": "stream",
     "text": [
      "Столбец: Income \n",
      "В группе 1: среднее значение 47040.35, доверительный интервал (45218.42, 48862.28) \n",
      "В группе 2: среднее значение 32318.94, доверительный интервал (30446.34, 34191.55) \n",
      "Pvalue: 0.0 \n",
      "Вывод: различия есть (среднее группы 1 больше) \n",
      "\n",
      "Столбец: age \n",
      "В группе 1: среднее значение 56.34, доверительный интервал (54.58, 58.1) \n",
      "В группе 2: среднее значение 52.25, доверительный интервал (50.39, 54.11) \n",
      "Pvalue: 0.002 \n",
      "Вывод: различия есть (среднее группы 1 больше) \n",
      "\n",
      "Столбец: NumWebPurchases \n",
      "В группе 1: среднее значение 4.29, доверительный интервал (3.98, 4.6) \n",
      "В группе 2: среднее значение 0.91, доверительный интервал (0.82, 0.99) \n",
      "Pvalue: 0.0 \n",
      "Вывод: различия есть (среднее группы 1 больше) \n",
      "\n",
      "Столбец: NumStorePurchases \n",
      "В группе 1: среднее значение 5.42, доверительный интервал (5.15, 5.7) \n",
      "В группе 2: среднее значение 2.34, доверительный интервал (2.22, 2.45) \n",
      "Pvalue: 0.0 \n",
      "Вывод: различия есть (среднее группы 1 больше) \n",
      "\n",
      "Столбец: NumCatalogPurchases \n",
      "В группе 1: среднее значение 1.53, доверительный интервал (1.35, 1.7) \n",
      "В группе 2: среднее значение 0.08, доверительный интервал (0.03, 0.13) \n",
      "Pvalue: 0.0 \n",
      "Вывод: различия есть (среднее группы 1 больше) \n",
      "\n",
      "Столбец: Kidhome \n",
      "В группе 1: среднее значение 0.53, доверительный интервал (0.44, 0.62) \n",
      "В группе 2: среднее значение 0.98, доверительный интервал (0.9, 1.05) \n",
      "Pvalue: 0.0 \n",
      "Вывод: различия есть (среднее группы 2 больше) \n",
      "\n",
      "Столбец: Teenhome \n",
      "В группе 1: среднее значение 0.73, доверительный интервал (0.64, 0.81) \n",
      "В группе 2: среднее значение 0.59, доверительный интервал (0.49, 0.69) \n",
      "Pvalue: 0.0408 \n",
      "Вывод: различия есть (среднее группы 1 больше) \n",
      "\n",
      "Столбец: Recency \n",
      "В группе 1: среднее значение 47.91, доверительный интервал (43.23, 52.58) \n",
      "В группе 2: среднее значение 48.72, доверительный интервал (43.78, 53.66) \n",
      "Pvalue: 0.8167 \n",
      "Вывод: различий нет \n",
      "\n",
      "Столбец: NumWebVisitsMonth \n",
      "В группе 1: среднее значение 5.86, доверительный интервал (5.55, 6.18) \n",
      "В группе 2: среднее значение 6.72, доверительный интервал (6.31, 7.14) \n",
      "Pvalue: 0.0011 \n",
      "Вывод: различия есть (среднее группы 2 больше) \n",
      "\n",
      "Столбец: MntWines \n",
      "В группе 1: среднее значение 172.1, доверительный интервал (153.33, 190.88) \n",
      "В группе 2: среднее значение 10.46, доверительный интервал (9.42, 11.49) \n",
      "Pvalue: 0.0 \n",
      "Вывод: различия есть (среднее группы 1 больше) \n",
      "\n",
      "Столбец: MntFruits \n",
      "В группе 1: среднее значение 11.1, доверительный интервал (9.84, 12.35) \n",
      "В группе 2: среднее значение 0.58, доверительный интервал (0.45, 0.71) \n",
      "Pvalue: 0.0 \n",
      "Вывод: различия есть (среднее группы 1 больше) \n",
      "\n",
      "Столбец: MntMeatProducts \n",
      "В группе 1: среднее значение 74.4, доверительный интервал (67.71, 81.08) \n",
      "В группе 2: среднее значение 5.61, доверительный интервал (5.05, 6.17) \n",
      "Pvalue: 0.0 \n",
      "Вывод: различия есть (среднее группы 1 больше) \n",
      "\n",
      "Столбец: MntFishProducts \n",
      "В группе 1: среднее значение 14.56, доверительный интервал (13.0, 16.12) \n",
      "В группе 2: среднее значение 0.98, доверительный интервал (0.78, 1.19) \n",
      "Pvalue: 0.0 \n",
      "Вывод: различия есть (среднее группы 1 больше) \n",
      "\n",
      "Столбец: MntSweetProducts \n",
      "В группе 1: среднее значение 10.88, доверительный интервал (9.68, 12.08) \n",
      "В группе 2: среднее значение 0.31, доверительный интервал (0.23, 0.4) \n",
      "Pvalue: 0.0 \n",
      "Вывод: различия есть (среднее группы 1 больше) \n",
      "\n",
      "Столбец: MntGoldProds \n",
      "В группе 1: среднее значение 27.88, доверительный интервал (25.66, 30.09) \n",
      "В группе 2: среднее значение 2.93, доверительный интервал (2.51, 3.35) \n",
      "Pvalue: 0.0 \n",
      "Вывод: различия есть (среднее группы 1 больше) \n",
      "\n"
     ]
    }
   ],
   "source": [
    "compare(medium, small, filter_lst)"
   ]
  },
  {
   "cell_type": "markdown",
   "id": "23279e6f",
   "metadata": {},
   "source": [
    "### Промежуточные выводы:\n",
    "Заметны значительные различия в следующих столбцах:\n",
    "- количество покупок преобладает у группы \"средне\" во всех трех случаях\n",
    "- наибольшее количество покупок внутри обеих групп происходит в магазинах\n",
    "- количество детей преобладает у группы \"мало\"\n",
    "- количество подростков преобладает у группы \"средне\"\n",
    "- посещение сайта чаще происходит у группы \"мало\"\n",
    "\n",
    "### Создание столбца суммарных трат клиента на все категории товаров"
   ]
  },
  {
   "cell_type": "code",
   "execution_count": 174,
   "id": "f8bf0c9b",
   "metadata": {},
   "outputs": [],
   "source": [
    "df['total_sum'] = df['MntWines'] + df['MntFruits'] + df['MntMeatProducts'] + df['MntFishProducts'] + df['MntSweetProducts'] + df['MntGoldProds']"
   ]
  },
  {
   "cell_type": "markdown",
   "id": "26fbd552",
   "metadata": {},
   "source": [
    "### Разделение клиентов на 3 группы по уровню суммарных трат  (0-25% тратят много, 25-75% тратят умеренно, 75-100% тратят мало)"
   ]
  },
  {
   "cell_type": "code",
   "execution_count": 175,
   "id": "e278289b",
   "metadata": {},
   "outputs": [],
   "source": [
    "df['total_sum_groups'] = pd.qcut(df['total_sum'], [0, 0.25, 0.75, 1], labels = ['Тратят мало', 'Тратят умеренно', 'Тратят много'])"
   ]
  },
  {
   "cell_type": "code",
   "execution_count": 176,
   "id": "9f30af73",
   "metadata": {},
   "outputs": [],
   "source": [
    "many_total_sum = df[df['total_sum_groups'] == 'Тратят много']\n",
    "medium_total_sum = df[df['total_sum_groups'] == 'Тратят умеренно']\n",
    "small_total_sum = df[df['total_sum_groups'] == 'Тратят мало']"
   ]
  },
  {
   "cell_type": "markdown",
   "id": "f34d5c59",
   "metadata": {},
   "source": [
    "### Сравнение Pvalue групп \"тратят много\"-\"тратят мало\"\n",
    "\n",
    "### Группа 1 - тратят много, Группа 2 - тратят мало"
   ]
  },
  {
   "cell_type": "code",
   "execution_count": 177,
   "id": "1e43fade",
   "metadata": {},
   "outputs": [
    {
     "name": "stdout",
     "output_type": "stream",
     "text": [
      "Столбец: Income \n",
      "В группе 1: среднее значение 74800.09, доверительный интервал (73905.42, 75694.76) \n",
      "В группе 2: среднее значение 30418.03, доверительный интервал (29519.98, 31316.08) \n",
      "Pvalue: 0.0 \n",
      "Вывод: различия есть (среднее группы 1 больше) \n",
      "\n",
      "Столбец: age \n",
      "В группе 1: среднее значение 55.21, доверительный интервал (54.12, 56.29) \n",
      "В группе 2: среднее значение 51.22, доверительный интервал (50.26, 52.18) \n",
      "Pvalue: 0.0 \n",
      "Вывод: различия есть (среднее группы 1 больше) \n",
      "\n",
      "Столбец: NumWebPurchases \n",
      "В группе 1: среднее значение 5.67, доверительный интервал (5.46, 5.87) \n",
      "В группе 2: среднее значение 1.39, доверительный интервал (1.33, 1.46) \n",
      "Pvalue: 0.0 \n",
      "Вывод: различия есть (среднее группы 1 больше) \n",
      "\n",
      "Столбец: NumStorePurchases \n",
      "В группе 1: среднее значение 8.53, доверительный интервал (8.3, 8.77) \n",
      "В группе 2: среднее значение 2.75, доверительный интервал (2.7, 2.81) \n",
      "Pvalue: 0.0 \n",
      "Вывод: различия есть (среднее группы 1 больше) \n",
      "\n",
      "Столбец: NumCatalogPurchases \n",
      "В группе 1: среднее значение 5.81, доверительный интервал (5.61, 6.02) \n",
      "В группе 2: среднее значение 0.21, доверительный интервал (0.17, 0.24) \n",
      "Pvalue: 0.0 \n",
      "Вывод: различия есть (среднее группы 1 больше) \n",
      "\n",
      "Столбец: Kidhome \n",
      "В группе 1: среднее значение 0.06, доверительный интервал (0.04, 0.08) \n",
      "В группе 2: среднее значение 0.86, доверительный интервал (0.82, 0.9) \n",
      "Pvalue: 0.0 \n",
      "Вывод: различия есть (среднее группы 2 больше) \n",
      "\n",
      "Столбец: Teenhome \n",
      "В группе 1: среднее значение 0.32, доверительный интервал (0.27, 0.36) \n",
      "В группе 2: среднее значение 0.43, доверительный интервал (0.39, 0.48) \n",
      "Pvalue: 0.0001 \n",
      "Вывод: различия есть (среднее группы 2 больше) \n",
      "\n",
      "Столбец: Recency \n",
      "В группе 1: среднее значение 49.85, доверительный интервал (47.41, 52.28) \n",
      "В группе 2: среднее значение 48.88, доверительный интервал (46.51, 51.26) \n",
      "Pvalue: 0.5795 \n",
      "Вывод: различий нет \n",
      "\n",
      "Столбец: NumWebVisitsMonth \n",
      "В группе 1: среднее значение 3.65, доверительный интервал (3.46, 3.84) \n",
      "В группе 2: среднее значение 6.51, доверительный интервал (6.36, 6.67) \n",
      "Pvalue: 0.0 \n",
      "Вывод: различия есть (среднее группы 2 больше) \n",
      "\n",
      "Столбец: MntWines \n",
      "В группе 1: среднее значение 746.67, доверительный интервал (721.76, 771.58) \n",
      "В группе 2: среднее значение 13.97, доверительный интервал (13.0, 14.94) \n",
      "Pvalue: 0.0 \n",
      "Вывод: различия есть (среднее группы 1 больше) \n",
      "\n",
      "Столбец: MntFruits \n",
      "В группе 1: среднее значение 62.36, доверительный интервал (58.17, 66.55) \n",
      "В группе 2: среднее значение 2.4, доверительный интервал (2.16, 2.65) \n",
      "Pvalue: 0.0 \n",
      "Вывод: различия есть (среднее группы 1 больше) \n",
      "\n",
      "Столбец: MntMeatProducts \n",
      "В группе 1: среднее значение 449.06, доверительный интервал (429.06, 469.05) \n",
      "В группе 2: среднее значение 9.87, доверительный интервал (9.36, 10.38) \n",
      "Pvalue: 0.0 \n",
      "Вывод: различия есть (среднее группы 1 больше) \n",
      "\n",
      "Столбец: MntFishProducts \n",
      "В группе 1: среднее значение 89.65, доверительный интервал (83.92, 95.37) \n",
      "В группе 2: среднее значение 3.73, доверительный интервал (3.35, 4.11) \n",
      "Pvalue: 0.0 \n",
      "Вывод: различия есть (среднее группы 1 больше) \n",
      "\n",
      "Столбец: MntSweetProducts \n",
      "В группе 1: среднее значение 64.5, доверительный интервал (60.15, 68.85) \n",
      "В группе 2: среднее значение 2.54, доверительный интервал (2.26, 2.82) \n",
      "Pvalue: 0.0 \n",
      "Вывод: различия есть (среднее группы 1 больше) \n",
      "\n",
      "Столбец: MntGoldProds \n",
      "В группе 1: среднее значение 79.18, доверительный интервал (73.94, 84.42) \n",
      "В группе 2: среднее значение 7.32, доверительный интервал (6.79, 7.85) \n",
      "Pvalue: 0.0 \n",
      "Вывод: различия есть (среднее группы 1 больше) \n",
      "\n"
     ]
    }
   ],
   "source": [
    "compare(many_total_sum, small_total_sum, filter_lst)"
   ]
  },
  {
   "cell_type": "markdown",
   "id": "70404470",
   "metadata": {},
   "source": [
    "### Промежуточные выводы:\n",
    "в сравнении с прошлым исследованием цифры отличаются, но изменения не кардинальны\n",
    "- количество покупок преобладает у группы 1 во всех трех случаях\n",
    "- внутри обеих групп больше всего покупок совершается в магазинах\n",
    "- группа 2 почти не совершает покупки через каталог\n",
    "- у группы 1 почти нет детей\n",
    "- по количеству подростков небольшой перевес в сторону группы 2\n",
    "- группа 2 посещает сайт почти в 2 раза чаще \n",
    "\n",
    "### Сравнение Pvalue групп \"тратят много\" - \"тратят умеренно\"\n",
    "### Группа 1 - тратят много, группа 2 - тратят умеренно"
   ]
  },
  {
   "cell_type": "code",
   "execution_count": 178,
   "id": "56764423",
   "metadata": {},
   "outputs": [
    {
     "name": "stdout",
     "output_type": "stream",
     "text": [
      "Столбец: Income \n",
      "В группе 1: среднее значение 74800.09, доверительный интервал (73905.42, 75694.76) \n",
      "В группе 2: среднее значение 50778.08, доверительный интервал (49845.6, 51710.56) \n",
      "Pvalue: 0.0 \n",
      "Вывод: различия есть (среднее группы 1 больше) \n",
      "\n",
      "Столбец: age \n",
      "В группе 1: среднее значение 55.21, доверительный интервал (54.12, 56.29) \n",
      "В группе 2: среднее значение 55.23, доверительный интервал (54.55, 55.9) \n",
      "Pvalue: 0.9729 \n",
      "Вывод: различий нет \n",
      "\n",
      "Столбец: NumWebPurchases \n",
      "В группе 1: среднее значение 5.67, доверительный интервал (5.46, 5.87) \n",
      "В группе 2: среднее значение 4.68, доверительный интервал (4.53, 4.83) \n",
      "Pvalue: 0.0 \n",
      "Вывод: различия есть (среднее группы 1 больше) \n",
      "\n",
      "Столбец: NumStorePurchases \n",
      "В группе 1: среднее значение 8.53, доверительный интервал (8.3, 8.77) \n",
      "В группе 2: среднее значение 6.02, доверительный интервал (5.85, 6.19) \n",
      "Pvalue: 0.0 \n",
      "Вывод: различия есть (среднее группы 1 больше) \n",
      "\n",
      "Столбец: NumCatalogPurchases \n",
      "В группе 1: среднее значение 5.81, доверительный интервал (5.61, 6.02) \n",
      "В группе 2: среднее значение 2.29, доверительный интервал (2.17, 2.42) \n",
      "Pvalue: 0.0 \n",
      "Вывод: различия есть (среднее группы 1 больше) \n",
      "\n",
      "Столбец: Kidhome \n",
      "В группе 1: среднее значение 0.06, доверительный интервал (0.04, 0.08) \n",
      "В группе 2: среднее значение 0.42, доверительный интервал (0.39, 0.45) \n",
      "Pvalue: 0.0 \n",
      "Вывод: различия есть (среднее группы 2 больше) \n",
      "\n",
      "Столбец: Teenhome \n",
      "В группе 1: среднее значение 0.32, доверительный интервал (0.27, 0.36) \n",
      "В группе 2: среднее значение 0.64, доверительный интервал (0.61, 0.67) \n",
      "Pvalue: 0.0 \n",
      "Вывод: различия есть (среднее группы 2 больше) \n",
      "\n",
      "Столбец: Recency \n",
      "В группе 1: среднее значение 49.85, доверительный интервал (47.41, 52.28) \n",
      "В группе 2: среднее значение 48.79, доверительный интервал (47.07, 50.51) \n",
      "Pvalue: 0.4876 \n",
      "Вывод: различий нет \n",
      "\n",
      "Столбец: NumWebVisitsMonth \n",
      "В группе 1: среднее значение 3.65, доверительный интервал (3.46, 3.84) \n",
      "В группе 2: среднее значение 5.58, доверительный интервал (5.44, 5.71) \n",
      "Pvalue: 0.0 \n",
      "Вывод: различия есть (среднее группы 2 больше) \n",
      "\n",
      "Столбец: MntWines \n",
      "В группе 1: среднее значение 746.67, доверительный интервал (721.76, 771.58) \n",
      "В группе 2: среднее значение 233.56, доверительный интервал (221.91, 245.21) \n",
      "Pvalue: 0.0 \n",
      "Вывод: различия есть (среднее группы 1 больше) \n",
      "\n",
      "Столбец: MntFruits \n",
      "В группе 1: среднее значение 62.36, доверительный интервал (58.17, 66.55) \n",
      "В группе 2: среднее значение 20.61, доверительный интервал (18.78, 22.44) \n",
      "Pvalue: 0.0 \n",
      "Вывод: различия есть (среднее группы 1 больше) \n",
      "\n",
      "Столбец: MntMeatProducts \n",
      "В группе 1: среднее значение 449.06, доверительный интервал (429.06, 469.05) \n",
      "В группе 2: среднее значение 102.2, доверительный интервал (96.25, 108.14) \n",
      "Pvalue: 0.0 \n",
      "Вывод: различия есть (среднее группы 1 больше) \n",
      "\n",
      "Столбец: MntFishProducts \n",
      "В группе 1: среднее значение 89.65, доверительный интервал (83.92, 95.37) \n",
      "В группе 2: среднее значение 28.83, доверительный интервал (26.45, 31.22) \n",
      "Pvalue: 0.0 \n",
      "Вывод: различия есть (среднее группы 1 больше) \n",
      "\n",
      "Столбец: MntSweetProducts \n",
      "В группе 1: среднее значение 64.5, доверительный интервал (60.15, 68.85) \n",
      "В группе 2: среднее значение 20.94, доверительный интервал (19.07, 22.81) \n",
      "Pvalue: 0.0 \n",
      "Вывод: различия есть (среднее группы 1 больше) \n",
      "\n",
      "Столбец: MntGoldProds \n",
      "В группе 1: среднее значение 79.18, доверительный интервал (73.94, 84.42) \n",
      "В группе 2: среднее значение 44.97, доверительный интервал (42.27, 47.67) \n",
      "Pvalue: 0.0 \n",
      "Вывод: различия есть (среднее группы 1 больше) \n",
      "\n"
     ]
    }
   ],
   "source": [
    "compare(many_total_sum, medium_total_sum, filter_lst)"
   ]
  },
  {
   "cell_type": "markdown",
   "id": "78d0b417",
   "metadata": {},
   "source": [
    "### Промежуточные выводы:\n",
    "значимые различия в следующих данных:\n",
    "- количество покупок преобладает у группы 1 во всех трех случаях\n",
    "- внутри обеих групп больше всего покупок совершается в магазинах\n",
    "- количество подростков у группы 2 в два раза больше \n",
    "- группа 2 чаще посещает сайт\n",
    "\n",
    "### Сравнение Pvalue групп \"тратят умеренно\" - \"тратят мало\"\n",
    "### Группа 1 - тратят умеренно, группа 2 - тратят мало"
   ]
  },
  {
   "cell_type": "code",
   "execution_count": 179,
   "id": "8b896abc",
   "metadata": {},
   "outputs": [
    {
     "name": "stdout",
     "output_type": "stream",
     "text": [
      "Столбец: Income \n",
      "В группе 1: среднее значение 50778.08, доверительный интервал (49845.6, 51710.56) \n",
      "В группе 2: среднее значение 30418.03, доверительный интервал (29519.98, 31316.08) \n",
      "Pvalue: 0.0 \n",
      "Вывод: различия есть (среднее группы 1 больше) \n",
      "\n",
      "Столбец: age \n",
      "В группе 1: среднее значение 55.23, доверительный интервал (54.55, 55.9) \n",
      "В группе 2: среднее значение 51.22, доверительный интервал (50.26, 52.18) \n",
      "Pvalue: 0.0 \n",
      "Вывод: различия есть (среднее группы 1 больше) \n",
      "\n",
      "Столбец: NumWebPurchases \n",
      "В группе 1: среднее значение 4.68, доверительный интервал (4.53, 4.83) \n",
      "В группе 2: среднее значение 1.39, доверительный интервал (1.33, 1.46) \n",
      "Pvalue: 0.0 \n",
      "Вывод: различия есть (среднее группы 1 больше) \n",
      "\n",
      "Столбец: NumStorePurchases \n",
      "В группе 1: среднее значение 6.02, доверительный интервал (5.85, 6.19) \n",
      "В группе 2: среднее значение 2.75, доверительный интервал (2.7, 2.81) \n",
      "Pvalue: 0.0 \n",
      "Вывод: различия есть (среднее группы 1 больше) \n",
      "\n",
      "Столбец: NumCatalogPurchases \n",
      "В группе 1: среднее значение 2.29, доверительный интервал (2.17, 2.42) \n",
      "В группе 2: среднее значение 0.21, доверительный интервал (0.17, 0.24) \n",
      "Pvalue: 0.0 \n",
      "Вывод: различия есть (среднее группы 1 больше) \n",
      "\n",
      "Столбец: Kidhome \n",
      "В группе 1: среднее значение 0.42, доверительный интервал (0.39, 0.45) \n",
      "В группе 2: среднее значение 0.86, доверительный интервал (0.82, 0.9) \n",
      "Pvalue: 0.0 \n",
      "Вывод: различия есть (среднее группы 2 больше) \n",
      "\n",
      "Столбец: Teenhome \n",
      "В группе 1: среднее значение 0.64, доверительный интервал (0.61, 0.67) \n",
      "В группе 2: среднее значение 0.43, доверительный интервал (0.39, 0.48) \n",
      "Pvalue: 0.0 \n",
      "Вывод: различия есть (среднее группы 1 больше) \n",
      "\n",
      "Столбец: Recency \n",
      "В группе 1: среднее значение 48.79, доверительный интервал (47.07, 50.51) \n",
      "В группе 2: среднее значение 48.88, доверительный интервал (46.51, 51.26) \n",
      "Pvalue: 0.9509 \n",
      "Вывод: различий нет \n",
      "\n",
      "Столбец: NumWebVisitsMonth \n",
      "В группе 1: среднее значение 5.58, доверительный интервал (5.44, 5.71) \n",
      "В группе 2: среднее значение 6.51, доверительный интервал (6.36, 6.67) \n",
      "Pvalue: 0.0 \n",
      "Вывод: различия есть (среднее группы 2 больше) \n",
      "\n",
      "Столбец: MntWines \n",
      "В группе 1: среднее значение 233.56, доверительный интервал (221.91, 245.21) \n",
      "В группе 2: среднее значение 13.97, доверительный интервал (13.0, 14.94) \n",
      "Pvalue: 0.0 \n",
      "Вывод: различия есть (среднее группы 1 больше) \n",
      "\n",
      "Столбец: MntFruits \n",
      "В группе 1: среднее значение 20.61, доверительный интервал (18.78, 22.44) \n",
      "В группе 2: среднее значение 2.4, доверительный интервал (2.16, 2.65) \n",
      "Pvalue: 0.0 \n",
      "Вывод: различия есть (среднее группы 1 больше) \n",
      "\n",
      "Столбец: MntMeatProducts \n",
      "В группе 1: среднее значение 102.2, доверительный интервал (96.25, 108.14) \n",
      "В группе 2: среднее значение 9.87, доверительный интервал (9.36, 10.38) \n",
      "Pvalue: 0.0 \n",
      "Вывод: различия есть (среднее группы 1 больше) \n",
      "\n",
      "Столбец: MntFishProducts \n",
      "В группе 1: среднее значение 28.83, доверительный интервал (26.45, 31.22) \n",
      "В группе 2: среднее значение 3.73, доверительный интервал (3.35, 4.11) \n",
      "Pvalue: 0.0 \n",
      "Вывод: различия есть (среднее группы 1 больше) \n",
      "\n",
      "Столбец: MntSweetProducts \n",
      "В группе 1: среднее значение 20.94, доверительный интервал (19.07, 22.81) \n",
      "В группе 2: среднее значение 2.54, доверительный интервал (2.26, 2.82) \n",
      "Pvalue: 0.0 \n",
      "Вывод: различия есть (среднее группы 1 больше) \n",
      "\n",
      "Столбец: MntGoldProds \n",
      "В группе 1: среднее значение 44.97, доверительный интервал (42.27, 47.67) \n",
      "В группе 2: среднее значение 7.32, доверительный интервал (6.79, 7.85) \n",
      "Pvalue: 0.0 \n",
      "Вывод: различия есть (среднее группы 1 больше) \n",
      "\n"
     ]
    }
   ],
   "source": [
    "compare(medium_total_sum, small_total_sum, filter_lst)"
   ]
  },
  {
   "cell_type": "markdown",
   "id": "cbd8c7bd",
   "metadata": {},
   "source": [
    "### Промежуточные выводы:\n",
    "значимые различия в следующих данных:\n",
    "- количество покупок преобладает у группы 1 во всех трех случаях\n",
    "- внутри обеих групп больше всего покупок совершается в магазинах\n",
    "- группа 2 практически не совершает покупки через каталог\n",
    "- количество детей группы 2 в два раза больше, чем у группы 1\n",
    "- подростки преобладают у группы 1\n",
    "- группа 1 чаще посещает сайт"
   ]
  },
  {
   "cell_type": "markdown",
   "id": "26d78db9",
   "metadata": {},
   "source": [
    "### Разделение клиентов на 3 группы по уровню дохода (0-25% - зарабатывают мало, 25-75% - зарабатывают умеренно, 75-100% - зарабатывают много)"
   ]
  },
  {
   "cell_type": "code",
   "execution_count": 180,
   "id": "339bafb1",
   "metadata": {},
   "outputs": [],
   "source": [
    "df['income_group'] = pd.qcut(df['Income'], [0, 0.25, 0.75, 1], labels = ['Зарабатывают мало', 'Зарабатывают умеренно', 'Зарабатывают много'])"
   ]
  },
  {
   "cell_type": "code",
   "execution_count": 181,
   "id": "d681f127",
   "metadata": {},
   "outputs": [],
   "source": [
    "high_income = df[df['income_group'] == 'Зарабатывают много']\n",
    "medium_income = df[df['income_group'] == 'Зарабатывают умеренно']\n",
    "low_income = df[df['income_group'] == 'Зарабатывают мало']"
   ]
  },
  {
   "cell_type": "markdown",
   "id": "dad97246",
   "metadata": {},
   "source": [
    "## Сравнение Pvalue групп по уровню дохода \n",
    "\n",
    "### Группа 1 - Зарабатывают много, Группа 2 - Зарабатывают мало"
   ]
  },
  {
   "cell_type": "code",
   "execution_count": 182,
   "id": "bd925b00",
   "metadata": {},
   "outputs": [
    {
     "name": "stdout",
     "output_type": "stream",
     "text": [
      "Столбец: Income \n",
      "В группе 1: среднее значение 78421.67, доверительный интервал (77817.96, 79025.39) \n",
      "В группе 2: среднее значение 25152.6, доверительный интервал (24536.15, 25769.05) \n",
      "Pvalue: 0.0 \n",
      "Вывод: различия есть (среднее группы 1 больше) \n",
      "\n",
      "Столбец: age \n",
      "В группе 1: среднее значение 55.22, доверительный интервал (54.13, 56.31) \n",
      "В группе 2: среднее значение 48.98, доверительный интервал (48.09, 49.86) \n",
      "Pvalue: 0.0 \n",
      "Вывод: различия есть (среднее группы 1 больше) \n",
      "\n",
      "Столбец: NumWebPurchases \n",
      "В группе 1: среднее значение 5.37, доверительный интервал (5.18, 5.57) \n",
      "В группе 2: среднее значение 2.01, доверительный интервал (1.85, 2.17) \n",
      "Pvalue: 0.0 \n",
      "Вывод: различия есть (среднее группы 1 больше) \n",
      "\n",
      "Столбец: NumStorePurchases \n",
      "В группе 1: среднее значение 8.46, доверительный интервал (8.23, 8.7) \n",
      "В группе 2: среднее значение 2.96, доверительный интервал (2.88, 3.04) \n",
      "Pvalue: 0.0 \n",
      "Вывод: различия есть (среднее группы 1 больше) \n",
      "\n",
      "Столбец: NumCatalogPurchases \n",
      "В группе 1: среднее значение 5.63, доверительный интервал (5.43, 5.84) \n",
      "В группе 2: среднее значение 0.48, доверительный интервал (0.37, 0.59) \n",
      "Pvalue: 0.0 \n",
      "Вывод: различия есть (среднее группы 1 больше) \n",
      "\n",
      "Столбец: Kidhome \n",
      "В группе 1: среднее значение 0.07, доверительный интервал (0.05, 0.1) \n",
      "В группе 2: среднее значение 0.79, доверительный интервал (0.75, 0.83) \n",
      "Pvalue: 0.0 \n",
      "Вывод: различия есть (среднее группы 2 больше) \n",
      "\n",
      "Столбец: Teenhome \n",
      "В группе 1: среднее значение 0.28, доверительный интервал (0.24, 0.32) \n",
      "В группе 2: среднее значение 0.25, доверительный интервал (0.21, 0.29) \n",
      "Pvalue: 0.2544 \n",
      "Вывод: различий нет \n",
      "\n",
      "Столбец: Recency \n",
      "В группе 1: среднее значение 48.77, доверительный интервал (46.3, 51.23) \n",
      "В группе 2: среднее значение 48.19, доверительный интервал (45.77, 50.6) \n",
      "Pvalue: 0.7415 \n",
      "Вывод: различий нет \n",
      "\n",
      "Столбец: NumWebVisitsMonth \n",
      "В группе 1: среднее значение 2.95, доверительный интервал (2.8, 3.1) \n",
      "В группе 2: среднее значение 7.0, доверительный интервал (6.83, 7.17) \n",
      "Pvalue: 0.0 \n",
      "Вывод: различия есть (среднее группы 2 больше) \n",
      "\n",
      "Столбец: MntWines \n",
      "В группе 1: среднее значение 644.41, доверительный интервал (617.15, 671.67) \n",
      "В группе 2: среднее значение 21.55, доверительный интервал (18.7, 24.41) \n",
      "Pvalue: 0.0 \n",
      "Вывод: различия есть (среднее группы 1 больше) \n",
      "\n",
      "Столбец: MntFruits \n",
      "В группе 1: среднее значение 61.32, доверительный интервал (57.25, 65.39) \n",
      "В группе 2: среднее значение 5.94, доверительный интервал (4.97, 6.91) \n",
      "Pvalue: 0.0 \n",
      "Вывод: различия есть (среднее группы 1 больше) \n",
      "\n",
      "Столбец: MntMeatProducts \n",
      "В группе 1: среднее значение 433.8, доверительный интервал (414.16, 453.45) \n",
      "В группе 2: среднее значение 22.68, доверительный интервал (16.21, 29.16) \n",
      "Pvalue: 0.0 \n",
      "Вывод: различия есть (среднее группы 1 больше) \n",
      "\n",
      "Столбец: MntFishProducts \n",
      "В группе 1: среднее значение 89.31, доверительный интервал (83.89, 94.73) \n",
      "В группе 2: среднее значение 8.66, доверительный интервал (7.23, 10.09) \n",
      "Pvalue: 0.0 \n",
      "Вывод: различия есть (среднее группы 1 больше) \n",
      "\n",
      "Столбец: MntSweetProducts \n",
      "В группе 1: среднее значение 66.06, доверительный интервал (61.66, 70.46) \n",
      "В группе 2: среднее значение 5.92, доверительный интервал (4.95, 6.88) \n",
      "Pvalue: 0.0 \n",
      "Вывод: различия есть (среднее группы 1 больше) \n",
      "\n",
      "Столбец: MntGoldProds \n",
      "В группе 1: среднее значение 72.94, доверительный интервал (67.89, 78.0) \n",
      "В группе 2: среднее значение 16.86, доверительный интервал (14.4, 19.31) \n",
      "Pvalue: 0.0 \n",
      "Вывод: различия есть (среднее группы 1 больше) \n",
      "\n"
     ]
    }
   ],
   "source": [
    "compare(high_income, low_income, filter_lst)"
   ]
  },
  {
   "cell_type": "markdown",
   "id": "c4985b57",
   "metadata": {},
   "source": [
    "### Группа 1 - Зарабатывают много, Группа 2 - Зарабатывают умеренно"
   ]
  },
  {
   "cell_type": "code",
   "execution_count": 183,
   "id": "4983e531",
   "metadata": {},
   "outputs": [
    {
     "name": "stdout",
     "output_type": "stream",
     "text": [
      "Столбец: Income \n",
      "В группе 1: среднее значение 78421.67, доверительный интервал (77817.96, 79025.39) \n",
      "В группе 2: среднее значение 51517.7, доверительный интервал (50940.21, 52095.19) \n",
      "Pvalue: 0.0 \n",
      "Вывод: различия есть (среднее группы 1 больше) \n",
      "\n",
      "Столбец: age \n",
      "В группе 1: среднее значение 55.22, доверительный интервал (54.13, 56.31) \n",
      "В группе 2: среднее значение 56.33, доверительный интервал (55.66, 56.99) \n",
      "Pvalue: 0.0749 \n",
      "Вывод: различий нет \n",
      "\n",
      "Столбец: NumWebPurchases \n",
      "В группе 1: среднее значение 5.37, доверительный интервал (5.18, 5.57) \n",
      "В группе 2: среднее значение 4.5, доверительный интервал (4.34, 4.66) \n",
      "Pvalue: 0.0 \n",
      "Вывод: различия есть (среднее группы 1 больше) \n",
      "\n",
      "Столбец: NumStorePurchases \n",
      "В группе 1: среднее значение 8.46, доверительный интервал (8.23, 8.7) \n",
      "В группе 2: среднее значение 5.94, доверительный интервал (5.76, 6.12) \n",
      "Pvalue: 0.0 \n",
      "Вывод: различия есть (среднее группы 1 больше) \n",
      "\n",
      "Столбец: NumCatalogPurchases \n",
      "В группе 1: среднее значение 5.63, доверительный интервал (5.43, 5.84) \n",
      "В группе 2: среднее значение 2.24, доверительный интервал (2.11, 2.37) \n",
      "Pvalue: 0.0 \n",
      "Вывод: различия есть (среднее группы 1 больше) \n",
      "\n",
      "Столбец: Kidhome \n",
      "В группе 1: среднее значение 0.07, доверительный интервал (0.05, 0.1) \n",
      "В группе 2: среднее значение 0.45, доверительный интервал (0.42, 0.48) \n",
      "Pvalue: 0.0 \n",
      "Вывод: различия есть (среднее группы 2 больше) \n",
      "\n",
      "Столбец: Teenhome \n",
      "В группе 1: среднее значение 0.28, доверительный интервал (0.24, 0.32) \n",
      "В группе 2: среднее значение 0.75, доверительный интервал (0.72, 0.78) \n",
      "Pvalue: 0.0 \n",
      "Вывод: различия есть (среднее группы 2 больше) \n",
      "\n",
      "Столбец: Recency \n",
      "В группе 1: среднее значение 48.77, доверительный интервал (46.3, 51.23) \n",
      "В группе 2: среднее значение 49.68, доверительный интервал (47.99, 51.38) \n",
      "Pvalue: 0.5459 \n",
      "Вывод: различий нет \n",
      "\n",
      "Столбец: NumWebVisitsMonth \n",
      "В группе 1: среднее значение 2.95, доверительный интервал (2.8, 3.1) \n",
      "В группе 2: среднее значение 5.69, доверительный интервал (5.58, 5.8) \n",
      "Pvalue: 0.0 \n",
      "Вывод: различия есть (среднее группы 2 больше) \n",
      "\n",
      "Столбец: MntWines \n",
      "В группе 1: среднее значение 644.41, доверительный интервал (617.15, 671.67) \n",
      "В группе 2: среднее значение 279.93, доверительный интервал (263.6, 296.25) \n",
      "Pvalue: 0.0 \n",
      "Вывод: различия есть (среднее группы 1 больше) \n",
      "\n",
      "Столбец: MntFruits \n",
      "В группе 1: среднее значение 61.32, доверительный интервал (57.25, 65.39) \n",
      "В группе 2: среднее значение 19.27, доверительный интервал (17.35, 21.19) \n",
      "Pvalue: 0.0 \n",
      "Вывод: различия есть (среднее группы 1 больше) \n",
      "\n",
      "Столбец: MntMeatProducts \n",
      "В группе 1: среднее значение 433.8, доверительный интервал (414.16, 453.45) \n",
      "В группе 2: среднее значение 102.98, доверительный интервал (95.9, 110.06) \n",
      "Pvalue: 0.0 \n",
      "Вывод: различия есть (среднее группы 1 больше) \n",
      "\n",
      "Столбец: MntFishProducts \n",
      "В группе 1: среднее значение 89.31, доверительный интервал (83.89, 94.73) \n",
      "В группе 2: среднее значение 26.41, доверительный интервал (23.87, 28.95) \n",
      "Pvalue: 0.0 \n",
      "Вывод: различия есть (среднее группы 1 больше) \n",
      "\n",
      "Столбец: MntSweetProducts \n",
      "В группе 1: среднее значение 66.06, доверительный интервал (61.66, 70.46) \n",
      "В группе 2: среднее значение 18.38, доверительный интервал (16.62, 20.13) \n",
      "Pvalue: 0.0 \n",
      "Вывод: различия есть (среднее группы 1 больше) \n",
      "\n",
      "Столбец: MntGoldProds \n",
      "В группе 1: среднее значение 72.94, доверительный интервал (67.89, 78.0) \n",
      "В группе 2: среднее значение 43.13, доверительный интервал (40.3, 45.97) \n",
      "Pvalue: 0.0 \n",
      "Вывод: различия есть (среднее группы 1 больше) \n",
      "\n"
     ]
    }
   ],
   "source": [
    "compare(high_income, medium_income, filter_lst)"
   ]
  },
  {
   "cell_type": "markdown",
   "id": "ed4be67a",
   "metadata": {},
   "source": [
    "### Группа 1 - Зарабатывают умеренно, Группа 2 - Зарабатывают мало"
   ]
  },
  {
   "cell_type": "code",
   "execution_count": 184,
   "id": "3491ac10",
   "metadata": {},
   "outputs": [
    {
     "name": "stdout",
     "output_type": "stream",
     "text": [
      "Столбец: Income \n",
      "В группе 1: среднее значение 51517.7, доверительный интервал (50940.21, 52095.19) \n",
      "В группе 2: среднее значение 25152.6, доверительный интервал (24536.15, 25769.05) \n",
      "Pvalue: 0.0 \n",
      "Вывод: различия есть (среднее группы 1 больше) \n",
      "\n",
      "Столбец: age \n",
      "В группе 1: среднее значение 56.33, доверительный интервал (55.66, 56.99) \n",
      "В группе 2: среднее значение 48.98, доверительный интервал (48.09, 49.86) \n",
      "Pvalue: 0.0 \n",
      "Вывод: различия есть (среднее группы 1 больше) \n",
      "\n",
      "Столбец: NumWebPurchases \n",
      "В группе 1: среднее значение 4.5, доверительный интервал (4.34, 4.66) \n",
      "В группе 2: среднее значение 2.01, доверительный интервал (1.85, 2.17) \n",
      "Pvalue: 0.0 \n",
      "Вывод: различия есть (среднее группы 1 больше) \n",
      "\n",
      "Столбец: NumStorePurchases \n",
      "В группе 1: среднее значение 5.94, доверительный интервал (5.76, 6.12) \n",
      "В группе 2: среднее значение 2.96, доверительный интервал (2.88, 3.04) \n",
      "Pvalue: 0.0 \n",
      "Вывод: различия есть (среднее группы 1 больше) \n",
      "\n",
      "Столбец: NumCatalogPurchases \n",
      "В группе 1: среднее значение 2.24, доверительный интервал (2.11, 2.37) \n",
      "В группе 2: среднее значение 0.48, доверительный интервал (0.37, 0.59) \n",
      "Pvalue: 0.0 \n",
      "Вывод: различия есть (среднее группы 1 больше) \n",
      "\n",
      "Столбец: Kidhome \n",
      "В группе 1: среднее значение 0.45, доверительный интервал (0.42, 0.48) \n",
      "В группе 2: среднее значение 0.79, доверительный интервал (0.75, 0.83) \n",
      "Pvalue: 0.0 \n",
      "Вывод: различия есть (среднее группы 2 больше) \n",
      "\n",
      "Столбец: Teenhome \n",
      "В группе 1: среднее значение 0.75, доверительный интервал (0.72, 0.78) \n",
      "В группе 2: среднее значение 0.25, доверительный интервал (0.21, 0.29) \n",
      "Pvalue: 0.0 \n",
      "Вывод: различия есть (среднее группы 1 больше) \n",
      "\n",
      "Столбец: Recency \n",
      "В группе 1: среднее значение 49.68, доверительный интервал (47.99, 51.38) \n",
      "В группе 2: среднее значение 48.19, доверительный интервал (45.77, 50.6) \n",
      "Pvalue: 0.3196 \n",
      "Вывод: различий нет \n",
      "\n",
      "Столбец: NumWebVisitsMonth \n",
      "В группе 1: среднее значение 5.69, доверительный интервал (5.58, 5.8) \n",
      "В группе 2: среднее значение 7.0, доверительный интервал (6.83, 7.17) \n",
      "Pvalue: 0.0 \n",
      "Вывод: различия есть (среднее группы 2 больше) \n",
      "\n",
      "Столбец: MntWines \n",
      "В группе 1: среднее значение 279.93, доверительный интервал (263.6, 296.25) \n",
      "В группе 2: среднее значение 21.55, доверительный интервал (18.7, 24.41) \n",
      "Pvalue: 0.0 \n",
      "Вывод: различия есть (среднее группы 1 больше) \n",
      "\n",
      "Столбец: MntFruits \n",
      "В группе 1: среднее значение 19.27, доверительный интервал (17.35, 21.19) \n",
      "В группе 2: среднее значение 5.94, доверительный интервал (4.97, 6.91) \n",
      "Pvalue: 0.0 \n",
      "Вывод: различия есть (среднее группы 1 больше) \n",
      "\n",
      "Столбец: MntMeatProducts \n",
      "В группе 1: среднее значение 102.98, доверительный интервал (95.9, 110.06) \n",
      "В группе 2: среднее значение 22.68, доверительный интервал (16.21, 29.16) \n",
      "Pvalue: 0.0 \n",
      "Вывод: различия есть (среднее группы 1 больше) \n",
      "\n",
      "Столбец: MntFishProducts \n",
      "В группе 1: среднее значение 26.41, доверительный интервал (23.87, 28.95) \n",
      "В группе 2: среднее значение 8.66, доверительный интервал (7.23, 10.09) \n",
      "Pvalue: 0.0 \n",
      "Вывод: различия есть (среднее группы 1 больше) \n",
      "\n",
      "Столбец: MntSweetProducts \n",
      "В группе 1: среднее значение 18.38, доверительный интервал (16.62, 20.13) \n",
      "В группе 2: среднее значение 5.92, доверительный интервал (4.95, 6.88) \n",
      "Pvalue: 0.0 \n",
      "Вывод: различия есть (среднее группы 1 больше) \n",
      "\n",
      "Столбец: MntGoldProds \n",
      "В группе 1: среднее значение 43.13, доверительный интервал (40.3, 45.97) \n",
      "В группе 2: среднее значение 16.86, доверительный интервал (14.4, 19.31) \n",
      "Pvalue: 0.0 \n",
      "Вывод: различия есть (среднее группы 1 больше) \n",
      "\n"
     ]
    }
   ],
   "source": [
    "compare(medium_income, low_income, filter_lst)"
   ]
  },
  {
   "cell_type": "markdown",
   "id": "3d860635",
   "metadata": {},
   "source": [
    "# Выводы по исследованию\n",
    "\n",
    "## Общая информация:\n",
    "- Портреты клиентов в нашем исследовании очень разнятся по всем показателям: по доходам, по расходам, в предпочтениях товаров, выборе источника покупок и прочем.  \n",
    "- В ходе исследования была выявлена прямая зависимость уровня трат от уровня дохода, в связи с чем было принято решение разбивать наших клиентов на 3 группы по нескольким параметрам: по уровню трат на разные категории товаров, по суммарному уровню трат на все категории товаров и по уровню доходов. В каждом исследовании клиенты группировались в порядке возрастания: **первые 25%** (для удобства будем называть их \"бедные клиенты\") - клиенты с низким уровнем трат/доходов (в исследованиях - категория \"мало\"), **50%** (\"средние клиенты\") - клиенты со средним уровнем расходов/доходов (в исследованиях - категория \"умеренно\") и **последние 25%** (\"богатые клиенты\") - клиенты с высоким уровнем расходов/доходов (в исследованиях - категория \"много\").  \n",
    "- Средний возраст клиентов 54 года, самый молодой 27 лет. Напрашивается расширение на более молодую аудиторию - детей и подростков.  \n",
    "- В ходе исследования было выявлено, что средний показатель количества дней с последней покупки в наших группах варьируется в районе 48-50 дней, что очень много для магазина, который продает, в основном, товары для повседневного потребления. Этот показатель необходимо значительно уменьшать, вероятно, недостаточно рекламы, и необходима активная внешняя маркетинговая кампания. \n",
    "- Наш магазин устраивал 5 промо-кампаний, в которых участвовало максимум 7.4% клиентов, из чего так же можно предположить, что были недостаточные рекламные акции.  \n",
    "\n",
    "## Выводы по группам\n",
    "### \"Бедные клиенты\"\n",
    "Клиенты, имеющие низкие доходы и расходы.  \n",
    "- Клиенты этой группы практически не совершают покупки с помощью каталога, а в основном в магазине, реже - через сайт. Но в то же время, они чаще остальных заходят на сайт, вероятно, чтобы узнать цены определенных товаров. В связи с этим можно предположить, что если мы будем размещать на сайте сообщения о скидках, то это повысит конверсию по покупкам.  \n",
    "- У этой группы наибольший средний показатель по количеству детей - 0.79. Можно начать торговать детскими товарами, детским питанием. У людей с маленькими детьми мало свободного времени, поэтому можно предложить им готовые идеи для быстрого приготовления завтрака/обеда/ужина.  \n",
    "- Что нужно клиенту с низким достатком, чтобы он возвращался к нам вновь и вновь? Недорогие товары. Надо реализовывать более доступную товарную линейку для таких клиентов.\n",
    "\n",
    "### \"Средние клиенты\"\n",
    "Клиенты, имеющие средние доходы и расходы.  \n",
    "- Клиенты этой группы совершают покупки и на сайте, и в магазине, и через каталог. Больше всего в магазине, меньше всего - каталог. Есть смысл распространять информацию о скидках и свежих поступлениях на сайте и в магазине. Можно периодически предлагать скидки на дорогие и премиальные товары.  \n",
    "- У этой группы наибольший показатель по количеству подростков - 0.75. Подросткам мы можем предложить варианты готовой еды, ланч-боксов. Это предложение может быть востребовано в период отпусков родителей, либо пока они на работе.  \n",
    "- Средний показатель по количеству детей в этой группе ниже - 0.45. Для них можно предложить более дорогие и качественные детские товары, питание, игрушки. Готовые идеи для завтрака/обеда/ужина так же могут иметь спрос.\n",
    "- Средний класс много работает и, поэтому, можно предложить ему готовую еду, для экономии его времени.  \n",
    "\n",
    "### \"Богатые клиенты\"\n",
    "Клиенты, имеющие высокие доходы и расходы.  \n",
    "- Клиенты этой группы совершают больше покупок, чем другие, из всех источников. Больше всего покупок производится в магазине, меньше всего - на сайте.  \n",
    "- Через каталог заказывают преимущественно клиенты из этой группы, поэтому имеет смысл продвигать в каталогах наиболее премиальную продукцию.  \n",
    "- На сайте они, совершают больше покупок, чем другие группы, поэтому там мы, в числе прочего, так же продвигаем премиальную продукцию.  \n",
    "- Они тратят большие суммы на вино и мясо, и совершают много покупок в физическом магазине, поэтому, имеет смысл обосновать в нем отделы с элитным алкоголем и стейками.  \n",
    "- У них довольно низкий средний показатель по подросткам (0.28) и детям (0.07), поэтому не имеет смысла разрабатывать для них отдельные решения.  \n",
    "\n",
    "### Общие предложения\n",
    "- Персонализированные спецпредложения в личном кабинете клиента могут увеличить конверсию. \n",
    "- Запуск мини пекарни в магазине. По мнению многих исследователей, запах свежей выпечки поднимает настроение и заставляет человека чувствовать себя более счастливым. Так же, он может пробудить аппетит и вынудить совершить импульсивные покупки.\n",
    "- Организовать доставку продуктов. Это может пользоваться спросом среди \"средних\" и \"богатых\" клиентов, так как будет экономить их время. "
   ]
  },
  {
   "cell_type": "code",
   "execution_count": null,
   "id": "b5517749",
   "metadata": {},
   "outputs": [],
   "source": []
  },
  {
   "cell_type": "code",
   "execution_count": null,
   "id": "d7d7f475",
   "metadata": {},
   "outputs": [],
   "source": []
  },
  {
   "cell_type": "code",
   "execution_count": null,
   "id": "e388fb61",
   "metadata": {},
   "outputs": [],
   "source": []
  }
 ],
 "metadata": {
  "kernelspec": {
   "display_name": "Python 3 (ipykernel)",
   "language": "python",
   "name": "python3"
  },
  "language_info": {
   "codemirror_mode": {
    "name": "ipython",
    "version": 3
   },
   "file_extension": ".py",
   "mimetype": "text/x-python",
   "name": "python",
   "nbconvert_exporter": "python",
   "pygments_lexer": "ipython3",
   "version": "3.9.12"
  }
 },
 "nbformat": 4,
 "nbformat_minor": 5
}
